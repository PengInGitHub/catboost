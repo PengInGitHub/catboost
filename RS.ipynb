{
 "cells": [
  {
   "cell_type": "code",
   "execution_count": null,
   "metadata": {},
   "outputs": [],
   "source": [
    "# Recommender Systems in Python 101\n",
    "# https://www.kaggle.com/gspmoreira/recommender-systems-in-python-101\n",
    "# tutorial on Recommender Systems\n",
    "# specifically how to implement Collaborative Filtering, Content Based Filtering and Hybrid Methods\n",
    "# in Python for the task of providing personalized recommendations to the user"
   ]
  },
  {
   "cell_type": "code",
   "execution_count": 47,
   "metadata": {},
   "outputs": [],
   "source": [
    "import pandas as pd\n",
    "import os\n",
    "import math"
   ]
  },
  {
   "cell_type": "code",
   "execution_count": 7,
   "metadata": {},
   "outputs": [
    {
     "data": {
      "text/plain": [
       "(3047, 13)"
      ]
     },
     "execution_count": 7,
     "metadata": {},
     "output_type": "execute_result"
    }
   ],
   "source": [
    "# shared acticles\n",
    "# df contains info of shared articles on the platform\n",
    "path = '/Users/pliu/Downloads/articles/'\n",
    "acticles_df = pd.read_csv(path+'shared_articles.csv')\n",
    "acticles_df = acticles_df[acticles_df.eventType=='CONTENT SHARED']\n",
    "acticles_df.shape"
   ]
  },
  {
   "cell_type": "code",
   "execution_count": 9,
   "metadata": {},
   "outputs": [
    {
     "data": {
      "text/plain": [
       "(72312, 8)"
      ]
     },
     "execution_count": 9,
     "metadata": {},
     "output_type": "execute_result"
    }
   ],
   "source": [
    "# user interactions\n",
    "# df contains log of user interactions on the article\n",
    "# join with articles on contentId\n",
    "# eventType: view, like, comment, follow, bookmark\n",
    "interactions_df = pd.read_csv(path+'users_interactions.csv')\n",
    "interactions_df.shape"
   ]
  },
  {
   "cell_type": "code",
   "execution_count": 14,
   "metadata": {},
   "outputs": [
    {
     "data": {
      "text/plain": [
       "eventType\n",
       "VIEW               61086\n",
       "LIKE                5745\n",
       "BOOKMARK            2463\n",
       "COMMENT CREATED     1611\n",
       "FOLLOW              1407\n",
       "dtype: int64"
      ]
     },
     "execution_count": 14,
     "metadata": {},
     "output_type": "execute_result"
    }
   ],
   "source": [
    "interactions_df.groupby(['eventType']).size().sort_values(ascending=False)"
   ]
  },
  {
   "cell_type": "code",
   "execution_count": 16,
   "metadata": {},
   "outputs": [
    {
     "data": {
      "text/plain": [
       "eventStrength\n",
       "1.0    61086\n",
       "2.0     5745\n",
       "2.5     2463\n",
       "3.0     1611\n",
       "4.0     1407\n",
       "dtype: int64"
      ]
     },
     "execution_count": 16,
     "metadata": {},
     "output_type": "execute_result"
    }
   ],
   "source": [
    "# encoding the engagement level of user event type\n",
    "event_type_strength = {\n",
    "    'VIEW':1.0,\n",
    "    'LIKE':2.0,\n",
    "    'BOOKMARK':2.5,\n",
    "    'COMMENT CREATED':3.0,\n",
    "    'FOLLOW':4.0\n",
    "}\n",
    "interactions_df['eventStrength'] = interactions_df['eventType'].map(event_type_strength)\n",
    "interactions_df.groupby(['eventStrength']).size().sort_values(ascending=False)"
   ]
  },
  {
   "cell_type": "code",
   "execution_count": 45,
   "metadata": {},
   "outputs": [
    {
     "name": "stdout",
     "output_type": "stream",
     "text": [
      "num of users have interactions: 1895\n",
      "num of users have enough interactions: 1140\n"
     ]
    }
   ],
   "source": [
    "# get users have no more than 5 interactions\n",
    "count_of_content_per_user = interactions_df.groupby(['personId', 'contentId']).size().groupby('personId').size()\n",
    "print(f'num of users have interactions: {len(count_of_content_per_user)}')\n",
    "count_of_content_per_user = count_of_content_per_user[count_of_content_per_user>=5].reset_index()[['personId']]\n",
    "print(f'num of users have enough interactions: {len(count_of_content_per_user)}')"
   ]
  },
  {
   "cell_type": "code",
   "execution_count": 46,
   "metadata": {},
   "outputs": [
    {
     "name": "stdout",
     "output_type": "stream",
     "text": [
      "num of interactions_df: 72312\n",
      "num of interactions of selected users that more than 5 interactions: 69868\n"
     ]
    }
   ],
   "source": [
    "# filter out interactions that were not interacted with \n",
    "# users who have more than 5 interactions\n",
    "# user right join\n",
    "print(f'num of interactions_df: {len(interactions_df)}')\n",
    "interactions_df_selected = interactions_df.merge(count_of_content_per_user,\n",
    "                                                how='right',\n",
    "                                                left_on='personId',\n",
    "                                                right_on='personId')\n",
    "print(f'num of interactions of selected users that more than 5 interactions: {len(interactions_df_selected)}')\n"
   ]
  },
  {
   "cell_type": "code",
   "execution_count": 48,
   "metadata": {},
   "outputs": [
    {
     "name": "stdout",
     "output_type": "stream",
     "text": [
      "num of unique user-item pair interactions: 39106\n"
     ]
    }
   ],
   "source": [
    "\"\"\" model the user's interest on a given item\n",
    " aggregate all the interactions the user has performed in an item\n",
    " by a WEIGHTED sum of interaction type strength\n",
    " and apply a log transformation to smooth the distribution\n",
    " specifically: \n",
    "     1. group interactions by user and content \n",
    "     2. sum event type score\n",
    "     3. log trans the score\n",
    "\"\"\"\n",
    "interactions_user_item_score = interactions_df_selected \\\n",
    ".groupby(['personId', 'contentId'])['eventStrength'].sum() \\\n",
    ".apply(lambda x: math.log(1+x,2)).reset_index()\n",
    "print(f'num of unique user-item pair interactions: {len(interactions_user_item_score)}')\n"
   ]
  },
  {
   "cell_type": "code",
   "execution_count": 49,
   "metadata": {},
   "outputs": [
    {
     "data": {
      "text/html": [
       "<div>\n",
       "<style scoped>\n",
       "    .dataframe tbody tr th:only-of-type {\n",
       "        vertical-align: middle;\n",
       "    }\n",
       "\n",
       "    .dataframe tbody tr th {\n",
       "        vertical-align: top;\n",
       "    }\n",
       "\n",
       "    .dataframe thead th {\n",
       "        text-align: right;\n",
       "    }\n",
       "</style>\n",
       "<table border=\"1\" class=\"dataframe\">\n",
       "  <thead>\n",
       "    <tr style=\"text-align: right;\">\n",
       "      <th></th>\n",
       "      <th>personId</th>\n",
       "      <th>contentId</th>\n",
       "      <th>eventStrength</th>\n",
       "    </tr>\n",
       "  </thead>\n",
       "  <tbody>\n",
       "    <tr>\n",
       "      <th>0</th>\n",
       "      <td>-9223121837663643404</td>\n",
       "      <td>-8949113594875411859</td>\n",
       "      <td>1.0</td>\n",
       "    </tr>\n",
       "    <tr>\n",
       "      <th>1</th>\n",
       "      <td>-9223121837663643404</td>\n",
       "      <td>-8377626164558006982</td>\n",
       "      <td>1.0</td>\n",
       "    </tr>\n",
       "    <tr>\n",
       "      <th>2</th>\n",
       "      <td>-9223121837663643404</td>\n",
       "      <td>-8208801367848627943</td>\n",
       "      <td>1.0</td>\n",
       "    </tr>\n",
       "  </tbody>\n",
       "</table>\n",
       "</div>"
      ],
      "text/plain": [
       "              personId            contentId  eventStrength\n",
       "0 -9223121837663643404 -8949113594875411859            1.0\n",
       "1 -9223121837663643404 -8377626164558006982            1.0\n",
       "2 -9223121837663643404 -8208801367848627943            1.0"
      ]
     },
     "execution_count": 49,
     "metadata": {},
     "output_type": "execute_result"
    }
   ],
   "source": [
    "interactions_user_item_score.head(3)"
   ]
  },
  {
   "cell_type": "code",
   "execution_count": null,
   "metadata": {},
   "outputs": [],
   "source": [
    "# Evaluation"
   ]
  },
  {
   "cell_type": "code",
   "execution_count": null,
   "metadata": {},
   "outputs": [],
   "source": []
  },
  {
   "cell_type": "code",
   "execution_count": null,
   "metadata": {},
   "outputs": [],
   "source": []
  },
  {
   "cell_type": "code",
   "execution_count": null,
   "metadata": {},
   "outputs": [],
   "source": []
  },
  {
   "cell_type": "code",
   "execution_count": null,
   "metadata": {},
   "outputs": [],
   "source": []
  },
  {
   "cell_type": "code",
   "execution_count": null,
   "metadata": {},
   "outputs": [],
   "source": []
  },
  {
   "cell_type": "code",
   "execution_count": null,
   "metadata": {},
   "outputs": [],
   "source": []
  },
  {
   "cell_type": "code",
   "execution_count": null,
   "metadata": {},
   "outputs": [],
   "source": []
  }
 ],
 "metadata": {
  "kernelspec": {
   "display_name": "Python 3",
   "language": "python",
   "name": "python3"
  },
  "language_info": {
   "codemirror_mode": {
    "name": "ipython",
    "version": 3
   },
   "file_extension": ".py",
   "mimetype": "text/x-python",
   "name": "python",
   "nbconvert_exporter": "python",
   "pygments_lexer": "ipython3",
   "version": "3.6.6"
  }
 },
 "nbformat": 4,
 "nbformat_minor": 2
}

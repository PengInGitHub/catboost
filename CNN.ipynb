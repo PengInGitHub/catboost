{
 "cells": [
  {
   "cell_type": "markdown",
   "metadata": {},
   "source": [
    "# 1. Data Preparation"
   ]
  },
  {
   "cell_type": "markdown",
   "metadata": {},
   "source": [
    "## 1.1 Load Data"
   ]
  },
  {
   "cell_type": "code",
   "execution_count": 1,
   "metadata": {},
   "outputs": [
    {
     "name": "stderr",
     "output_type": "stream",
     "text": [
      "Using TensorFlow backend.\n"
     ]
    }
   ],
   "source": [
    "import pandas as pd\n",
    "import seaborn as sns\n",
    "sns.set(style='white', context='notebook', palette='deep')\n",
    "from keras.utils.np_utils import to_categorical\n",
    "from sklearn.model_selection import train_test_split\n",
    "import matplotlib.pyplot as plt\n",
    "%matplotlib inline"
   ]
  },
  {
   "cell_type": "code",
   "execution_count": 2,
   "metadata": {},
   "outputs": [
    {
     "data": {
      "text/plain": [
       "(28000, 784)"
      ]
     },
     "execution_count": 2,
     "metadata": {},
     "output_type": "execute_result"
    }
   ],
   "source": [
    "path = '/Users/pliu/Downloads/mnist/'\n",
    "train, test = pd.read_csv(path+'train.csv'), pd.read_csv(path+'test.csv') \n",
    "train.shape #(42000, 785)\n",
    "test.shape #(28000, 784)"
   ]
  },
  {
   "cell_type": "code",
   "execution_count": 3,
   "metadata": {},
   "outputs": [],
   "source": [
    "Y_train, X_train = train['label'], train.drop(['label'], axis=1)"
   ]
  },
  {
   "cell_type": "code",
   "execution_count": 4,
   "metadata": {},
   "outputs": [],
   "source": [
    "# free some space\n",
    "del train"
   ]
  },
  {
   "cell_type": "code",
   "execution_count": 5,
   "metadata": {},
   "outputs": [
    {
     "data": {
      "text/plain": [
       "<matplotlib.axes._subplots.AxesSubplot at 0x102d78f60>"
      ]
     },
     "execution_count": 5,
     "metadata": {},
     "output_type": "execute_result"
    },
    {
     "data": {
      "image/png": "[encoded data removed]",
      "text/plain": [
       "<Figure size 432x288 with 1 Axes>"
      ]
     },
     "metadata": {
      "needs_background": "light"
     },
     "output_type": "display_data"
    }
   ],
   "source": [
    "# check distribution of target var\n",
    "sns.countplot(Y_train)\n",
    "# findings: balanced distribution"
   ]
  },
  {
   "cell_type": "markdown",
   "metadata": {},
   "source": [
    "## 1.2 Missing Value"
   ]
  },
  {
   "cell_type": "code",
   "execution_count": 6,
   "metadata": {},
   "outputs": [
    {
     "data": {
      "text/html": [
       "<div>\n",
       "<style scoped>\n",
       "    .dataframe tbody tr th:only-of-type {\n",
       "        vertical-align: middle;\n",
       "    }\n",
       "\n",
       "    .dataframe tbody tr th {\n",
       "        vertical-align: top;\n",
       "    }\n",
       "\n",
       "    .dataframe thead th {\n",
       "        text-align: right;\n",
       "    }\n",
       "</style>\n",
       "<table border=\"1\" class=\"dataframe\">\n",
       "  <thead>\n",
       "    <tr style=\"text-align: right;\">\n",
       "      <th></th>\n",
       "      <th>Total</th>\n",
       "      <th>Percent</th>\n",
       "    </tr>\n",
       "  </thead>\n",
       "  <tbody>\n",
       "    <tr>\n",
       "      <th>pixel783</th>\n",
       "      <td>0</td>\n",
       "      <td>0.0</td>\n",
       "    </tr>\n",
       "    <tr>\n",
       "      <th>pixel268</th>\n",
       "      <td>0</td>\n",
       "      <td>0.0</td>\n",
       "    </tr>\n",
       "    <tr>\n",
       "      <th>pixel266</th>\n",
       "      <td>0</td>\n",
       "      <td>0.0</td>\n",
       "    </tr>\n",
       "    <tr>\n",
       "      <th>pixel265</th>\n",
       "      <td>0</td>\n",
       "      <td>0.0</td>\n",
       "    </tr>\n",
       "    <tr>\n",
       "      <th>pixel264</th>\n",
       "      <td>0</td>\n",
       "      <td>0.0</td>\n",
       "    </tr>\n",
       "    <tr>\n",
       "      <th>pixel263</th>\n",
       "      <td>0</td>\n",
       "      <td>0.0</td>\n",
       "    </tr>\n",
       "    <tr>\n",
       "      <th>pixel262</th>\n",
       "      <td>0</td>\n",
       "      <td>0.0</td>\n",
       "    </tr>\n",
       "    <tr>\n",
       "      <th>pixel261</th>\n",
       "      <td>0</td>\n",
       "      <td>0.0</td>\n",
       "    </tr>\n",
       "    <tr>\n",
       "      <th>pixel260</th>\n",
       "      <td>0</td>\n",
       "      <td>0.0</td>\n",
       "    </tr>\n",
       "    <tr>\n",
       "      <th>pixel259</th>\n",
       "      <td>0</td>\n",
       "      <td>0.0</td>\n",
       "    </tr>\n",
       "    <tr>\n",
       "      <th>pixel258</th>\n",
       "      <td>0</td>\n",
       "      <td>0.0</td>\n",
       "    </tr>\n",
       "    <tr>\n",
       "      <th>pixel257</th>\n",
       "      <td>0</td>\n",
       "      <td>0.0</td>\n",
       "    </tr>\n",
       "    <tr>\n",
       "      <th>pixel256</th>\n",
       "      <td>0</td>\n",
       "      <td>0.0</td>\n",
       "    </tr>\n",
       "    <tr>\n",
       "      <th>pixel255</th>\n",
       "      <td>0</td>\n",
       "      <td>0.0</td>\n",
       "    </tr>\n",
       "    <tr>\n",
       "      <th>pixel254</th>\n",
       "      <td>0</td>\n",
       "      <td>0.0</td>\n",
       "    </tr>\n",
       "    <tr>\n",
       "      <th>pixel253</th>\n",
       "      <td>0</td>\n",
       "      <td>0.0</td>\n",
       "    </tr>\n",
       "    <tr>\n",
       "      <th>pixel252</th>\n",
       "      <td>0</td>\n",
       "      <td>0.0</td>\n",
       "    </tr>\n",
       "    <tr>\n",
       "      <th>pixel251</th>\n",
       "      <td>0</td>\n",
       "      <td>0.0</td>\n",
       "    </tr>\n",
       "    <tr>\n",
       "      <th>pixel250</th>\n",
       "      <td>0</td>\n",
       "      <td>0.0</td>\n",
       "    </tr>\n",
       "    <tr>\n",
       "      <th>pixel249</th>\n",
       "      <td>0</td>\n",
       "      <td>0.0</td>\n",
       "    </tr>\n",
       "  </tbody>\n",
       "</table>\n",
       "</div>"
      ],
      "text/plain": [
       "          Total  Percent\n",
       "pixel783      0      0.0\n",
       "pixel268      0      0.0\n",
       "pixel266      0      0.0\n",
       "pixel265      0      0.0\n",
       "pixel264      0      0.0\n",
       "pixel263      0      0.0\n",
       "pixel262      0      0.0\n",
       "pixel261      0      0.0\n",
       "pixel260      0      0.0\n",
       "pixel259      0      0.0\n",
       "pixel258      0      0.0\n",
       "pixel257      0      0.0\n",
       "pixel256      0      0.0\n",
       "pixel255      0      0.0\n",
       "pixel254      0      0.0\n",
       "pixel253      0      0.0\n",
       "pixel252      0      0.0\n",
       "pixel251      0      0.0\n",
       "pixel250      0      0.0\n",
       "pixel249      0      0.0"
      ]
     },
     "execution_count": 6,
     "metadata": {},
     "output_type": "execute_result"
    }
   ],
   "source": [
    "# Missing value statistics\n",
    "def missing_data(df=X_train):\n",
    "    total = df.isnull().sum().sort_values(ascending=False)\n",
    "    percent = (df.isnull().sum() / df.isnull().count()).sort_values(ascending=False)\n",
    "    missing_data = pd.concat([total, percent], axis=1, keys=['Total', 'Percent'])\n",
    "    return missing_data\n",
    "missing_data().head(20) # no missing values\n",
    "missing_data(test).head(20) # no missing values"
   ]
  },
  {
   "cell_type": "markdown",
   "metadata": {},
   "source": [
    "## 1.3 Normalization"
   ]
  },
  {
   "cell_type": "code",
   "execution_count": 19,
   "metadata": {},
   "outputs": [],
   "source": [
    "# perform a grayscale normalization\n",
    "# reason: 1. reduce the effect of scaling 2. accelerate converge\n",
    "# normalize the data\n",
    "X_train = X_train / 255.0\n",
    "test = test / 255.0"
   ]
  },
  {
   "cell_type": "markdown",
   "metadata": {},
   "source": [
    "## 1.4 Reshape"
   ]
  },
  {
   "cell_type": "code",
   "execution_count": 7,
   "metadata": {},
   "outputs": [],
   "source": [
    "# reshape image in 3 Dimensions (height = 28px, width = 28px, canal = 1)\n",
    "X_train = X_train.values.reshape(-1, 28, 28, 1)\n",
    "test = test.values.reshape(-1, 28, 28, 1)"
   ]
  },
  {
   "cell_type": "code",
   "execution_count": 8,
   "metadata": {},
   "outputs": [
    {
     "data": {
      "text/plain": [
       "(42000, 28, 28, 1)"
      ]
     },
     "execution_count": 8,
     "metadata": {},
     "output_type": "execute_result"
    }
   ],
   "source": [
    "# X_train before reshaping is a Pandas.DataFrame which has 42k rows and 784 (28*28) features\n",
    "X_train.shape # 42000 observations in 3D format: width 28, height 28, canal 1"
   ]
  },
  {
   "cell_type": "markdown",
   "metadata": {},
   "source": [
    "## 1.5 Label Encoding"
   ]
  },
  {
   "cell_type": "code",
   "execution_count": 9,
   "metadata": {},
   "outputs": [],
   "source": [
    "# label vector from 1-D to hot-encoding\n",
    "Y_train = to_categorical(Y_train, num_classes=10) #numpy.ndarray"
   ]
  },
  {
   "cell_type": "code",
   "execution_count": 10,
   "metadata": {},
   "outputs": [
    {
     "data": {
      "text/plain": [
       "array([1., 0., 0., 0., 0., 0., 0., 0., 0., 0.], dtype=float32)"
      ]
     },
     "execution_count": 10,
     "metadata": {},
     "output_type": "execute_result"
    }
   ],
   "source": [
    "Y_train[1]"
   ]
  },
  {
   "cell_type": "markdown",
   "metadata": {},
   "source": [
    "## 1.6 Split dataset"
   ]
  },
  {
   "cell_type": "code",
   "execution_count": 11,
   "metadata": {},
   "outputs": [],
   "source": [
    "X_train, X_val, Y_train, Y_val = train_test_split(X_train, Y_train, test_size=0.1, random_state=2)"
   ]
  },
  {
   "cell_type": "code",
   "execution_count": 17,
   "metadata": {},
   "outputs": [
    {
     "data": {
      "image/png": "[encoded data removed]",
      "text/plain": [
       "<Figure size 432x288 with 1 Axes>"
      ]
     },
     "metadata": {
      "needs_background": "light"
     },
     "output_type": "display_data"
    }
   ],
   "source": [
    "# have a look at the data\n",
    "g = plt.imshow(X_train[1111][:,:,0])"
   ]
  },
  {
   "cell_type": "markdown",
   "metadata": {},
   "source": [
    "# 2. CNN"
   ]
  },
  {
   "cell_type": "markdown",
   "metadata": {},
   "source": [
    "## 2.1 Define the model"
   ]
  },
  {
   "cell_type": "code",
   "execution_count": null,
   "metadata": {},
   "outputs": [],
   "source": [
    "# use Keras Sequential API - add one layer at a time, starting from the input\n",
    "# 1st layer: Conv2D - convolutional layer\n",
    "# set 32 filters for the two firsts conv2D layers\n",
    "# set 64 filters for the two lasts ones\n",
    "# each filter transforms a part of the image using the kernel filter\n",
    "# filter can be seen as a transformation of the image\n",
    "\n",
    "# 2nd layer: pooling layer (MaxPool2D)\n",
    "# acts as a down-sampling filter\n",
    "# used to reduce computational cost and overfitting\n",
    "# have to choose the pooling size (the area size pooled each time)\n",
    "# the higher the pooling dimension, the more important the downsampling is\n",
    "\n",
    "# dropout: the regularization method - setting a proportion of nodes' weights to zero\n",
    "# improves generalization and reduces overfitting\n",
    "\n",
    "# relu: the activation func max(0, x) \n",
    "# add non-linearity to the network\n",
    "\n",
    "# Flatten layer - map the final features into a one single 1D vector\n",
    "# so as to mke use of fully connected layers after some convolutional / maxpool layers\n",
    "# it combines all the found local features of the previous convolutional layers\n",
    "\n",
    "# Dense in the last layer\n",
    "# implement two fully-connected (Dense) layers which is just ANN classifier\n",
    "# (Dense(10, activation='softmax')) outputs the probability of each class\n",
    "\n",
    "# CNN architechture: \n",
    "#    Input -> [[Conv2D -> relu] * 2 -> MaxPool2D -> Dropout] * 2 -> Flatten -> Dense -> Dropout -> Output"
   ]
  },
  {
   "cell_type": "code",
   "execution_count": 46,
   "metadata": {},
   "outputs": [],
   "source": [
    "from keras.models import Sequential\n",
    "from keras.layers import Dense, Dropout, Flatten, Conv2D, MaxPool2D\n",
    "from keras.optimizers import RMSprop\n",
    "from keras.preprocessing.image import ImageDataGenerator\n",
    "from keras.callbacks import ReduceLROnPlateau\n",
    "from sklearn.metrics import confusion_matrix\n",
    "import itertools"
   ]
  },
  {
   "cell_type": "code",
   "execution_count": 19,
   "metadata": {},
   "outputs": [],
   "source": [
    "# use Keras Sequential API, just to add one layer at a time\n",
    "model = Sequential()\n",
    "\n",
    "# add the first layer - Conv2D for two times\n",
    "# Conv2D is like a set of learnable filters\n",
    "\n",
    "# what is kernel in Conv2D ??\n",
    "model.add(Conv2D(filters=32, kernel_size=(5,5), padding='Same', activation='relu', input_shape=(28,28,1)))\n",
    "model.add(Conv2D(filters=32, kernel_size=(5,5), padding='Same', activation='relu'))\n",
    "\n",
    "# add the 2nd layer in CNN: the pooling layer\n",
    "# MaxPool2D - a downsampling filter\n",
    "# reduce computational cost and overfitting\n",
    "\n",
    "model.add(MaxPool2D(pool_size=(2,2)))\n",
    "\n",
    "# add regularization, improve generalization and reduces overfitting\n",
    "model.add(Dropout(0.25))\n",
    "\n",
    "# add Flatten\n",
    "model.add(Flatten())\n",
    "\n",
    "# add Dense() fully-connected layers\n",
    "model.add(Dense(256, activation = 'relu'))\n",
    "\n",
    "model.add(Dropout(0.5))\n",
    "model.add(Dense(10, activation='softmax'))"
   ]
  },
  {
   "cell_type": "markdown",
   "metadata": {},
   "source": [
    "## 2.2 Setup optimizer and annealer"
   ]
  },
  {
   "cell_type": "code",
   "execution_count": 20,
   "metadata": {},
   "outputs": [],
   "source": [
    "# evaluation - categorical_crossentropy\n",
    "\n",
    "# optimizer - RMSprop\n",
    "optimizer = RMSprop(lr=0.001, rho=0.9, epsilon=1e-08, decay=0.0)\n",
    "\n",
    "# metric function - accuracy - only for evaluation not for training\n",
    "\n",
    "# compile the model\n",
    "model.compile(optimizer=optimizer, loss='categorical_crossentropy', metrics=['accuracy'])"
   ]
  },
  {
   "cell_type": "code",
   "execution_count": 29,
   "metadata": {},
   "outputs": [],
   "source": [
    "# dynamic Learning Rate\n",
    "# set up a learning rate annelar - ReduceLROnPlateau from keras.callbacks\n",
    "# rule: reduce LR by half if the accuracy is not improved after 3 epochs\n",
    "learning_rate_reduction = ReduceLROnPlateau(monitor='val_auc',\n",
    "                                            patience=3,\n",
    "                                            verbose=1,\n",
    "                                            factor=0.5,\n",
    "                                            min_lr=0.00001)\n",
    "\n",
    "# some other parameters\n",
    "epochs, batch_size = 8, 86"
   ]
  },
  {
   "cell_type": "markdown",
   "metadata": {},
   "source": [
    "## 2.3 Data augmentation"
   ]
  },
  {
   "cell_type": "code",
   "execution_count": 30,
   "metadata": {},
   "outputs": [],
   "source": [
    "# expand dataset artifically in order to avoid overfitting problem\n",
    "# make existing dataset even larger\n",
    "# how? alter the training data with small transformation to reproduce the variations\n",
    "# occuring when someone is writting a digit\n",
    "\n",
    "# data augmentation: grayscales, horizontal flips, vertical flips,\n",
    "# random crops, color jitters, translations, rotations etc.\n",
    "\n",
    "# use data augumentation to prevent from overfitting\n",
    "datagen = ImageDataGenerator(featurewise_center=False, # set input mean to zero over the dataset\n",
    "                             samplewise_center=False, # set each sample mean to 0\n",
    "                             featurewise_std_normalization=False, # divide inputs by dataset std\n",
    "                             samplewise_std_normalization=False, # divide each input by its std\n",
    "                             zca_whitening=False, # apply ZCA whitening\n",
    "                             rotation_range=10, # randomly rotate images in the range(degrees 0 to 180)\n",
    "                             zoom_range=0.1, # randomly zoom image\n",
    "                             width_shift_range=0.1, # randomly shift img horizontally (fraction of total width)\n",
    "                             height_shift_range=0.1, # randomly shift img vertically (fraction of total height)\n",
    "                             horizontal_flip=False, # randomly flip img\n",
    "                             vertical_flip=False) # # randomly flip img\n",
    "\n",
    "datagen.fit(X_train)"
   ]
  },
  {
   "cell_type": "code",
   "execution_count": 31,
   "metadata": {},
   "outputs": [
    {
     "name": "stdout",
     "output_type": "stream",
     "text": [
      "Epoch 1/8\n",
      " - 214s - loss: 6.7577 - acc: 0.5786 - val_loss: 5.3960 - val_acc: 0.6645\n",
      "Epoch 2/8\n",
      " - 208s - loss: 6.5056 - acc: 0.5952 - val_loss: 5.0445 - val_acc: 0.6869\n",
      "Epoch 3/8\n",
      " - 220s - loss: 6.6116 - acc: 0.5886 - val_loss: 5.1015 - val_acc: 0.6831\n",
      "Epoch 4/8\n",
      " - 229s - loss: 6.5400 - acc: 0.5932 - val_loss: 4.7327 - val_acc: 0.7055\n",
      "Epoch 5/8\n",
      " - 213s - loss: 6.3427 - acc: 0.6054 - val_loss: 5.0170 - val_acc: 0.6881\n",
      "Epoch 6/8\n",
      " - 170s - loss: 5.9634 - acc: 0.6291 - val_loss: 3.7995 - val_acc: 0.7640\n",
      "Epoch 7/8\n",
      " - 170s - loss: 5.7704 - acc: 0.6411 - val_loss: 3.7153 - val_acc: 0.7693\n",
      "Epoch 8/8\n",
      " - 171s - loss: 5.7584 - acc: 0.6421 - val_loss: 4.0180 - val_acc: 0.7507\n"
     ]
    }
   ],
   "source": [
    "# fit the model\n",
    "history = model.fit_generator(datagen.flow(X_train, Y_train, batch_size=batch_size),\n",
    "                              epochs=epochs, validation_data=(X_val, Y_val),\n",
    "                              verbose=2, steps_per_epoch=X_train.shape[0] // batch_size,\n",
    "                              callbacks=[learning_rate_reduction])"
   ]
  },
  {
   "cell_type": "code",
   "execution_count": 33,
   "metadata": {
    "collapsed": true
   },
   "outputs": [
    {
     "ename": "NameError",
     "evalue": "name 'np' is not defined",
     "output_type": "error",
     "traceback": [
      "\u001b[0;31m---------------------------------------------------------------------------\u001b[0m",
      "\u001b[0;31mNameError\u001b[0m                                 Traceback (most recent call last)",
      "\u001b[0;32m<ipython-input-33-5ef3f215ccdb>\u001b[0m in \u001b[0;36m<module>\u001b[0;34m\u001b[0m\n\u001b[1;32m      3\u001b[0m \u001b[0;34m\u001b[0m\u001b[0m\n\u001b[1;32m      4\u001b[0m \u001b[0;31m# select the index of with the max probability\u001b[0m\u001b[0;34m\u001b[0m\u001b[0;34m\u001b[0m\u001b[0m\n\u001b[0;32m----> 5\u001b[0;31m \u001b[0mresults\u001b[0m \u001b[0;34m=\u001b[0m \u001b[0mnp\u001b[0m\u001b[0;34m.\u001b[0m\u001b[0margmax\u001b[0m\u001b[0;34m(\u001b[0m\u001b[0mresults\u001b[0m\u001b[0;34m,\u001b[0m \u001b[0maxis\u001b[0m\u001b[0;34m=\u001b[0m\u001b[0;36m1\u001b[0m\u001b[0;34m)\u001b[0m\u001b[0;34m\u001b[0m\u001b[0m\n\u001b[0m\u001b[1;32m      6\u001b[0m \u001b[0;34m\u001b[0m\u001b[0m\n\u001b[1;32m      7\u001b[0m \u001b[0mresults\u001b[0m \u001b[0;34m=\u001b[0m \u001b[0mpd\u001b[0m\u001b[0;34m.\u001b[0m\u001b[0mSeries\u001b[0m\u001b[0;34m(\u001b[0m\u001b[0mresults\u001b[0m\u001b[0;34m,\u001b[0m \u001b[0mname\u001b[0m\u001b[0;34m=\u001b[0m\u001b[0;34m'Label'\u001b[0m\u001b[0;34m)\u001b[0m\u001b[0;34m\u001b[0m\u001b[0m\n",
      "\u001b[0;31mNameError\u001b[0m: name 'np' is not defined"
     ]
    }
   ],
   "source": [
    "# submission\n",
    "results = model.predict(test)"
   ]
  },
  {
   "cell_type": "code",
   "execution_count": 34,
   "metadata": {},
   "outputs": [],
   "source": [
    "# select the index of with the max probability\n",
    "import numpy as np\n",
    "results = np.argmax(results, axis=1)\n",
    "\n",
    "results = pd.Series(results, name='Label')\n",
    "\n",
    "ids = pd.Series(range(1,28001), name='ImageId')\n",
    "\n",
    "submission = pd.concat([ids, results], axis=1)\n",
    "\n",
    "submission.to_csv('cnn_mnist.csv', index=False)"
   ]
  },
  {
   "cell_type": "markdown",
   "metadata": {},
   "source": [
    "# 3. Evaluate the Model"
   ]
  },
  {
   "cell_type": "markdown",
   "metadata": {},
   "source": [
    "## 3.1 Training and validation curves"
   ]
  },
  {
   "cell_type": "code",
   "execution_count": 38,
   "metadata": {},
   "outputs": [
    {
     "data": {
      "image/png": "[encoded data removed]",
      "text/plain": [
       "<Figure size 432x288 with 2 Axes>"
      ]
     },
     "metadata": {
      "needs_background": "light"
     },
     "output_type": "display_data"
    }
   ],
   "source": [
    "# plot the loss and accuracy curve for training and validation\n",
    "fig, ax = plt.subplots(2, 1)\n",
    "# history.history is a dict with key[val_loss, val_acc, loss, acc] and values [value for value in epoch]\n",
    "ax[0].plot(history.history['loss'], color='b', label='Training Loss')\n",
    "ax[0].plot(history.history['val_loss'], color='r', label='Validation Loss', axes=ax[0])\n",
    "legend = ax[0].legend(loc='best', shadow=True)\n",
    "\n",
    "ax[1].plot(history.history['acc'], color='b', label='Training Accuracy')\n",
    "ax[1].plot(history.history['val_acc'], color='r', label='Validation Accuracy')\n",
    "legend = ax[1].legend(loc='best', shadow=True)"
   ]
  },
  {
   "cell_type": "markdown",
   "metadata": {},
   "source": [
    "## 3.2 Confusion Matrix"
   ]
  },
  {
   "cell_type": "code",
   "execution_count": 42,
   "metadata": {},
   "outputs": [],
   "source": [
    "# print the values from the validation dataset\n",
    "Y_pred = model.predict(X_val)\n",
    "\n",
    "# Convert predictions classes to one hot encoders\n",
    "Y_pred_classes = np.argmax(Y_pred, axis=1)\n",
    "\n",
    "# convert validation observation to one hot encoders\n",
    "Y_true = np.argmax(Y_val, axis=1)\n",
    "\n",
    "# compute confusion matrix\n",
    "confusion_mtx = confusion_matrix(Y_true, Y_pred_classes)"
   ]
  },
  {
   "cell_type": "code",
   "execution_count": 48,
   "metadata": {},
   "outputs": [
    {
     "data": {
      "image/png": "[encoded data removed]",
      "text/plain": [
       "<Figure size 432x288 with 2 Axes>"
      ]
     },
     "metadata": {
      "needs_background": "light"
     },
     "output_type": "display_data"
    }
   ],
   "source": [
    "def plot_confusion_mtx(confusion_mtx, classes,\n",
    "                       normalize=False, title='Confusion Matrix',\n",
    "                       cmap=plt.cm.Blues):\n",
    "    \"\"\"Prints and plots the confusion matrix\n",
    "    Args:\n",
    "      confusion_mtx: confusion matrix instance\n",
    "      classes: labels of the training dataset\n",
    "      normalize: flag to control the values in the plot, True: ratio, False: real num\n",
    "      title: plot title\n",
    "      cmap: colors of plot\n",
    "    Return:\n",
    "      \n",
    "    \"\"\"\n",
    "    plt.imshow(confusion_mtx, interpolation='nearest', cmap=cmap)\n",
    "    plt.title(title)\n",
    "    plt.colorbar()\n",
    "    tick_marks = np.arange(len(classes))\n",
    "    plt.xticks(tick_marks, classes, rotation=45)\n",
    "    plt.yticks(tick_marks, classes)\n",
    "    \n",
    "    if normalize:\n",
    "        confusion_mtx = confusion_mtx.astype('float') / confusion_mtx.sum(axis=1)[:,np.newaxis]\n",
    "    \n",
    "    boundry_b, boundry_u = range(confusion_mtx.shape[0]), range(confusion_mtx.shape[1])\n",
    "    threshold = confusion_mtx.max() / 2.\n",
    "    \n",
    "    for i, j in itertools.product(boundry_b, boundry_u):\n",
    "        plt.text(j, i, confusion_mtx[i,j],\n",
    "                horizontalalignment='center',\n",
    "                color = 'white' if confusion_mtx[i,j] > threshold else 'black')\n",
    "    \n",
    "    plt.tight_layout()\n",
    "    plt.ylabel('True label')\n",
    "    plt.xlabel('Predicted label')\n",
    "        \n",
    "plot_confusion_mtx(confusion_mtx, classes=range(10))        "
   ]
  },
  {
   "cell_type": "code",
   "execution_count": null,
   "metadata": {},
   "outputs": [],
   "source": []
  },
  {
   "cell_type": "code",
   "execution_count": null,
   "metadata": {},
   "outputs": [],
   "source": []
  },
  {
   "cell_type": "code",
   "execution_count": null,
   "metadata": {},
   "outputs": [],
   "source": []
  },
  {
   "cell_type": "code",
   "execution_count": null,
   "metadata": {},
   "outputs": [],
   "source": []
  }
 ],
 "metadata": {
  "kernelspec": {
   "display_name": "Python 3",
   "language": "python",
   "name": "python3"
  },
  "language_info": {
   "codemirror_mode": {
    "name": "ipython",
    "version": 3
   },
   "file_extension": ".py",
   "mimetype": "text/x-python",
   "name": "python",
   "nbconvert_exporter": "python",
   "pygments_lexer": "ipython3",
   "version": "3.6.6"
  }
 },
 "nbformat": 4,
 "nbformat_minor": 2
}

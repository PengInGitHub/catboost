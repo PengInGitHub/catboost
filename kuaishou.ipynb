{
 "cells": [
  {
   "cell_type": "code",
   "execution_count": 44,
   "metadata": {},
   "outputs": [],
   "source": [
    "import pandas as pd\n",
    "import numpy as np\n",
    "import random\n",
    "import seaborn as sns\n",
    "import matplotlib.pyplot as plt\n",
    "import warnings\n",
    "warnings.simplefilter(action='ignore', category=FutureWarning)"
   ]
  },
  {
   "cell_type": "code",
   "execution_count": 3,
   "metadata": {},
   "outputs": [],
   "source": [
    "# configure\n",
    "path = '/Users/pliu/Documents/kuaishou/'"
   ]
  },
  {
   "cell_type": "code",
   "execution_count": 74,
   "metadata": {},
   "outputs": [
    {
     "name": "stdout",
     "output_type": "stream",
     "text": [
      "(100, 4)\n"
     ]
    },
    {
     "data": {
      "text/html": [
       "<div>\n",
       "<style scoped>\n",
       "    .dataframe tbody tr th:only-of-type {\n",
       "        vertical-align: middle;\n",
       "    }\n",
       "\n",
       "    .dataframe tbody tr th {\n",
       "        vertical-align: top;\n",
       "    }\n",
       "\n",
       "    .dataframe thead th {\n",
       "        text-align: right;\n",
       "    }\n",
       "</style>\n",
       "<table border=\"1\" class=\"dataframe\">\n",
       "  <thead>\n",
       "    <tr style=\"text-align: right;\">\n",
       "      <th></th>\n",
       "      <th>user_id</th>\n",
       "      <th>register_day</th>\n",
       "      <th>register_type</th>\n",
       "      <th>device_type</th>\n",
       "    </tr>\n",
       "  </thead>\n",
       "  <tbody>\n",
       "    <tr>\n",
       "      <th>0</th>\n",
       "      <td>743970</td>\n",
       "      <td>1</td>\n",
       "      <td>1</td>\n",
       "      <td>287</td>\n",
       "    </tr>\n",
       "    <tr>\n",
       "      <th>1</th>\n",
       "      <td>1270194</td>\n",
       "      <td>1</td>\n",
       "      <td>1</td>\n",
       "      <td>279</td>\n",
       "    </tr>\n",
       "    <tr>\n",
       "      <th>2</th>\n",
       "      <td>571172</td>\n",
       "      <td>1</td>\n",
       "      <td>1</td>\n",
       "      <td>1</td>\n",
       "    </tr>\n",
       "    <tr>\n",
       "      <th>3</th>\n",
       "      <td>1308394</td>\n",
       "      <td>1</td>\n",
       "      <td>0</td>\n",
       "      <td>25</td>\n",
       "    </tr>\n",
       "    <tr>\n",
       "      <th>4</th>\n",
       "      <td>745499</td>\n",
       "      <td>1</td>\n",
       "      <td>2</td>\n",
       "      <td>0</td>\n",
       "    </tr>\n",
       "  </tbody>\n",
       "</table>\n",
       "</div>"
      ],
      "text/plain": [
       "   user_id  register_day  register_type  device_type\n",
       "0   743970             1              1          287\n",
       "1  1270194             1              1          279\n",
       "2   571172             1              1            1\n",
       "3  1308394             1              0           25\n",
       "4   745499             1              2            0"
      ]
     },
     "execution_count": 74,
     "metadata": {},
     "output_type": "execute_result"
    }
   ],
   "source": [
    "# read user register log\n",
    "# info in regard with registeration\n",
    "user_register_log = ['user_id', 'register_day', 'register_type', 'device_type']\n",
    "dtype_user_register = {'user_id':np.uint32, 'register_day':np.uint8,\n",
    "                       'register_type':np.uint8, 'device_type':np.uint16}\n",
    "df_user_register = pd.read_table(path+'user_register_log.txt', header=None,\n",
    "                                 names=user_register_log, index_col=None,\n",
    "                                 dtype=dtype_user_register)\n",
    "print(df_user_register.shape)\n",
    "df_user_register.head()"
   ]
  },
  {
   "cell_type": "code",
   "execution_count": 5,
   "metadata": {},
   "outputs": [
    {
     "data": {
      "text/html": [
       "<div>\n",
       "<style scoped>\n",
       "    .dataframe tbody tr th:only-of-type {\n",
       "        vertical-align: middle;\n",
       "    }\n",
       "\n",
       "    .dataframe tbody tr th {\n",
       "        vertical-align: top;\n",
       "    }\n",
       "\n",
       "    .dataframe thead th {\n",
       "        text-align: right;\n",
       "    }\n",
       "</style>\n",
       "<table border=\"1\" class=\"dataframe\">\n",
       "  <thead>\n",
       "    <tr style=\"text-align: right;\">\n",
       "      <th></th>\n",
       "      <th>user_id</th>\n",
       "      <th>register_day</th>\n",
       "      <th>register_type</th>\n",
       "      <th>device_type</th>\n",
       "    </tr>\n",
       "  </thead>\n",
       "  <tbody>\n",
       "    <tr>\n",
       "      <th>count</th>\n",
       "      <td>1.000000e+02</td>\n",
       "      <td>100.000000</td>\n",
       "      <td>100.000000</td>\n",
       "      <td>100</td>\n",
       "    </tr>\n",
       "    <tr>\n",
       "      <th>unique</th>\n",
       "      <td>NaN</td>\n",
       "      <td>NaN</td>\n",
       "      <td>NaN</td>\n",
       "      <td>77</td>\n",
       "    </tr>\n",
       "    <tr>\n",
       "      <th>top</th>\n",
       "      <td>NaN</td>\n",
       "      <td>NaN</td>\n",
       "      <td>NaN</td>\n",
       "      <td>11</td>\n",
       "    </tr>\n",
       "    <tr>\n",
       "      <th>freq</th>\n",
       "      <td>NaN</td>\n",
       "      <td>NaN</td>\n",
       "      <td>NaN</td>\n",
       "      <td>5</td>\n",
       "    </tr>\n",
       "    <tr>\n",
       "      <th>mean</th>\n",
       "      <td>6.094057e+05</td>\n",
       "      <td>6.490000</td>\n",
       "      <td>1.050000</td>\n",
       "      <td>NaN</td>\n",
       "    </tr>\n",
       "    <tr>\n",
       "      <th>std</th>\n",
       "      <td>3.651738e+05</td>\n",
       "      <td>3.702292</td>\n",
       "      <td>1.305582</td>\n",
       "      <td>NaN</td>\n",
       "    </tr>\n",
       "    <tr>\n",
       "      <th>min</th>\n",
       "      <td>1.720000e+03</td>\n",
       "      <td>1.000000</td>\n",
       "      <td>0.000000</td>\n",
       "      <td>NaN</td>\n",
       "    </tr>\n",
       "    <tr>\n",
       "      <th>25%</th>\n",
       "      <td>3.211620e+05</td>\n",
       "      <td>3.000000</td>\n",
       "      <td>0.000000</td>\n",
       "      <td>NaN</td>\n",
       "    </tr>\n",
       "    <tr>\n",
       "      <th>50%</th>\n",
       "      <td>5.770450e+05</td>\n",
       "      <td>6.000000</td>\n",
       "      <td>1.000000</td>\n",
       "      <td>NaN</td>\n",
       "    </tr>\n",
       "    <tr>\n",
       "      <th>75%</th>\n",
       "      <td>9.102608e+05</td>\n",
       "      <td>9.000000</td>\n",
       "      <td>1.000000</td>\n",
       "      <td>NaN</td>\n",
       "    </tr>\n",
       "    <tr>\n",
       "      <th>max</th>\n",
       "      <td>1.353143e+06</td>\n",
       "      <td>13.000000</td>\n",
       "      <td>7.000000</td>\n",
       "      <td>NaN</td>\n",
       "    </tr>\n",
       "  </tbody>\n",
       "</table>\n",
       "</div>"
      ],
      "text/plain": [
       "             user_id  register_day  register_type device_type\n",
       "count   1.000000e+02    100.000000     100.000000         100\n",
       "unique           NaN           NaN            NaN          77\n",
       "top              NaN           NaN            NaN          11\n",
       "freq             NaN           NaN            NaN           5\n",
       "mean    6.094057e+05      6.490000       1.050000         NaN\n",
       "std     3.651738e+05      3.702292       1.305582         NaN\n",
       "min     1.720000e+03      1.000000       0.000000         NaN\n",
       "25%     3.211620e+05      3.000000       0.000000         NaN\n",
       "50%     5.770450e+05      6.000000       1.000000         NaN\n",
       "75%     9.102608e+05      9.000000       1.000000         NaN\n",
       "max     1.353143e+06     13.000000       7.000000         NaN"
      ]
     },
     "execution_count": 5,
     "metadata": {},
     "output_type": "execute_result"
    }
   ],
   "source": [
    "df_user_register.describe(include='all')"
   ]
  },
  {
   "cell_type": "code",
   "execution_count": 27,
   "metadata": {},
   "outputs": [],
   "source": [
    "df_user_register['register_day'] = [random.randrange(1,30,1) for _ in range(100)]"
   ]
  },
  {
   "cell_type": "code",
   "execution_count": 28,
   "metadata": {},
   "outputs": [
    {
     "data": {
      "text/html": [
       "<div>\n",
       "<style scoped>\n",
       "    .dataframe tbody tr th:only-of-type {\n",
       "        vertical-align: middle;\n",
       "    }\n",
       "\n",
       "    .dataframe tbody tr th {\n",
       "        vertical-align: top;\n",
       "    }\n",
       "\n",
       "    .dataframe thead th {\n",
       "        text-align: right;\n",
       "    }\n",
       "</style>\n",
       "<table border=\"1\" class=\"dataframe\">\n",
       "  <thead>\n",
       "    <tr style=\"text-align: right;\">\n",
       "      <th></th>\n",
       "      <th>user_id</th>\n",
       "      <th>register_day</th>\n",
       "      <th>register_type</th>\n",
       "      <th>device_type</th>\n",
       "    </tr>\n",
       "  </thead>\n",
       "  <tbody>\n",
       "    <tr>\n",
       "      <th>count</th>\n",
       "      <td>1.000000e+02</td>\n",
       "      <td>100.000000</td>\n",
       "      <td>100.000000</td>\n",
       "      <td>100</td>\n",
       "    </tr>\n",
       "    <tr>\n",
       "      <th>unique</th>\n",
       "      <td>NaN</td>\n",
       "      <td>NaN</td>\n",
       "      <td>NaN</td>\n",
       "      <td>77</td>\n",
       "    </tr>\n",
       "    <tr>\n",
       "      <th>top</th>\n",
       "      <td>NaN</td>\n",
       "      <td>NaN</td>\n",
       "      <td>NaN</td>\n",
       "      <td>11</td>\n",
       "    </tr>\n",
       "    <tr>\n",
       "      <th>freq</th>\n",
       "      <td>NaN</td>\n",
       "      <td>NaN</td>\n",
       "      <td>NaN</td>\n",
       "      <td>5</td>\n",
       "    </tr>\n",
       "    <tr>\n",
       "      <th>mean</th>\n",
       "      <td>6.094057e+05</td>\n",
       "      <td>15.850000</td>\n",
       "      <td>1.050000</td>\n",
       "      <td>NaN</td>\n",
       "    </tr>\n",
       "    <tr>\n",
       "      <th>std</th>\n",
       "      <td>3.651738e+05</td>\n",
       "      <td>8.954853</td>\n",
       "      <td>1.305582</td>\n",
       "      <td>NaN</td>\n",
       "    </tr>\n",
       "    <tr>\n",
       "      <th>min</th>\n",
       "      <td>1.720000e+03</td>\n",
       "      <td>1.000000</td>\n",
       "      <td>0.000000</td>\n",
       "      <td>NaN</td>\n",
       "    </tr>\n",
       "    <tr>\n",
       "      <th>25%</th>\n",
       "      <td>3.211620e+05</td>\n",
       "      <td>8.750000</td>\n",
       "      <td>0.000000</td>\n",
       "      <td>NaN</td>\n",
       "    </tr>\n",
       "    <tr>\n",
       "      <th>50%</th>\n",
       "      <td>5.770450e+05</td>\n",
       "      <td>16.000000</td>\n",
       "      <td>1.000000</td>\n",
       "      <td>NaN</td>\n",
       "    </tr>\n",
       "    <tr>\n",
       "      <th>75%</th>\n",
       "      <td>9.102608e+05</td>\n",
       "      <td>23.250000</td>\n",
       "      <td>1.000000</td>\n",
       "      <td>NaN</td>\n",
       "    </tr>\n",
       "    <tr>\n",
       "      <th>max</th>\n",
       "      <td>1.353143e+06</td>\n",
       "      <td>29.000000</td>\n",
       "      <td>7.000000</td>\n",
       "      <td>NaN</td>\n",
       "    </tr>\n",
       "  </tbody>\n",
       "</table>\n",
       "</div>"
      ],
      "text/plain": [
       "             user_id  register_day  register_type device_type\n",
       "count   1.000000e+02    100.000000     100.000000         100\n",
       "unique           NaN           NaN            NaN          77\n",
       "top              NaN           NaN            NaN          11\n",
       "freq             NaN           NaN            NaN           5\n",
       "mean    6.094057e+05     15.850000       1.050000         NaN\n",
       "std     3.651738e+05      8.954853       1.305582         NaN\n",
       "min     1.720000e+03      1.000000       0.000000         NaN\n",
       "25%     3.211620e+05      8.750000       0.000000         NaN\n",
       "50%     5.770450e+05     16.000000       1.000000         NaN\n",
       "75%     9.102608e+05     23.250000       1.000000         NaN\n",
       "max     1.353143e+06     29.000000       7.000000         NaN"
      ]
     },
     "execution_count": 28,
     "metadata": {},
     "output_type": "execute_result"
    }
   ],
   "source": [
    "df_user_register.describe(include='all')"
   ]
  },
  {
   "cell_type": "code",
   "execution_count": 6,
   "metadata": {},
   "outputs": [
    {
     "name": "stdout",
     "output_type": "stream",
     "text": [
      "(100, 2)\n"
     ]
    },
    {
     "data": {
      "text/html": [
       "<div>\n",
       "<style scoped>\n",
       "    .dataframe tbody tr th:only-of-type {\n",
       "        vertical-align: middle;\n",
       "    }\n",
       "\n",
       "    .dataframe tbody tr th {\n",
       "        vertical-align: top;\n",
       "    }\n",
       "\n",
       "    .dataframe thead th {\n",
       "        text-align: right;\n",
       "    }\n",
       "</style>\n",
       "<table border=\"1\" class=\"dataframe\">\n",
       "  <thead>\n",
       "    <tr style=\"text-align: right;\">\n",
       "      <th></th>\n",
       "      <th>user_id</th>\n",
       "      <th>app_launch_day</th>\n",
       "    </tr>\n",
       "  </thead>\n",
       "  <tbody>\n",
       "    <tr>\n",
       "      <th>0</th>\n",
       "      <td>383101</td>\n",
       "      <td>1</td>\n",
       "    </tr>\n",
       "    <tr>\n",
       "      <th>1</th>\n",
       "      <td>330955</td>\n",
       "      <td>4</td>\n",
       "    </tr>\n",
       "    <tr>\n",
       "      <th>2</th>\n",
       "      <td>330955</td>\n",
       "      <td>9</td>\n",
       "    </tr>\n",
       "    <tr>\n",
       "      <th>3</th>\n",
       "      <td>330955</td>\n",
       "      <td>11</td>\n",
       "    </tr>\n",
       "    <tr>\n",
       "      <th>4</th>\n",
       "      <td>330955</td>\n",
       "      <td>12</td>\n",
       "    </tr>\n",
       "  </tbody>\n",
       "</table>\n",
       "</div>"
      ],
      "text/plain": [
       "   user_id  app_launch_day\n",
       "0   383101               1\n",
       "1   330955               4\n",
       "2   330955               9\n",
       "3   330955              11\n",
       "4   330955              12"
      ]
     },
     "execution_count": 6,
     "metadata": {},
     "output_type": "execute_result"
    }
   ],
   "source": [
    "# read APP launch\n",
    "app_launch_log = ['user_id', 'app_launch_day']\n",
    "dtype_app_launch = {'user_id':np.uint32, 'app_launch_day':np.uint8}\n",
    "df_app_launch = pd.read_table(path+'app_launch_log.txt', names=app_launch_log,\n",
    "                             index_col=None, dtype=dtype_app_launch)\n",
    "print(df_app_launch.shape)\n",
    "df_app_launch.head()"
   ]
  },
  {
   "cell_type": "code",
   "execution_count": 7,
   "metadata": {},
   "outputs": [
    {
     "data": {
      "text/html": [
       "<div>\n",
       "<style scoped>\n",
       "    .dataframe tbody tr th:only-of-type {\n",
       "        vertical-align: middle;\n",
       "    }\n",
       "\n",
       "    .dataframe tbody tr th {\n",
       "        vertical-align: top;\n",
       "    }\n",
       "\n",
       "    .dataframe thead th {\n",
       "        text-align: right;\n",
       "    }\n",
       "</style>\n",
       "<table border=\"1\" class=\"dataframe\">\n",
       "  <thead>\n",
       "    <tr style=\"text-align: right;\">\n",
       "      <th></th>\n",
       "      <th>user_id</th>\n",
       "      <th>app_launch_day</th>\n",
       "    </tr>\n",
       "  </thead>\n",
       "  <tbody>\n",
       "    <tr>\n",
       "      <th>count</th>\n",
       "      <td>100.000000</td>\n",
       "      <td>100.000000</td>\n",
       "    </tr>\n",
       "    <tr>\n",
       "      <th>mean</th>\n",
       "      <td>508371.300000</td>\n",
       "      <td>11.910000</td>\n",
       "    </tr>\n",
       "    <tr>\n",
       "      <th>std</th>\n",
       "      <td>343242.448498</td>\n",
       "      <td>8.232843</td>\n",
       "    </tr>\n",
       "    <tr>\n",
       "      <th>min</th>\n",
       "      <td>12848.000000</td>\n",
       "      <td>1.000000</td>\n",
       "    </tr>\n",
       "    <tr>\n",
       "      <th>25%</th>\n",
       "      <td>208804.750000</td>\n",
       "      <td>5.000000</td>\n",
       "    </tr>\n",
       "    <tr>\n",
       "      <th>50%</th>\n",
       "      <td>458359.000000</td>\n",
       "      <td>11.000000</td>\n",
       "    </tr>\n",
       "    <tr>\n",
       "      <th>75%</th>\n",
       "      <td>911034.500000</td>\n",
       "      <td>17.000000</td>\n",
       "    </tr>\n",
       "    <tr>\n",
       "      <th>max</th>\n",
       "      <td>993424.000000</td>\n",
       "      <td>30.000000</td>\n",
       "    </tr>\n",
       "  </tbody>\n",
       "</table>\n",
       "</div>"
      ],
      "text/plain": [
       "             user_id  app_launch_day\n",
       "count     100.000000      100.000000\n",
       "mean   508371.300000       11.910000\n",
       "std    343242.448498        8.232843\n",
       "min     12848.000000        1.000000\n",
       "25%    208804.750000        5.000000\n",
       "50%    458359.000000       11.000000\n",
       "75%    911034.500000       17.000000\n",
       "max    993424.000000       30.000000"
      ]
     },
     "execution_count": 7,
     "metadata": {},
     "output_type": "execute_result"
    }
   ],
   "source": [
    "df_app_launch.describe(include='all')"
   ]
  },
  {
   "cell_type": "code",
   "execution_count": 8,
   "metadata": {},
   "outputs": [
    {
     "name": "stdout",
     "output_type": "stream",
     "text": [
      "(100, 2)\n"
     ]
    },
    {
     "data": {
      "text/html": [
       "<div>\n",
       "<style scoped>\n",
       "    .dataframe tbody tr th:only-of-type {\n",
       "        vertical-align: middle;\n",
       "    }\n",
       "\n",
       "    .dataframe tbody tr th {\n",
       "        vertical-align: top;\n",
       "    }\n",
       "\n",
       "    .dataframe thead th {\n",
       "        text-align: right;\n",
       "    }\n",
       "</style>\n",
       "<table border=\"1\" class=\"dataframe\">\n",
       "  <thead>\n",
       "    <tr style=\"text-align: right;\">\n",
       "      <th></th>\n",
       "      <th>user_id</th>\n",
       "      <th>video_create_day</th>\n",
       "    </tr>\n",
       "  </thead>\n",
       "  <tbody>\n",
       "    <tr>\n",
       "      <th>0</th>\n",
       "      <td>720442</td>\n",
       "      <td>1</td>\n",
       "    </tr>\n",
       "    <tr>\n",
       "      <th>1</th>\n",
       "      <td>720442</td>\n",
       "      <td>1</td>\n",
       "    </tr>\n",
       "    <tr>\n",
       "      <th>2</th>\n",
       "      <td>720442</td>\n",
       "      <td>1</td>\n",
       "    </tr>\n",
       "    <tr>\n",
       "      <th>3</th>\n",
       "      <td>1075121</td>\n",
       "      <td>6</td>\n",
       "    </tr>\n",
       "    <tr>\n",
       "      <th>4</th>\n",
       "      <td>1075121</td>\n",
       "      <td>12</td>\n",
       "    </tr>\n",
       "  </tbody>\n",
       "</table>\n",
       "</div>"
      ],
      "text/plain": [
       "   user_id  video_create_day\n",
       "0   720442                 1\n",
       "1   720442                 1\n",
       "2   720442                 1\n",
       "3  1075121                 6\n",
       "4  1075121                12"
      ]
     },
     "execution_count": 8,
     "metadata": {},
     "output_type": "execute_result"
    }
   ],
   "source": [
    "# Video Create\n",
    "video_create_log = ['user_id', 'video_create_day']\n",
    "dtype_video_create = {'user_id':np.uint32, 'video_create_day':np.uint8}\n",
    "df_video_create = pd.read_table(path+'video_create_log.txt', header=None,\n",
    "                               names=video_create_log, dtype=dtype_video_create)\n",
    "print(df_video_create.shape)\n",
    "df_video_create.head()"
   ]
  },
  {
   "cell_type": "code",
   "execution_count": 9,
   "metadata": {},
   "outputs": [
    {
     "data": {
      "text/html": [
       "<div>\n",
       "<style scoped>\n",
       "    .dataframe tbody tr th:only-of-type {\n",
       "        vertical-align: middle;\n",
       "    }\n",
       "\n",
       "    .dataframe tbody tr th {\n",
       "        vertical-align: top;\n",
       "    }\n",
       "\n",
       "    .dataframe thead th {\n",
       "        text-align: right;\n",
       "    }\n",
       "</style>\n",
       "<table border=\"1\" class=\"dataframe\">\n",
       "  <thead>\n",
       "    <tr style=\"text-align: right;\">\n",
       "      <th></th>\n",
       "      <th>user_id</th>\n",
       "      <th>video_create_day</th>\n",
       "    </tr>\n",
       "  </thead>\n",
       "  <tbody>\n",
       "    <tr>\n",
       "      <th>count</th>\n",
       "      <td>1.000000e+02</td>\n",
       "      <td>100.000000</td>\n",
       "    </tr>\n",
       "    <tr>\n",
       "      <th>mean</th>\n",
       "      <td>1.022025e+06</td>\n",
       "      <td>12.820000</td>\n",
       "    </tr>\n",
       "    <tr>\n",
       "      <th>std</th>\n",
       "      <td>3.302330e+05</td>\n",
       "      <td>6.920005</td>\n",
       "    </tr>\n",
       "    <tr>\n",
       "      <th>min</th>\n",
       "      <td>1.076720e+05</td>\n",
       "      <td>1.000000</td>\n",
       "    </tr>\n",
       "    <tr>\n",
       "      <th>25%</th>\n",
       "      <td>1.075121e+06</td>\n",
       "      <td>7.750000</td>\n",
       "    </tr>\n",
       "    <tr>\n",
       "      <th>50%</th>\n",
       "      <td>1.139400e+06</td>\n",
       "      <td>12.500000</td>\n",
       "    </tr>\n",
       "    <tr>\n",
       "      <th>75%</th>\n",
       "      <td>1.203582e+06</td>\n",
       "      <td>16.250000</td>\n",
       "    </tr>\n",
       "    <tr>\n",
       "      <th>max</th>\n",
       "      <td>1.351269e+06</td>\n",
       "      <td>30.000000</td>\n",
       "    </tr>\n",
       "  </tbody>\n",
       "</table>\n",
       "</div>"
      ],
      "text/plain": [
       "            user_id  video_create_day\n",
       "count  1.000000e+02        100.000000\n",
       "mean   1.022025e+06         12.820000\n",
       "std    3.302330e+05          6.920005\n",
       "min    1.076720e+05          1.000000\n",
       "25%    1.075121e+06          7.750000\n",
       "50%    1.139400e+06         12.500000\n",
       "75%    1.203582e+06         16.250000\n",
       "max    1.351269e+06         30.000000"
      ]
     },
     "execution_count": 9,
     "metadata": {},
     "output_type": "execute_result"
    }
   ],
   "source": [
    "df_video_create.describe(include='all')"
   ]
  },
  {
   "cell_type": "code",
   "execution_count": 10,
   "metadata": {},
   "outputs": [
    {
     "name": "stdout",
     "output_type": "stream",
     "text": [
      "(100, 6)\n"
     ]
    },
    {
     "data": {
      "text/html": [
       "<div>\n",
       "<style scoped>\n",
       "    .dataframe tbody tr th:only-of-type {\n",
       "        vertical-align: middle;\n",
       "    }\n",
       "\n",
       "    .dataframe tbody tr th {\n",
       "        vertical-align: top;\n",
       "    }\n",
       "\n",
       "    .dataframe thead th {\n",
       "        text-align: right;\n",
       "    }\n",
       "</style>\n",
       "<table border=\"1\" class=\"dataframe\">\n",
       "  <thead>\n",
       "    <tr style=\"text-align: right;\">\n",
       "      <th></th>\n",
       "      <th>user_id</th>\n",
       "      <th>user_activity_day</th>\n",
       "      <th>page</th>\n",
       "      <th>video_id</th>\n",
       "      <th>author_id</th>\n",
       "      <th>action_type</th>\n",
       "    </tr>\n",
       "  </thead>\n",
       "  <tbody>\n",
       "    <tr>\n",
       "      <th>0</th>\n",
       "      <td>1062234</td>\n",
       "      <td>22</td>\n",
       "      <td>0</td>\n",
       "      <td>2877331</td>\n",
       "      <td>880204</td>\n",
       "      <td>0</td>\n",
       "    </tr>\n",
       "    <tr>\n",
       "      <th>1</th>\n",
       "      <td>639849</td>\n",
       "      <td>17</td>\n",
       "      <td>0</td>\n",
       "      <td>740628</td>\n",
       "      <td>210180</td>\n",
       "      <td>0</td>\n",
       "    </tr>\n",
       "    <tr>\n",
       "      <th>2</th>\n",
       "      <td>1260095</td>\n",
       "      <td>5</td>\n",
       "      <td>0</td>\n",
       "      <td>3332261</td>\n",
       "      <td>162849</td>\n",
       "      <td>0</td>\n",
       "    </tr>\n",
       "    <tr>\n",
       "      <th>3</th>\n",
       "      <td>817139</td>\n",
       "      <td>22</td>\n",
       "      <td>0</td>\n",
       "      <td>1129563</td>\n",
       "      <td>530200</td>\n",
       "      <td>0</td>\n",
       "    </tr>\n",
       "    <tr>\n",
       "      <th>4</th>\n",
       "      <td>817139</td>\n",
       "      <td>23</td>\n",
       "      <td>0</td>\n",
       "      <td>1129563</td>\n",
       "      <td>530200</td>\n",
       "      <td>0</td>\n",
       "    </tr>\n",
       "  </tbody>\n",
       "</table>\n",
       "</div>"
      ],
      "text/plain": [
       "   user_id  user_activity_day  page  video_id  author_id  action_type\n",
       "0  1062234                 22     0   2877331     880204            0\n",
       "1   639849                 17     0    740628     210180            0\n",
       "2  1260095                  5     0   3332261     162849            0\n",
       "3   817139                 22     0   1129563     530200            0\n",
       "4   817139                 23     0   1129563     530200            0"
      ]
     },
     "execution_count": 10,
     "metadata": {},
     "output_type": "execute_result"
    }
   ],
   "source": [
    "# user activity\n",
    "user_activity_log = ['user_id', 'user_activity_day', 'page', 'video_id', 'author_id', 'action_type']\n",
    "dtype_user_activity = {'user_id':np.uint32, 'user_activity_day':np.uint8, 'page':np.uint8,\n",
    "                       'video_id':np.uint32, 'author_id':np.uint32, 'action_type':np.uint8}\n",
    "df_user_activity = pd.read_table(path+'user_activity_log.txt', header=None, \n",
    "                                 names=user_activity_log, index_col=None,\n",
    "                                 dtype=dtype_user_activity)\n",
    "print(df_user_activity.shape)\n",
    "df_user_activity.head()"
   ]
  },
  {
   "cell_type": "code",
   "execution_count": 11,
   "metadata": {},
   "outputs": [
    {
     "data": {
      "text/html": [
       "<div>\n",
       "<style scoped>\n",
       "    .dataframe tbody tr th:only-of-type {\n",
       "        vertical-align: middle;\n",
       "    }\n",
       "\n",
       "    .dataframe tbody tr th {\n",
       "        vertical-align: top;\n",
       "    }\n",
       "\n",
       "    .dataframe thead th {\n",
       "        text-align: right;\n",
       "    }\n",
       "</style>\n",
       "<table border=\"1\" class=\"dataframe\">\n",
       "  <thead>\n",
       "    <tr style=\"text-align: right;\">\n",
       "      <th></th>\n",
       "      <th>user_id</th>\n",
       "      <th>user_activity_day</th>\n",
       "      <th>page</th>\n",
       "      <th>video_id</th>\n",
       "      <th>author_id</th>\n",
       "      <th>action_type</th>\n",
       "    </tr>\n",
       "  </thead>\n",
       "  <tbody>\n",
       "    <tr>\n",
       "      <th>count</th>\n",
       "      <td>1.000000e+02</td>\n",
       "      <td>100.000000</td>\n",
       "      <td>100.0</td>\n",
       "      <td>1.000000e+02</td>\n",
       "      <td>1.000000e+02</td>\n",
       "      <td>100.0</td>\n",
       "    </tr>\n",
       "    <tr>\n",
       "      <th>mean</th>\n",
       "      <td>6.443609e+05</td>\n",
       "      <td>18.500000</td>\n",
       "      <td>0.0</td>\n",
       "      <td>2.272397e+06</td>\n",
       "      <td>4.610829e+05</td>\n",
       "      <td>0.0</td>\n",
       "    </tr>\n",
       "    <tr>\n",
       "      <th>std</th>\n",
       "      <td>3.221531e+05</td>\n",
       "      <td>6.531199</td>\n",
       "      <td>0.0</td>\n",
       "      <td>1.296438e+06</td>\n",
       "      <td>3.497204e+05</td>\n",
       "      <td>0.0</td>\n",
       "    </tr>\n",
       "    <tr>\n",
       "      <th>min</th>\n",
       "      <td>3.499000e+03</td>\n",
       "      <td>4.000000</td>\n",
       "      <td>0.0</td>\n",
       "      <td>6.011100e+04</td>\n",
       "      <td>2.943200e+04</td>\n",
       "      <td>0.0</td>\n",
       "    </tr>\n",
       "    <tr>\n",
       "      <th>25%</th>\n",
       "      <td>3.120240e+05</td>\n",
       "      <td>14.000000</td>\n",
       "      <td>0.0</td>\n",
       "      <td>1.157388e+06</td>\n",
       "      <td>1.297840e+05</td>\n",
       "      <td>0.0</td>\n",
       "    </tr>\n",
       "    <tr>\n",
       "      <th>50%</th>\n",
       "      <td>7.176880e+05</td>\n",
       "      <td>21.000000</td>\n",
       "      <td>0.0</td>\n",
       "      <td>2.140120e+06</td>\n",
       "      <td>5.302000e+05</td>\n",
       "      <td>0.0</td>\n",
       "    </tr>\n",
       "    <tr>\n",
       "      <th>75%</th>\n",
       "      <td>8.171390e+05</td>\n",
       "      <td>23.000000</td>\n",
       "      <td>0.0</td>\n",
       "      <td>3.410313e+06</td>\n",
       "      <td>6.568860e+05</td>\n",
       "      <td>0.0</td>\n",
       "    </tr>\n",
       "    <tr>\n",
       "      <th>max</th>\n",
       "      <td>1.323220e+06</td>\n",
       "      <td>30.000000</td>\n",
       "      <td>0.0</td>\n",
       "      <td>4.418000e+06</td>\n",
       "      <td>1.276609e+06</td>\n",
       "      <td>0.0</td>\n",
       "    </tr>\n",
       "  </tbody>\n",
       "</table>\n",
       "</div>"
      ],
      "text/plain": [
       "            user_id  user_activity_day   page      video_id     author_id  \\\n",
       "count  1.000000e+02         100.000000  100.0  1.000000e+02  1.000000e+02   \n",
       "mean   6.443609e+05          18.500000    0.0  2.272397e+06  4.610829e+05   \n",
       "std    3.221531e+05           6.531199    0.0  1.296438e+06  3.497204e+05   \n",
       "min    3.499000e+03           4.000000    0.0  6.011100e+04  2.943200e+04   \n",
       "25%    3.120240e+05          14.000000    0.0  1.157388e+06  1.297840e+05   \n",
       "50%    7.176880e+05          21.000000    0.0  2.140120e+06  5.302000e+05   \n",
       "75%    8.171390e+05          23.000000    0.0  3.410313e+06  6.568860e+05   \n",
       "max    1.323220e+06          30.000000    0.0  4.418000e+06  1.276609e+06   \n",
       "\n",
       "       action_type  \n",
       "count        100.0  \n",
       "mean           0.0  \n",
       "std            0.0  \n",
       "min            0.0  \n",
       "25%            0.0  \n",
       "50%            0.0  \n",
       "75%            0.0  \n",
       "max            0.0  "
      ]
     },
     "execution_count": 11,
     "metadata": {},
     "output_type": "execute_result"
    }
   ],
   "source": [
    "df_user_activity.describe(include='all')"
   ]
  },
  {
   "cell_type": "code",
   "execution_count": 26,
   "metadata": {},
   "outputs": [
    {
     "data": {
      "text/html": [
       "<div>\n",
       "<style scoped>\n",
       "    .dataframe tbody tr th:only-of-type {\n",
       "        vertical-align: middle;\n",
       "    }\n",
       "\n",
       "    .dataframe tbody tr th {\n",
       "        vertical-align: top;\n",
       "    }\n",
       "\n",
       "    .dataframe thead th {\n",
       "        text-align: right;\n",
       "    }\n",
       "</style>\n",
       "<table border=\"1\" class=\"dataframe\">\n",
       "  <thead>\n",
       "    <tr style=\"text-align: right;\">\n",
       "      <th></th>\n",
       "      <th>user_id</th>\n",
       "      <th>user_activity_day</th>\n",
       "      <th>page</th>\n",
       "      <th>video_id</th>\n",
       "      <th>author_id</th>\n",
       "      <th>action_type</th>\n",
       "    </tr>\n",
       "  </thead>\n",
       "  <tbody>\n",
       "    <tr>\n",
       "      <th>87</th>\n",
       "      <td>817139</td>\n",
       "      <td>23</td>\n",
       "      <td>2</td>\n",
       "      <td>3781712</td>\n",
       "      <td>530200</td>\n",
       "      <td>3</td>\n",
       "    </tr>\n",
       "    <tr>\n",
       "      <th>82</th>\n",
       "      <td>817139</td>\n",
       "      <td>23</td>\n",
       "      <td>3</td>\n",
       "      <td>2824851</td>\n",
       "      <td>530200</td>\n",
       "      <td>6</td>\n",
       "    </tr>\n",
       "    <tr>\n",
       "      <th>68</th>\n",
       "      <td>298454</td>\n",
       "      <td>21</td>\n",
       "      <td>5</td>\n",
       "      <td>1512699</td>\n",
       "      <td>40740</td>\n",
       "      <td>3</td>\n",
       "    </tr>\n",
       "    <tr>\n",
       "      <th>80</th>\n",
       "      <td>817139</td>\n",
       "      <td>23</td>\n",
       "      <td>3</td>\n",
       "      <td>1001752</td>\n",
       "      <td>530200</td>\n",
       "      <td>1</td>\n",
       "    </tr>\n",
       "    <tr>\n",
       "      <th>43</th>\n",
       "      <td>717688</td>\n",
       "      <td>9</td>\n",
       "      <td>2</td>\n",
       "      <td>1967781</td>\n",
       "      <td>43780</td>\n",
       "      <td>3</td>\n",
       "    </tr>\n",
       "  </tbody>\n",
       "</table>\n",
       "</div>"
      ],
      "text/plain": [
       "    user_id  user_activity_day  page  video_id  author_id  action_type\n",
       "87   817139                 23     2   3781712     530200            3\n",
       "82   817139                 23     3   2824851     530200            6\n",
       "68   298454                 21     5   1512699      40740            3\n",
       "80   817139                 23     3   1001752     530200            1\n",
       "43   717688                  9     2   1967781      43780            3"
      ]
     },
     "execution_count": 26,
     "metadata": {},
     "output_type": "execute_result"
    }
   ],
   "source": [
    "df_user_activity['action_type'] = [random.randrange(1,7,1) for _ in range(100)]\n",
    "df_user_activity['page'] = [random.randrange(1,6,1) for _ in range(100)]\n",
    "df_user_activity.sample(5)"
   ]
  },
  {
   "cell_type": "code",
   "execution_count": 25,
   "metadata": {},
   "outputs": [],
   "source": [
    "df_user_activity.drop('action_type_new', inplace=True, axis=1)"
   ]
  },
  {
   "cell_type": "code",
   "execution_count": 32,
   "metadata": {
    "collapsed": true
   },
   "outputs": [
    {
     "data": {
      "text/plain": [
       "register_day  register_type\n",
       "29            1                6\n",
       "15            0                4\n",
       "29            0                4\n",
       "16            1                4\n",
       "20            1                3\n",
       "1             1                3\n",
       "15            1                3\n",
       "1             0                3\n",
       "28            1                3\n",
       "26            1                3\n",
       "4             0                2\n",
       "13            2                2\n",
       "9             0                2\n",
       "7             0                2\n",
       "17            1                2\n",
       "18            1                2\n",
       "12            0                2\n",
       "19            2                2\n",
       "11            0                2\n",
       "2             1                2\n",
       "24            2                2\n",
       "              0                2\n",
       "22            2                2\n",
       "3             0                2\n",
       "              1                1\n",
       "8             1                1\n",
       "10            2                1\n",
       "              1                1\n",
       "8             2                1\n",
       "1             5                1\n",
       "7             1                1\n",
       "6             2                1\n",
       "1             7                1\n",
       "6             1                1\n",
       "5             0                1\n",
       "2             0                1\n",
       "4             1                1\n",
       "26            0                1\n",
       "12            1                1\n",
       "13            0                1\n",
       "23            2                1\n",
       "              0                1\n",
       "22            1                1\n",
       "              0                1\n",
       "21            4                1\n",
       "              1                1\n",
       "              0                1\n",
       "20            2                1\n",
       "18            7                1\n",
       "              5                1\n",
       "              2                1\n",
       "17            2                1\n",
       "              0                1\n",
       "26            2                1\n",
       "              3                1\n",
       "27            0                1\n",
       "14            1                1\n",
       "25            0                1\n",
       "13            1                1\n",
       "14            0                1\n",
       "dtype: int64"
      ]
     },
     "execution_count": 32,
     "metadata": {},
     "output_type": "execute_result"
    }
   ],
   "source": [
    "# use groupby to check relationships between features\n",
    "\n",
    "# num of registeration by day and by type\n",
    "df_user_register.groupby(['register_day','register_type']).size().sort_values(ascending=False)"
   ]
  },
  {
   "cell_type": "code",
   "execution_count": 34,
   "metadata": {
    "collapsed": true
   },
   "outputs": [
    {
     "data": {
      "text/plain": [
       "29    10\n",
       "1      8\n",
       "15     7\n",
       "26     6\n",
       "18     5\n",
       "24     4\n",
       "22     4\n",
       "20     4\n",
       "17     4\n",
       "16     4\n",
       "13     4\n",
       "3      3\n",
       "21     3\n",
       "4      3\n",
       "28     3\n",
       "2      3\n",
       "12     3\n",
       "7      3\n",
       "8      2\n",
       "6      2\n",
       "14     2\n",
       "9      2\n",
       "10     2\n",
       "11     2\n",
       "19     2\n",
       "23     2\n",
       "5      1\n",
       "25     1\n",
       "27     1\n",
       "Name: register_day, dtype: int64"
      ]
     },
     "execution_count": 34,
     "metadata": {},
     "output_type": "execute_result"
    }
   ],
   "source": [
    "# num of Registration by day\n",
    "\n",
    "# these two are identical\n",
    "df_user_register.groupby('register_day').size().sort_values(ascending=False)\n",
    "\n",
    "df_user_register['register_day'].value_counts()"
   ]
  },
  {
   "cell_type": "code",
   "execution_count": 37,
   "metadata": {},
   "outputs": [
    {
     "data": {
      "image/png": "[encoded data removed]",
      "text/plain": [
       "<Figure size 432x288 with 1 Axes>"
      ]
     },
     "metadata": {
      "needs_background": "light"
     },
     "output_type": "display_data"
    }
   ],
   "source": [
    "# visualization via seaborn\n",
    "sns.countplot(x='register_day', data=df_user_register);"
   ]
  },
  {
   "cell_type": "code",
   "execution_count": 46,
   "metadata": {},
   "outputs": [
    {
     "data": {
      "image/png": "[encoded data removed]",
      "text/plain": [
       "<Figure size 864x360 with 1 Axes>"
      ]
     },
     "metadata": {
      "needs_background": "light"
     },
     "output_type": "display_data"
    }
   ],
   "source": [
    "plt.figure(figsize=(12,5))\n",
    "plt.title('Distribution of Registration Day')\n",
    "ax = sns.distplot(df_user_register['register_day'], bins=50)"
   ]
  },
  {
   "cell_type": "code",
   "execution_count": 50,
   "metadata": {},
   "outputs": [
    {
     "data": {
      "image/png": "[encoded data removed]",
      "text/plain": [
       "<Figure size 432x288 with 1 Axes>"
      ]
     },
     "metadata": {
      "needs_background": "light"
     },
     "output_type": "display_data"
    }
   ],
   "source": [
    "# check a specific day\n",
    "sns.countplot(x='register_type', data=df_user_register[df_user_register['register_day']==29]);\n",
    "# type 1 increased a lot"
   ]
  },
  {
   "cell_type": "code",
   "execution_count": 51,
   "metadata": {},
   "outputs": [
    {
     "data": {
      "image/png": "[encoded data removed]",
      "text/plain": [
       "<Figure size 432x288 with 1 Axes>"
      ]
     },
     "metadata": {
      "needs_background": "light"
     },
     "output_type": "display_data"
    }
   ],
   "source": [
    "sns.countplot(x='register_type', data=df_user_register[df_user_register['register_day']==28]);"
   ]
  },
  {
   "cell_type": "code",
   "execution_count": 67,
   "metadata": {},
   "outputs": [
    {
     "data": {
      "text/plain": [
       "67     1\n",
       "130    1\n",
       "279    1\n",
       "5      1\n",
       "211    1\n",
       "150    1\n",
       "Name: device_type, dtype: int64"
      ]
     },
     "execution_count": 67,
     "metadata": {},
     "output_type": "execute_result"
    }
   ],
   "source": [
    "df_user_register[(df_user_register['register_day']==29)&(df_user_register['register_type']==1)]['device_type'].value_counts()"
   ]
  },
  {
   "cell_type": "code",
   "execution_count": 81,
   "metadata": {},
   "outputs": [
    {
     "name": "stdout",
     "output_type": "stream",
     "text": [
      "[1270194]\n"
     ]
    },
    {
     "data": {
      "text/html": [
       "<div>\n",
       "<style scoped>\n",
       "    .dataframe tbody tr th:only-of-type {\n",
       "        vertical-align: middle;\n",
       "    }\n",
       "\n",
       "    .dataframe tbody tr th {\n",
       "        vertical-align: top;\n",
       "    }\n",
       "\n",
       "    .dataframe thead th {\n",
       "        text-align: right;\n",
       "    }\n",
       "</style>\n",
       "<table border=\"1\" class=\"dataframe\">\n",
       "  <thead>\n",
       "    <tr style=\"text-align: right;\">\n",
       "      <th></th>\n",
       "      <th>user_id</th>\n",
       "      <th>app_launch_day</th>\n",
       "    </tr>\n",
       "  </thead>\n",
       "  <tbody>\n",
       "  </tbody>\n",
       "</table>\n",
       "</div>"
      ],
      "text/plain": [
       "Empty DataFrame\n",
       "Columns: [user_id, app_launch_day]\n",
       "Index: []"
      ]
     },
     "execution_count": 81,
     "metadata": {},
     "output_type": "execute_result"
    }
   ],
   "source": [
    "# abnormal data: users registered at 24th, on device 1, register type 3 could be bots\n",
    "# to proove: check if they show up after registration\n",
    "outlier_user = df_user_register[(df_user_register['device_type']==279)|\n",
    "                                (df_user_register['register_day'].isin([27,28,29]))&\n",
    "                                (df_user_register['register_type']==1)]['user_id'].unique().tolist()\n",
    "print(outlier_user)\n",
    "\n",
    "df_app_launch[(df_app_launch['user_id'].isin(outlier_user))&(df_app_launch['app_launch_day']>24)]"
   ]
  },
  {
   "cell_type": "code",
   "execution_count": 82,
   "metadata": {},
   "outputs": [
    {
     "data": {
      "text/plain": [
       "Index(['user_id', 'app_launch_day'], dtype='object')"
      ]
     },
     "execution_count": 82,
     "metadata": {},
     "output_type": "execute_result"
    }
   ],
   "source": [
    "df_app_launch.columns"
   ]
  },
  {
   "cell_type": "code",
   "execution_count": 83,
   "metadata": {
    "collapsed": true
   },
   "outputs": [
    {
     "data": {
      "text/plain": [
       "user_id  app_launch_day\n",
       "12848    2                 1\n",
       "         3                 1\n",
       "         7                 1\n",
       "         8                 1\n",
       "         9                 1\n",
       "         10                1\n",
       "         11                1\n",
       "         13                1\n",
       "14804    4                 1\n",
       "         5                 1\n",
       "         13                1\n",
       "         30                1\n",
       "33332    7                 1\n",
       "         9                 1\n",
       "         10                1\n",
       "         13                1\n",
       "         14                1\n",
       "         15                1\n",
       "         16                1\n",
       "         19                1\n",
       "         21                1\n",
       "191683   1                 1\n",
       "         13                1\n",
       "         15                1\n",
       "         17                1\n",
       "214512   3                 1\n",
       "         12                1\n",
       "257929   29                1\n",
       "330955   4                 1\n",
       "         9                 1\n",
       "                          ..\n",
       "766831   18                1\n",
       "778095   1                 1\n",
       "878467   9                 1\n",
       "         10                1\n",
       "909064   1                 1\n",
       "916946   1                 1\n",
       "         12                1\n",
       "921322   1                 1\n",
       "         7                 1\n",
       "         8                 1\n",
       "         9                 1\n",
       "         10                1\n",
       "         12                1\n",
       "         13                1\n",
       "         15                1\n",
       "         21                1\n",
       "         22                1\n",
       "         24                1\n",
       "         26                1\n",
       "         27                1\n",
       "         28                1\n",
       "924262   1                 1\n",
       "         3                 1\n",
       "945386   2                 1\n",
       "         7                 1\n",
       "993424   5                 1\n",
       "         12                1\n",
       "         14                1\n",
       "         23                1\n",
       "         27                1\n",
       "Length: 100, dtype: int64"
      ]
     },
     "execution_count": 83,
     "metadata": {},
     "output_type": "execute_result"
    }
   ],
   "source": [
    "# only 1 record per day per user\n",
    "df_app_launch.groupby(['user_id', 'app_launch_day']).size()"
   ]
  },
  {
   "cell_type": "code",
   "execution_count": 84,
   "metadata": {},
   "outputs": [
    {
     "data": {
      "text/plain": [
       "Index(['user_id', 'video_create_day'], dtype='object')"
      ]
     },
     "execution_count": 84,
     "metadata": {},
     "output_type": "execute_result"
    }
   ],
   "source": [
    "df_video_create.columns"
   ]
  },
  {
   "cell_type": "code",
   "execution_count": 85,
   "metadata": {
    "collapsed": true
   },
   "outputs": [
    {
     "data": {
      "text/plain": [
       "user_id  video_create_day\n",
       "107672   14                  3\n",
       "         18                  2\n",
       "         21                  3\n",
       "120315   7                   1\n",
       "236031   11                  1\n",
       "670409   16                  2\n",
       "720442   1                   3\n",
       "787525   21                  1\n",
       "961582   5                   1\n",
       "         7                   1\n",
       "         10                  1\n",
       "1075121  3                   1\n",
       "         4                   1\n",
       "         5                   1\n",
       "         6                   2\n",
       "         7                   2\n",
       "         8                   3\n",
       "         9                   3\n",
       "         10                  2\n",
       "         11                  3\n",
       "         12                  3\n",
       "         13                  1\n",
       "         14                  1\n",
       "         15                  3\n",
       "         16                  1\n",
       "         17                  1\n",
       "         20                  1\n",
       "1139400  3                   3\n",
       "         4                   5\n",
       "         5                   1\n",
       "         6                   3\n",
       "         8                   1\n",
       "         9                   2\n",
       "         11                  1\n",
       "         13                  3\n",
       "         15                  1\n",
       "1203582  11                  1\n",
       "         13                  2\n",
       "         14                  4\n",
       "         15                  2\n",
       "         17                  1\n",
       "         19                  3\n",
       "         20                  1\n",
       "         21                  1\n",
       "         22                  1\n",
       "         27                  4\n",
       "         28                  1\n",
       "         29                  1\n",
       "         30                  1\n",
       "1351269  11                  2\n",
       "         12                  2\n",
       "         14                  1\n",
       "         16                  1\n",
       "         21                  1\n",
       "         22                  1\n",
       "         25                  1\n",
       "dtype: int64"
      ]
     },
     "execution_count": 85,
     "metadata": {},
     "output_type": "execute_result"
    }
   ],
   "source": [
    "# more than 1 observation per user per vide0_create\n",
    "df_video_create.groupby(['user_id', 'video_create_day']).size()"
   ]
  },
  {
   "cell_type": "code",
   "execution_count": 86,
   "metadata": {},
   "outputs": [
    {
     "data": {
      "text/plain": [
       "Index(['user_id', 'user_activity_day', 'page', 'video_id', 'author_id',\n",
       "       'action_type'],\n",
       "      dtype='object')"
      ]
     },
     "execution_count": 86,
     "metadata": {},
     "output_type": "execute_result"
    }
   ],
   "source": [
    "df_user_activity.columns"
   ]
  },
  {
   "cell_type": "code",
   "execution_count": 87,
   "metadata": {},
   "outputs": [
    {
     "data": {
      "text/plain": [
       "user_id  user_activity_day\n",
       "3499     21                    2\n",
       "66084    18                    2\n",
       "67212    27                    1\n",
       "191871   14                    1\n",
       "212707   4                     1\n",
       "236799   21                    2\n",
       "271575   14                    3\n",
       "294365   8                     1\n",
       "298454   21                    4\n",
       "312024   16                    9\n",
       "346364   7                     5\n",
       "370730   14                    1\n",
       "382250   14                    1\n",
       "435803   8                     1\n",
       "462276   15                    1\n",
       "463597   23                    1\n",
       "498117   23                    1\n",
       "538398   23                    2\n",
       "         24                    1\n",
       "565847   9                     1\n",
       "569674   27                    1\n",
       "573166   29                    2\n",
       "639849   17                    1\n",
       "691608   17                    1\n",
       "717688   7                     2\n",
       "         9                     3\n",
       "804656   12                    1\n",
       "817139   22                   10\n",
       "         23                   19\n",
       "912991   17                    1\n",
       "918172   29                    1\n",
       "923665   17                    1\n",
       "959410   30                    2\n",
       "970835   14                    2\n",
       "1000597  27                    2\n",
       "1061510  24                    1\n",
       "1062234  22                    1\n",
       "1084377  16                    1\n",
       "1145855  16                    1\n",
       "1225716  25                    1\n",
       "1260095  5                     3\n",
       "1277477  21                    1\n",
       "1323220  23                    1\n",
       "dtype: int64"
      ]
     },
     "execution_count": 87,
     "metadata": {},
     "output_type": "execute_result"
    }
   ],
   "source": [
    "df_user_activity.groupby(['user_id', 'user_activity_day']).size()"
   ]
  },
  {
   "cell_type": "code",
   "execution_count": null,
   "metadata": {},
   "outputs": [],
   "source": []
  },
  {
   "cell_type": "code",
   "execution_count": null,
   "metadata": {},
   "outputs": [],
   "source": []
  },
  {
   "cell_type": "code",
   "execution_count": null,
   "metadata": {},
   "outputs": [],
   "source": []
  },
  {
   "cell_type": "code",
   "execution_count": null,
   "metadata": {},
   "outputs": [],
   "source": []
  },
  {
   "cell_type": "code",
   "execution_count": null,
   "metadata": {},
   "outputs": [],
   "source": []
  },
  {
   "cell_type": "code",
   "execution_count": null,
   "metadata": {},
   "outputs": [],
   "source": []
  }
 ],
 "metadata": {
  "kernelspec": {
   "display_name": "Python 3",
   "language": "python",
   "name": "python3"
  },
  "language_info": {
   "codemirror_mode": {
    "name": "ipython",
    "version": 3
   },
   "file_extension": ".py",
   "mimetype": "text/x-python",
   "name": "python",
   "nbconvert_exporter": "python",
   "pygments_lexer": "ipython3",
   "version": "3.7.0"
  }
 },
 "nbformat": 4,
 "nbformat_minor": 2
}

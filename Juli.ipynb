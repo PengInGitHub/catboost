{
 "cells": [
  {
   "cell_type": "code",
   "execution_count": 252,
   "metadata": {},
   "outputs": [],
   "source": [
    "import pandas as pd\n",
    "import matplotlib.pyplot as plt\n",
    "import numpy as np\n",
    "%matplotlib inline\n",
    "import seaborn as sns\n",
    "pd.set_option('display.float_format', lambda x: '%.3f' % x)\n",
    "from scipy.stats import skew"
   ]
  },
  {
   "cell_type": "code",
   "execution_count": 136,
   "metadata": {},
   "outputs": [
    {
     "data": {
      "text/plain": [
       "(1459, 80)"
      ]
     },
     "execution_count": 136,
     "metadata": {},
     "output_type": "execute_result"
    }
   ],
   "source": [
    "# load data\n",
    "train = pd.read_csv('/Users/pliu/Downloads/all/train.csv')\n",
    "test = pd.read_csv('/Users/pliu/Downloads/all/test.csv')\n",
    "train.shape # (1460, 81)\n",
    "test.shape # (1459, 80)"
   ]
  },
  {
   "cell_type": "code",
   "execution_count": 137,
   "metadata": {},
   "outputs": [
    {
     "name": "stdout",
     "output_type": "stream",
     "text": [
      "0\n",
      "0\n"
     ]
    }
   ],
   "source": [
    "# check if duplication in identifer exists\n",
    "print(train.shape[0] - len(set(train.Id)))\n",
    "print(test.shape[0] - len(set(test.Id)))\n",
    "# no duplicate in identifer"
   ]
  },
  {
   "cell_type": "code",
   "execution_count": 138,
   "metadata": {},
   "outputs": [
    {
     "data": {
      "image/png": "[encoded data removed]",
      "text/plain": [
       "<Figure size 432x288 with 1 Axes>"
      ]
     },
     "metadata": {
      "needs_background": "light"
     },
     "output_type": "display_data"
    }
   ],
   "source": [
    "# outlier \n",
    "plt.scatter(train.GrLivArea, train.SalePrice)\n",
    "plt.title('SalePrice and GrLivArea')\n",
    "plt.xlabel('GrLivArea')\n",
    "plt.ylabel('SalePrice')\n",
    "plt.show()"
   ]
  },
  {
   "cell_type": "code",
   "execution_count": 139,
   "metadata": {},
   "outputs": [
    {
     "data": {
      "text/plain": [
       "(1456, 81)"
      ]
     },
     "execution_count": 139,
     "metadata": {},
     "output_type": "execute_result"
    }
   ],
   "source": [
    "# remove outlier\n",
    "train = train[train.GrLivArea < 4000]\n",
    "train.shape"
   ]
  },
  {
   "cell_type": "code",
   "execution_count": 140,
   "metadata": {},
   "outputs": [],
   "source": [
    "# log transform the target var\n",
    "train.SalePrice = np.log1p(train.SalePrice)\n",
    "y = train.SalePrice"
   ]
  },
  {
   "cell_type": "code",
   "execution_count": 141,
   "metadata": {
    "scrolled": true
   },
   "outputs": [
    {
     "name": "stderr",
     "output_type": "stream",
     "text": [
      "/miniconda3/envs/ml36/lib/python3.6/site-packages/scipy/stats/stats.py:1713: FutureWarning: Using a non-tuple sequence for multidimensional indexing is deprecated; use `arr[tuple(seq)]` instead of `arr[seq]`. In the future this will be interpreted as an array index, `arr[np.array(seq)]`, which will result either in an error or a different result.\n",
      "  return np.add.reduce(sorted[indexer] * weights, axis=axis) / sumval\n"
     ]
    },
    {
     "data": {
      "image/png": "[encoded data removed]",
      "text/plain": [
       "<Figure size 432x288 with 1 Axes>"
      ]
     },
     "metadata": {
      "needs_background": "light"
     },
     "output_type": "display_data"
    }
   ],
   "source": [
    "sns.distplot(train['SalePrice']);"
   ]
  },
  {
   "cell_type": "code",
   "execution_count": 142,
   "metadata": {},
   "outputs": [
    {
     "data": {
      "text/plain": [
       "(2915, 79)"
      ]
     },
     "execution_count": 142,
     "metadata": {},
     "output_type": "execute_result"
    }
   ],
   "source": [
    "all_data = pd.concat((train.loc[:,'MSSubClass':'SaleCondition'],\n",
    "                       test.loc[:,'MSSubClass':'SaleCondition']))\n",
    "all_data.shape"
   ]
  },
  {
   "cell_type": "code",
   "execution_count": 143,
   "metadata": {},
   "outputs": [
    {
     "data": {
      "text/plain": [
       "4     1266\n",
       "5      993\n",
       "3      267\n",
       "6      122\n",
       "10     114\n",
       "9       64\n",
       "2       29\n",
       "11      17\n",
       "7       14\n",
       "15      10\n",
       "8        9\n",
       "14       3\n",
       "12       3\n",
       "1        2\n",
       "13       1\n",
       "16       1\n",
       "Name: missing_per_row, dtype: int64"
      ]
     },
     "execution_count": 143,
     "metadata": {},
     "output_type": "execute_result"
    }
   ],
   "source": [
    "# create a col to record missing value per row before missing value processing\n",
    "all_data['missing_per_row'] = all_data.isnull().sum(axis=1)\n",
    "all_data['missing_per_row'].value_counts()"
   ]
  },
  {
   "cell_type": "code",
   "execution_count": 144,
   "metadata": {},
   "outputs": [
    {
     "data": {
      "text/plain": [
       "Index(['PoolQC', 'MiscFeature', 'Alley', 'Fence', 'FireplaceQu', 'LotFrontage',\n",
       "       'GarageFinish', 'GarageYrBlt', 'GarageQual', 'GarageCond', 'GarageType',\n",
       "       'BsmtExposure', 'BsmtCond', 'BsmtQual', 'BsmtFinType2', 'BsmtFinType1',\n",
       "       'MasVnrType', 'MasVnrArea', 'MSZoning', 'BsmtFullBath', 'BsmtHalfBath',\n",
       "       'Utilities', 'Functional', 'Exterior2nd', 'Exterior1st', 'SaleType',\n",
       "       'BsmtFinSF1', 'BsmtFinSF2', 'BsmtUnfSF', 'Electrical', 'KitchenQual',\n",
       "       'GarageCars', 'GarageArea', 'TotalBsmtSF'],\n",
       "      dtype='object')"
      ]
     },
     "execution_count": 144,
     "metadata": {},
     "output_type": "execute_result"
    }
   ],
   "source": [
    "# col with missing value\n",
    "all_data_na = (all_data.isnull().sum()) * 100\n",
    "all_data_na = all_data_na.drop(all_data_na[all_data_na==0].index).sort_values(ascending=False)\n",
    "all_data_na.index"
   ]
  },
  {
   "cell_type": "code",
   "execution_count": 145,
   "metadata": {},
   "outputs": [],
   "source": [
    "# input missing\n",
    "by = [\"Alley\", \"BsmtQual\", \"BsmtCond\", \"BsmtFinType1\",\n",
    "     \"BsmtFinType2\", \"Fence\", \"FireplaceQu\", \"GarageType\", \"GarageFinish\",\n",
    "     \"GarageQual\", \"GarageCond\", \"MasVnrType\", \"MiscFeature\", \"PoolQC\"]\n",
    "for col in by:\n",
    "    all_data[col] = all_data[col].fillna('None')"
   ]
  },
  {
   "cell_type": "code",
   "execution_count": 146,
   "metadata": {},
   "outputs": [],
   "source": [
    "by = [\"BsmtExposure\"]\n",
    "for col in by:\n",
    "    all_data[col] = all_data[col].fillna('No')"
   ]
  },
  {
   "cell_type": "code",
   "execution_count": 147,
   "metadata": {},
   "outputs": [],
   "source": [
    "by = [\"BedroomAbvGr\", \"BsmtFullBath\", \"BsmtHalfBath\", \"BsmtUnfSF\",\"EnclosedPorch\",\n",
    "     \"GarageArea\", \"GarageCars\", \"LotFrontage\", \"MasVnrArea\", \"GarageYrBlt\", \"TotalBsmtSF\",\n",
    "     \"BsmtFinSF1\", \"BsmtFinSF2\"]\n",
    "for col in by:\n",
    "    all_data[col] = all_data[col].fillna(0)"
   ]
  },
  {
   "cell_type": "code",
   "execution_count": 148,
   "metadata": {},
   "outputs": [],
   "source": [
    "by = [\"CentralAir\" ]\n",
    "for col in by:\n",
    "    all_data[col] = all_data[col].fillna('N')"
   ]
  },
  {
   "cell_type": "code",
   "execution_count": 149,
   "metadata": {},
   "outputs": [],
   "source": [
    "by = [\"Condition1\", \"Condition2\", \"Functional\", \"KitchenQual\", \"Utilities\",\n",
    "     \"MSZoning\", \"SaleType\", \"Electrical\", \"Exterior1st\", \"Exterior2nd\"]\n",
    "for col in by:\n",
    "    all_data[col] = all_data[col].fillna(all_data[col].mode()[0])"
   ]
  },
  {
   "cell_type": "code",
   "execution_count": 150,
   "metadata": {},
   "outputs": [],
   "source": [
    "# map some numerical vars to categorical\n",
    "cate_feat = ['MSSubClass', 'OverallCond', 'YrSold', 'MoSold']\n",
    "for feat in cate_feat:\n",
    "    all_data[feat] = all_data[feat].astype(str) "
   ]
  },
  {
   "cell_type": "code",
   "execution_count": 151,
   "metadata": {},
   "outputs": [],
   "source": [
    "# map some categorical vars to ordinar\n",
    "Alley = {\"None\" : 0, \"Grvl\" : 1, \"Pave\" : 2}\n",
    "BsmtQual = {\"None\" : 0, \"Po\" : 1, \"Fa\" : 2, \"TA\": 3, \"Gd\" : 4, \"Ex\" : 5}\n",
    "BsmtExposure = {\"No\" : 0, \"Mn\" : 1, \"Av\": 2, \"Gd\" : 3}\n",
    "BsmtFinType = {\"None\" : 0, \"Unf\" : 1, \"LwQ\": 2, \"Rec\" : 3, \"BLQ\" : 4, \"ALQ\" : 5, \"GLQ\" : 6}\n",
    "Functional = {\"Sal\" : 1, \"Sev\" : 2, \"Maj2\" : 3, \"Maj1\" : 4, \"Mod\": 5, \"Min2\" : 6, \"Min1\" : 7, \"Typ\" : 8}\n",
    "LandSlope = {\"Sev\" : 1, \"Mod\" : 2, \"Gtl\" : 3}\n",
    "LotShape = {\"IR3\" : 1, \"IR2\" : 2, \"IR1\" : 3, \"Reg\" : 4}\n",
    "PavedDrive = {\"N\" : 0, \"P\" : 1, \"Y\" : 2}\n",
    "Street = {\"Grvl\" : 1, \"Pave\" : 2}\n",
    "Utilities = {\"ELO\" : 1, \"NoSeWa\" : 2, \"NoSewr\" : 3, \"AllPub\" : 4}"
   ]
  },
  {
   "cell_type": "code",
   "execution_count": 173,
   "metadata": {},
   "outputs": [],
   "source": [
    "all_data = all_data.replace({\"Alley\":Alley,\n",
    "                             \"BsmtQual\":BsmtQual,\n",
    "                             \"BsmtCond\":BsmtQual,\n",
    "                             \"BsmtExposure\":BsmtExposure,\n",
    "                             \"BsmtFinType1\":BsmtFinType,\n",
    "                             \"BsmtFinType2\":BsmtFinType,\n",
    "                             \"ExterCond\":BsmtQual,\n",
    "                             \"ExterQual\":BsmtQual,\n",
    "                             \"FireplaceQu\":BsmtQual,\n",
    "                             \"Functional\":Functional,\n",
    "                             \"GarageCond\":BsmtQual,\n",
    "                             \"GarageQual\":BsmtQual,\n",
    "                             \"HeatingQC\":BsmtQual,\n",
    "                             \"KitchenQual\":BsmtQual,\n",
    "                             \"LandSlope\":LandSlope,\n",
    "                             \"LotShape\" :LotShape,\n",
    "                             \"PavedDrive\":PavedDrive,\n",
    "                             \"PoolQC\":BsmtQual,\n",
    "                             \"Street\":Street ,\n",
    "                             \"Utilities\":Utilities\n",
    "                             })"
   ]
  },
  {
   "cell_type": "code",
   "execution_count": null,
   "metadata": {},
   "outputs": [],
   "source": [
    "# feature engineering"
   ]
  },
  {
   "cell_type": "code",
   "execution_count": null,
   "metadata": {},
   "outputs": [],
   "source": [
    "# 1. simplified existing features"
   ]
  },
  {
   "cell_type": "code",
   "execution_count": 177,
   "metadata": {},
   "outputs": [],
   "source": [
    "SimplOverallQual = {1:1, 2:1, 3:1, # bad\n",
    "                    4:2, 5:2, 6:2, # average\n",
    "                    7:3, 8:3, 9:3, 10:3 # good\n",
    "                   }\n",
    "all_data['SimplOverallQual'] = all_data.OverallQual.replace(SimplOverallQual)\n",
    "all_data['SimplOverallCond'] = all_data.OverallCond.replace(SimplOverallQual)"
   ]
  },
  {
   "cell_type": "code",
   "execution_count": 181,
   "metadata": {},
   "outputs": [],
   "source": [
    "SimplPoolQC = {1:1, 2:1, # bad\n",
    "               3:2, 4:2  # good\n",
    "              }\n",
    "all_data['SimplPoolQC'] = all_data.PoolQC.replace(SimplPoolQC)"
   ]
  },
  {
   "cell_type": "code",
   "execution_count": 187,
   "metadata": {},
   "outputs": [],
   "source": [
    "SimplFunctional = {1 : 1, 2 : 1, # bad\n",
    "                   3 : 2, 4 : 2, # major\n",
    "                   5 : 3, 6 : 3, 7 : 3, # minor\n",
    "                   8 : 4 # typical\n",
    "                  }\n",
    "train[\"SimplFunctional\"] = train.Functional.replace(SimplFunctional)"
   ]
  },
  {
   "cell_type": "code",
   "execution_count": 199,
   "metadata": {},
   "outputs": [],
   "source": [
    "SimplGarageCond = {1:1, #bad\n",
    "                   2:2, 3:2, # average\n",
    "                   4:3, 5:3, 6:3 # good\n",
    "                  }\n",
    "all_data['SimplGarageCond'] = all_data.GarageCond.replace(SimplGarageCond)\n",
    "all_data['SimplGarageQual'] = all_data.GarageQual.replace(SimplGarageCond)\n",
    "all_data['SimplFireplaceQu'] = all_data.FireplaceQu.replace(SimplGarageCond)\n",
    "\n",
    "all_data['SimplKitchenQual'] = all_data.KitchenQual.replace(SimplGarageCond)\n",
    "all_data['SimplHeatingQC'] = all_data.HeatingQC.replace(SimplGarageCond)\n",
    "all_data['SimplBsmtCond'] = all_data.BsmtCond.replace(SimplGarageCond)\n",
    "all_data['SimplBsmtQual'] = all_data.BsmtQual.replace(SimplGarageCond)\n",
    "\n",
    "all_data['SimplExterCond'] = all_data.ExterCond.replace(SimplGarageCond)\n",
    "all_data['SimplExterQual'] = all_data.ExterQual.replace(SimplGarageCond)\n",
    "\n",
    "all_data['SimplBsmtFinType1'] = all_data.BsmtFinType1.replace(SimplGarageCond)\n",
    "all_data['SimplBsmtFinType2'] = all_data.BsmtFinType2.replace(SimplGarageCond)"
   ]
  },
  {
   "cell_type": "code",
   "execution_count": 185,
   "metadata": {},
   "outputs": [],
   "source": [
    "# plot cate and target\n",
    "def plot_box(x, y, df=train, figsize=(8,6)):\n",
    "    data = pd.concat([df[x], df[y]], axis=1)\n",
    "    f, ax = plt.subplots(figsize=figsize)\n",
    "    fig = sns.boxplot(x=x, y=y, data=data)\n",
    "    fig.axis(ymin=0)"
   ]
  },
  {
   "cell_type": "code",
   "execution_count": null,
   "metadata": {},
   "outputs": [],
   "source": [
    "# 2. combinations of existing features"
   ]
  },
  {
   "cell_type": "code",
   "execution_count": 202,
   "metadata": {},
   "outputs": [],
   "source": [
    "# 2.1 original features\n",
    "\n",
    "# overall quality of property\n",
    "all_data[\"OverallGrade\"] = all_data[\"OverallQual\"] * all_data[\"OverallCond\"]\n",
    "\n",
    "# overall quality of garage\n",
    "all_data[\"GarageGrade\"] = all_data[\"GarageQual\"] * all_data[\"GarageCond\"]\n",
    "\n",
    "# overall quality of exterior\n",
    "all_data[\"ExterGrade\"] = all_data[\"ExterQual\"] * all_data[\"ExterCond\"]\n",
    "\n",
    "# overall score of kitchen\n",
    "all_data[\"KitchenScore\"] = all_data[\"KitchenQual\"] * all_data[\"KitchenAbvGr\"]\n",
    "\n",
    "# overall score of fireplace\n",
    "all_data[\"FireplaceScore\"] = all_data[\"FireplaceQu\"] * all_data[\"Fireplaces\"]\n",
    "\n",
    "# overall score of garage\n",
    "all_data[\"GarageScore\"] = all_data[\"GarageQual\"] * all_data[\"GarageArea\"]\n",
    "\n",
    "# overall score of pool\n",
    "all_data[\"PoolScore\"] = all_data[\"PoolQC\"] * all_data[\"PoolArea\"]"
   ]
  },
  {
   "cell_type": "code",
   "execution_count": 203,
   "metadata": {},
   "outputs": [],
   "source": [
    "# 2.2 simplified features\n",
    "\n",
    "# overall quality of property\n",
    "all_data[\"SimplOverallGrade\"] = all_data[\"SimplOverallQual\"] * all_data[\"SimplOverallCond\"]\n",
    "\n",
    "# overall quality of exterior\n",
    "all_data[\"SimplExterGrade\"] = all_data[\"SimplExterQual\"] * all_data[\"SimplExterCond\"]\n",
    "\n",
    "# overall score of pool\n",
    "all_data[\"SimplPoolScore\"] = all_data[\"PoolArea\"] * all_data[\"SimplPoolQC\"]\n",
    "\n",
    "# overall quality of garage\n",
    "all_data[\"SimplGarageScore\"] = all_data[\"GarageArea\"] * all_data[\"SimplGarageQual\"]\n",
    "\n",
    "# overall score of fireplace\n",
    "all_data[\"SimplFireplaceScore\"] = all_data[\"Fireplaces\"] * all_data[\"SimplFireplaceQu\"]\n",
    "\n",
    "# overall score of kitchen\n",
    "all_data[\"SimplKitchenScore\"] = all_data[\"KitchenAbvGr\"] * all_data[\"SimplKitchenQual\"]\n"
   ]
  },
  {
   "cell_type": "code",
   "execution_count": 205,
   "metadata": {},
   "outputs": [],
   "source": [
    "# 2.3 aggregated values\n",
    "\n",
    "# total number of bathrooms\n",
    "all_data[\"TotalBath\"] = all_data[\"BsmtFullBath\"] + 0.5*all_data[\"BsmtHalfBath\"] + all_data[\"FullBath\"] + 0.5*all_data[\"HalfBath\"]\n",
    "\n",
    "# total area (Square Feet)\n",
    "all_data[\"AllSF\"] = all_data[\"GrLivArea\"] + all_data[\"TotalBsmtSF\"] \n",
    "\n",
    "# total area (Square Feet) for porch\n",
    "all_data[\"AllPorchSF\"] = all_data[\"OpenPorchSF\"] + all_data[\"EnclosedPorch\"] + all_data[\"3SsnPorch\"] + all_data[\"ScreenPorch\"] "
   ]
  },
  {
   "cell_type": "code",
   "execution_count": 212,
   "metadata": {},
   "outputs": [],
   "source": [
    "# 2.4 boolen values\n",
    "# if has MasVnr\n",
    "all_data['HasMasVnr'] = (all_data['MasVnrType'] != 'None') * 1\n",
    "\n",
    "# if a property owns a specific nice feature that could increase the its value\n",
    "nice_features = ['WoodDeckSF', 'OpenPorchSF', 'EnclosedPorch', '3SsnPorch', 'ScreenPorch']\n",
    "for col in nice_features:\n",
    "    all_data['Has'+col] = (all_data[col] != 0) * 1\n",
    "    \n",
    "# house is completed before purchsing\n",
    "all_data['AlreadyCompleted'] = (all_data['SaleCondition'] != 'Partial') * 1"
   ]
  },
  {
   "cell_type": "code",
   "execution_count": 220,
   "metadata": {},
   "outputs": [
    {
     "name": "stdout",
     "output_type": "stream",
     "text": [
      "int64      73\n",
      "object     30\n",
      "float64    15\n",
      "Name: type, dtype: int64\n"
     ]
    }
   ],
   "source": [
    "# check what types of data we have\n",
    "# count of variable types\n",
    "def data_type_statistics(df=all_data):\n",
    "    df_types = pd.DataFrame(df.dtypes)\n",
    "    df_types.columns = ['type']\n",
    "    print(df_types.type.value_counts())\n",
    "    return df_types\n",
    "\n",
    "df_types = data_type_statistics()"
   ]
  },
  {
   "cell_type": "code",
   "execution_count": 240,
   "metadata": {},
   "outputs": [
    {
     "data": {
      "text/plain": [
       "(1456, 164)"
      ]
     },
     "execution_count": 240,
     "metadata": {},
     "output_type": "execute_result"
    }
   ],
   "source": [
    "train_tmp = all_data[:len(train)]\n",
    "train_tmp = pd.concat([train['SalePrice'], train_tmp], axis=1)\n",
    "train_tmp.shape"
   ]
  },
  {
   "cell_type": "code",
   "execution_count": 238,
   "metadata": {
    "collapsed": true
   },
   "outputs": [
    {
     "name": "stdout",
     "output_type": "stream",
     "text": [
      "SalePrice              1.000\n",
      "OverallQual            0.819\n",
      "AllSF                  0.817\n",
      "AllFlrsSF              0.729\n",
      "GrLivArea              0.719\n",
      "SimplOverallQual       0.708\n",
      "ExterQual              0.681\n",
      "GarageCars             0.680\n",
      "TotalBath              0.673\n",
      "KitchenQual            0.667\n",
      "GarageScore            0.657\n",
      "GarageArea             0.655\n",
      "SimplGarageScore       0.651\n",
      "TotalBsmtSF            0.642\n",
      "SimplExterQual         0.636\n",
      "BsmtQual               0.615\n",
      "1stFlrSF               0.614\n",
      "SimplKitchenQual       0.610\n",
      "FullBath               0.591\n",
      "YearBuilt              0.589\n",
      "ExterGrade             0.587\n",
      "YearRemodAdd           0.569\n",
      "SimplBsmtQual          0.564\n",
      "FireplaceQu            0.547\n",
      "SimplFireplaceQu       0.534\n",
      "TotRmsAbvGrd           0.533\n",
      "FireplaceScore         0.518\n",
      "SimplExterGrade        0.513\n",
      "SimplFireplaceScore    0.508\n",
      "Fireplaces             0.487\n",
      "                       ...  \n",
      "AllPorchSF             0.199\n",
      "LotFrontage            0.174\n",
      "Functional             0.136\n",
      "ScreenPorch            0.124\n",
      "HasScreenPorch         0.102\n",
      "Has3SsnPorch           0.059\n",
      "Street                 0.058\n",
      "3SsnPorch              0.056\n",
      "ExterCond              0.051\n",
      "PoolArea               0.041\n",
      "PoolScore              0.041\n",
      "PoolQC                 0.040\n",
      "SimplPoolScore         0.039\n",
      "SimplPoolQC            0.037\n",
      "SimplBsmtFinType2      0.033\n",
      "BsmtFinType2           0.016\n",
      "Utilities              0.013\n",
      "BsmtFinSF2             0.006\n",
      "BsmtHalfBath          -0.015\n",
      "MiscVal               -0.020\n",
      "SimplExterCond        -0.038\n",
      "LowQualFinSF          -0.038\n",
      "LandSlope             -0.040\n",
      "Alley                 -0.091\n",
      "KitchenAbvGr          -0.148\n",
      "EnclosedPorch         -0.149\n",
      "HasEnclosedPorch      -0.217\n",
      "LotShape              -0.286\n",
      "AlreadyCompleted      -0.331\n",
      "missing_per_row       -0.374\n",
      "Name: SalePrice, Length: 89, dtype: float64\n"
     ]
    },
    {
     "data": {
      "text/plain": [
       "['OverallQual',\n",
       " 'AllSF',\n",
       " 'AllFlrsSF',\n",
       " 'GrLivArea',\n",
       " 'SimplOverallQual',\n",
       " 'ExterQual',\n",
       " 'GarageCars',\n",
       " 'TotalBath',\n",
       " 'KitchenQual',\n",
       " 'GarageScore',\n",
       " 'GarageArea',\n",
       " 'SimplGarageScore',\n",
       " 'TotalBsmtSF',\n",
       " 'SimplExterQual',\n",
       " 'BsmtQual']"
      ]
     },
     "execution_count": 238,
     "metadata": {},
     "output_type": "execute_result"
    }
   ],
   "source": [
    "# feature importance by correlation\n",
    "corr = train_tmp.corr()\n",
    "corr.sort_values(['SalePrice'], ascending=False, inplace=True)\n",
    "print(corr.SalePrice)\n",
    "top_imp_features = list(corr.SalePrice[1:16].index)\n",
    "top_imp_features"
   ]
  },
  {
   "cell_type": "code",
   "execution_count": 239,
   "metadata": {},
   "outputs": [
    {
     "data": {
      "text/plain": [
       "(2915, 163)"
      ]
     },
     "execution_count": 239,
     "metadata": {},
     "output_type": "execute_result"
    }
   ],
   "source": [
    "# create new feature\n",
    "# 2.3 polynominals on the top 10 existing features\n",
    "\n",
    "for col in top_imp_features:\n",
    "    all_data[col+\"_s2\"] = all_data[col] ** 2\n",
    "    all_data[col+\"_s3\"] = all_data[col] ** 3\n",
    "    all_data[col+\"_sq\"] = np.sqrt(all_data[col])\n",
    "all_data.shape"
   ]
  },
  {
   "cell_type": "code",
   "execution_count": 243,
   "metadata": {},
   "outputs": [
    {
     "data": {
      "text/plain": [
       "<matplotlib.collections.PathCollection at 0x1a24ecd908>"
      ]
     },
     "execution_count": 243,
     "metadata": {},
     "output_type": "execute_result"
    },
    {
     "data": {
      "image/png": "[encoded data removed]",
      "text/plain": [
       "<Figure size 432x288 with 1 Axes>"
      ]
     },
     "metadata": {
      "needs_background": "light"
     },
     "output_type": "display_data"
    }
   ],
   "source": [
    "plt.scatter(train_tmp.OverallQual_sq, train_tmp.SalePrice)"
   ]
  },
  {
   "cell_type": "code",
   "execution_count": null,
   "metadata": {},
   "outputs": [],
   "source": [
    "# feature types"
   ]
  },
  {
   "cell_type": "code",
   "execution_count": 244,
   "metadata": {
    "scrolled": false
   },
   "outputs": [
    {
     "name": "stdout",
     "output_type": "stream",
     "text": [
      "int64      89\n",
      "float64    44\n",
      "object     30\n",
      "Name: type, dtype: int64\n"
     ]
    }
   ],
   "source": [
    "# check types statistics\n",
    "df_types = data_type_statistics()"
   ]
  },
  {
   "cell_type": "code",
   "execution_count": 250,
   "metadata": {},
   "outputs": [
    {
     "name": "stdout",
     "output_type": "stream",
     "text": [
      "30\n",
      "133\n"
     ]
    }
   ],
   "source": [
    "cate_feat = all_data.select_dtypes(include=['object']).columns\n",
    "num_feat = all_data.select_dtypes(exclude=['object']).columns\n",
    "print(len(cate_feat))\n",
    "print(len(num_feat))\n",
    "all_cat, all_num = all_data[cate_feat], all_data[num_feat]"
   ]
  },
  {
   "cell_type": "code",
   "execution_count": 251,
   "metadata": {},
   "outputs": [
    {
     "data": {
      "text/plain": [
       "Index([], dtype='object')"
      ]
     },
     "execution_count": 251,
     "metadata": {},
     "output_type": "execute_result"
    }
   ],
   "source": [
    "# check if there is still some missing data\n",
    "# col with missing value\n",
    "all_data_na = (all_data.isnull().sum()) * 100\n",
    "all_data_na = all_data_na.drop(all_data_na[all_data_na==0].index).sort_values(ascending=False)\n",
    "all_data_na.index\n",
    "# no missing values found"
   ]
  },
  {
   "cell_type": "code",
   "execution_count": 258,
   "metadata": {
    "collapsed": true
   },
   "outputs": [
    {
     "name": "stderr",
     "output_type": "stream",
     "text": [
      "/miniconda3/envs/ml36/lib/python3.6/site-packages/pandas/core/frame.py:3140: SettingWithCopyWarning: \n",
      "A value is trying to be set on a copy of a slice from a DataFrame.\n",
      "Try using .loc[row_indexer,col_indexer] = value instead\n",
      "\n",
      "See the caveats in the documentation: http://pandas.pydata.org/pandas-docs/stable/indexing.html#indexing-view-versus-copy\n",
      "  self[k1] = value[k2]\n"
     ]
    }
   ],
   "source": [
    "# log transform num\n",
    "skewness = all_num.apply(lambda x: skew(x))\n",
    "skewness = skewness[abs(skewness) > 0.5]\n",
    "all_num[skewness.index] = np.log1p(all_num[skewness.index])"
   ]
  },
  {
   "cell_type": "code",
   "execution_count": 261,
   "metadata": {},
   "outputs": [
    {
     "data": {
      "text/plain": [
       "(2915, 308)"
      ]
     },
     "execution_count": 261,
     "metadata": {},
     "output_type": "execute_result"
    }
   ],
   "source": [
    "# create dummy for cate var\n",
    "all_cat = pd.get_dummies(all_cat)\n",
    "all_cat.shape"
   ]
  },
  {
   "cell_type": "code",
   "execution_count": 310,
   "metadata": {},
   "outputs": [
    {
     "name": "stderr",
     "output_type": "stream",
     "text": [
      "/miniconda3/envs/ml36/lib/python3.6/site-packages/lightgbm/__init__.py:46: UserWarning: Starting from version 2.2.1, the library file in distribution wheels for macOS is built by the Apple Clang (Xcode_9.4.1) compiler.\n",
      "This means that in case of installing LightGBM from PyPI via the ``pip install lightgbm`` command, you don't need to install the gcc compiler anymore.\n",
      "Instead of that, you need to install the OpenMP library, which is required for running LightGBM on the system with the Apple Clang compiler.\n",
      "You can install the OpenMP library by the following command: ``brew install libomp``.\n",
      "  \"You can install the OpenMP library by the following command: ``brew install libomp``.\", UserWarning)\n"
     ]
    }
   ],
   "source": [
    "# Modelling\n",
    "from sklearn.model_selection import cross_val_score, train_test_split, KFold\n",
    "from sklearn.preprocessing import StandardScaler, RobustScaler\n",
    "from sklearn.metrics import mean_squared_error, make_scorer\n",
    "from sklearn.kernel_ridge import KernelRidge\n",
    "from sklearn.linear_model import LinearRegression, LassoCV, RidgeCV, ElasticNetCV , Lasso, ElasticNet, Ridge\n",
    "from sklearn.pipeline import make_pipeline\n",
    "from sklearn.ensemble import GradientBoostingRegressor, RandomForestRegressor\n",
    "import xgboost as xgb\n",
    "import lightgbm as lgb"
   ]
  },
  {
   "cell_type": "code",
   "execution_count": 268,
   "metadata": {
    "collapsed": true
   },
   "outputs": [
    {
     "data": {
      "text/plain": [
       "(1456, 441)"
      ]
     },
     "execution_count": 268,
     "metadata": {},
     "output_type": "execute_result"
    }
   ],
   "source": [
    "all_data = pd.concat([all_cat, all_num], axis=1)\n",
    "train, test = all_data[:len(train)], all_data[len(train):]"
   ]
  },
  {
   "cell_type": "code",
   "execution_count": 270,
   "metadata": {},
   "outputs": [
    {
     "data": {
      "text/plain": [
       "(1019, 441)"
      ]
     },
     "execution_count": 270,
     "metadata": {},
     "output_type": "execute_result"
    }
   ],
   "source": [
    "X_train, X_test, y_train, y_test = train_test_split(train, y, test_size=0.3, random_state=0)\n",
    "X_train.shape"
   ]
  },
  {
   "cell_type": "code",
   "execution_count": 273,
   "metadata": {
    "collapsed": true
   },
   "outputs": [
    {
     "name": "stderr",
     "output_type": "stream",
     "text": [
      "/miniconda3/envs/ml36/lib/python3.6/site-packages/sklearn/preprocessing/data.py:617: DataConversionWarning: Data with input dtype int64, float64 were all converted to float64 by StandardScaler.\n",
      "  return self.partial_fit(X, y)\n",
      "/miniconda3/envs/ml36/lib/python3.6/site-packages/sklearn/base.py:462: DataConversionWarning: Data with input dtype int64, float64 were all converted to float64 by StandardScaler.\n",
      "  return self.fit(X, **fit_params).transform(X)\n",
      "/miniconda3/envs/ml36/lib/python3.6/site-packages/pandas/core/indexing.py:543: SettingWithCopyWarning: \n",
      "A value is trying to be set on a copy of a slice from a DataFrame.\n",
      "Try using .loc[row_indexer,col_indexer] = value instead\n",
      "\n",
      "See the caveats in the documentation: http://pandas.pydata.org/pandas-docs/stable/indexing.html#indexing-view-versus-copy\n",
      "  self.obj[item] = s\n",
      "/miniconda3/envs/ml36/lib/python3.6/site-packages/ipykernel_launcher.py:5: DataConversionWarning: Data with input dtype int64, float64 were all converted to float64 by StandardScaler.\n",
      "  \"\"\"\n",
      "/miniconda3/envs/ml36/lib/python3.6/site-packages/pandas/core/indexing.py:543: SettingWithCopyWarning: \n",
      "A value is trying to be set on a copy of a slice from a DataFrame.\n",
      "Try using .loc[row_indexer,col_indexer] = value instead\n",
      "\n",
      "See the caveats in the documentation: http://pandas.pydata.org/pandas-docs/stable/indexing.html#indexing-view-versus-copy\n",
      "  self.obj[item] = s\n"
     ]
    }
   ],
   "source": [
    "# standard scalling the num features\n",
    "stdSc = StandardScaler()\n",
    "\n",
    "X_train.loc[:, num_feat] = stdSc.fit_transform(X_train.loc[:, num_feat])\n",
    "X_test.loc[:, num_feat] = stdSc.transform(X_test.loc[:, num_feat])"
   ]
  },
  {
   "cell_type": "code",
   "execution_count": 281,
   "metadata": {},
   "outputs": [],
   "source": [
    "# def evaluation metric rmse\n",
    "\n",
    "def rmse_cv_train(model, n_folds=5):\n",
    "    kf = KFold(n_folds, shuffle=True, random_state=1).get_n_splits(X_train.values)\n",
    "    rmse = np.sqrt(-cross_val_score(model, X_train, y_train, scoring=\"neg_mean_squared_error\", cv=kf))\n",
    "    return(rmse)\n",
    "\n",
    "def rmse_cv_test(model, n_folds=5):\n",
    "    kf = KFold(n_folds, shuffle=True, random_state=1).get_n_splits(X_test.values)\n",
    "    rmse = np.sqrt(-cross_val_score(model, X_test, y_test, scoring=\"neg_mean_squared_error\", cv=kf))\n",
    "    return(rmse)"
   ]
  },
  {
   "cell_type": "code",
   "execution_count": 282,
   "metadata": {},
   "outputs": [
    {
     "name": "stdout",
     "output_type": "stream",
     "text": [
      "411659.02073167\n",
      "411659.02073167\n"
     ]
    }
   ],
   "source": [
    "# LR\n",
    "lr = LinearRegression()\n",
    "lr.fit(X_train, y_train)\n",
    "print(rmse_cv_train(lr).mean())\n",
    "print(rmse_cv_train(lr).mean())"
   ]
  },
  {
   "cell_type": "code",
   "execution_count": 314,
   "metadata": {},
   "outputs": [
    {
     "name": "stderr",
     "output_type": "stream",
     "text": [
      "/miniconda3/envs/ml36/lib/python3.6/site-packages/sklearn/linear_model/coordinate_descent.py:491: ConvergenceWarning: Objective did not converge. You might want to increase the number of iterations. Fitting data with very small alpha may cause precision problems.\n",
      "  ConvergenceWarning)\n",
      "/miniconda3/envs/ml36/lib/python3.6/site-packages/sklearn/linear_model/coordinate_descent.py:491: ConvergenceWarning: Objective did not converge. You might want to increase the number of iterations. Fitting data with very small alpha may cause precision problems.\n",
      "  ConvergenceWarning)\n",
      "/miniconda3/envs/ml36/lib/python3.6/site-packages/sklearn/linear_model/coordinate_descent.py:491: ConvergenceWarning: Objective did not converge. You might want to increase the number of iterations. Fitting data with very small alpha may cause precision problems.\n",
      "  ConvergenceWarning)\n",
      "/miniconda3/envs/ml36/lib/python3.6/site-packages/sklearn/linear_model/coordinate_descent.py:491: ConvergenceWarning: Objective did not converge. You might want to increase the number of iterations. Fitting data with very small alpha may cause precision problems.\n",
      "  ConvergenceWarning)\n",
      "/miniconda3/envs/ml36/lib/python3.6/site-packages/sklearn/linear_model/coordinate_descent.py:491: ConvergenceWarning: Objective did not converge. You might want to increase the number of iterations. Fitting data with very small alpha may cause precision problems.\n",
      "  ConvergenceWarning)\n"
     ]
    },
    {
     "name": "stdout",
     "output_type": "stream",
     "text": [
      "\n",
      "Lasso score: 0.1139 (0.0084)\n",
      "\n"
     ]
    },
    {
     "name": "stderr",
     "output_type": "stream",
     "text": [
      "/miniconda3/envs/ml36/lib/python3.6/site-packages/sklearn/linear_model/coordinate_descent.py:491: ConvergenceWarning: Objective did not converge. You might want to increase the number of iterations. Fitting data with very small alpha may cause precision problems.\n",
      "  ConvergenceWarning)\n",
      "/miniconda3/envs/ml36/lib/python3.6/site-packages/sklearn/linear_model/coordinate_descent.py:491: ConvergenceWarning: Objective did not converge. You might want to increase the number of iterations. Fitting data with very small alpha may cause precision problems.\n",
      "  ConvergenceWarning)\n",
      "/miniconda3/envs/ml36/lib/python3.6/site-packages/sklearn/linear_model/coordinate_descent.py:491: ConvergenceWarning: Objective did not converge. You might want to increase the number of iterations. Fitting data with very small alpha may cause precision problems.\n",
      "  ConvergenceWarning)\n"
     ]
    },
    {
     "name": "stdout",
     "output_type": "stream",
     "text": [
      "0.12307205938144347\n"
     ]
    },
    {
     "name": "stderr",
     "output_type": "stream",
     "text": [
      "/miniconda3/envs/ml36/lib/python3.6/site-packages/sklearn/linear_model/coordinate_descent.py:491: ConvergenceWarning: Objective did not converge. You might want to increase the number of iterations. Fitting data with very small alpha may cause precision problems.\n",
      "  ConvergenceWarning)\n"
     ]
    }
   ],
   "source": [
    "# Lasso\n",
    "lasso = make_pipeline(RobustScaler(), Lasso(alpha =0.0005, random_state=1))\n",
    "score = rmse_cv_train(lasso)\n",
    "print(\"\\nLasso score: {:.4f} ({:.4f})\\n\".format(score.mean(), score.std()))\n",
    "# Lasso score: 0.1139 (0.0084)\n",
    "print(rmse_cv_test(lasso).mean())\n",
    "# 0.12307205938144347"
   ]
  },
  {
   "cell_type": "code",
   "execution_count": 315,
   "metadata": {},
   "outputs": [
    {
     "name": "stdout",
     "output_type": "stream",
     "text": [
      "\n",
      "KRR: 0.1163 (0.0077)\n",
      "\n",
      "0.11731470361142962\n"
     ]
    }
   ],
   "source": [
    "# KRR\n",
    "KRR = KernelRidge(alpha=0.6, kernel='polynomial', degree=2, coef0=2.5)\n",
    "score = rmse_cv_train(KRR)\n",
    "print(\"\\nKRR: {:.4f} ({:.4f})\\n\".format(score.mean(), score.std()))\n",
    "# KRR: 0.1163 (0.0077)\n",
    "print(rmse_cv_test(KRR).mean())\n",
    "# 0.11731470361142962"
   ]
  },
  {
   "cell_type": "code",
   "execution_count": 309,
   "metadata": {
    "scrolled": true
   },
   "outputs": [
    {
     "name": "stdout",
     "output_type": "stream",
     "text": [
      "\n",
      "GBoost: 0.1272 (0.0108)\n",
      "\n"
     ]
    }
   ],
   "source": [
    "# GBM\n",
    "GBoost = GradientBoostingRegressor(n_estimators=6000, learning_rate=0.05,\n",
    "                                   max_depth=4, max_features='sqrt',\n",
    "                                   min_samples_leaf=30, min_samples_split=10, \n",
    "                                   loss='huber', random_state =5)\n",
    "score = rmse_cv_train(GBoost)\n",
    "print(\"\\nGBoost: {:.4f} ({:.4f})\\n\".format(score.mean(), score.std()))\n",
    "# GBoost: 0.1272 (0.0108)\n",
    "print(rmse_cv_test(GBoost).mean())\n",
    "# 0.13720823785535163"
   ]
  },
  {
   "cell_type": "code",
   "execution_count": 311,
   "metadata": {},
   "outputs": [
    {
     "name": "stdout",
     "output_type": "stream",
     "text": [
      "\n",
      "XGB: 0.1225 (0.0091)\n",
      "\n"
     ]
    }
   ],
   "source": [
    "# XGB\n",
    "model_xgb = xgb.XGBRegressor(colsample_bytree=0.4603, gamma=0.0468, \n",
    "                             learning_rate=0.05, max_depth=3, \n",
    "                             min_child_weight=1.7817, n_estimators=2200,\n",
    "                             reg_alpha=0.4640, reg_lambda=0.8571,\n",
    "                             subsample=0.5213, silent=1,\n",
    "                             random_state =7, nthread = -1)\n",
    "score = rmse_cv_train(model_xgb)\n",
    "print(\"\\nXGB: {:.4f} ({:.4f})\\n\".format(score.mean(), score.std()))\n",
    "# "
   ]
  },
  {
   "cell_type": "code",
   "execution_count": 317,
   "metadata": {},
   "outputs": [
    {
     "name": "stdout",
     "output_type": "stream",
     "text": [
      "0.12988771399777393\n"
     ]
    }
   ],
   "source": [
    "print(rmse_cv_test(model_xgb).mean())\n",
    "# 0.11731470361142962"
   ]
  },
  {
   "cell_type": "code",
   "execution_count": 312,
   "metadata": {},
   "outputs": [
    {
     "name": "stdout",
     "output_type": "stream",
     "text": [
      "\n",
      "GBoost: 0.1223 (0.0074)\n",
      "\n"
     ]
    }
   ],
   "source": [
    "model_lgb = lgb.LGBMRegressor(objective='regression',num_leaves=5,\n",
    "                              learning_rate=0.05, n_estimators=720,\n",
    "                              max_bin = 55, bagging_fraction = 0.8,\n",
    "                              bagging_freq = 5, feature_fraction = 0.2319,\n",
    "                              feature_fraction_seed=9, bagging_seed=9,\n",
    "                              min_data_in_leaf =6, min_sum_hessian_in_leaf = 11)\n",
    "score = rmse_cv_train(model_lgb)\n",
    "print(\"\\nLGB: {:.4f} ({:.4f})\\n\".format(score.mean(), score.std()))\n",
    "# GBoost: 0.1223 (0.0074)\n",
    "print(rmse_cv_test(model_lgb).mean())\n",
    "# 0.12783131540520723"
   ]
  },
  {
   "cell_type": "code",
   "execution_count": 318,
   "metadata": {},
   "outputs": [
    {
     "name": "stdout",
     "output_type": "stream",
     "text": [
      "0.12783131540520723\n"
     ]
    }
   ],
   "source": []
  },
  {
   "cell_type": "code",
   "execution_count": null,
   "metadata": {},
   "outputs": [],
   "source": []
  },
  {
   "cell_type": "code",
   "execution_count": null,
   "metadata": {},
   "outputs": [],
   "source": []
  },
  {
   "cell_type": "code",
   "execution_count": null,
   "metadata": {},
   "outputs": [],
   "source": []
  },
  {
   "cell_type": "code",
   "execution_count": null,
   "metadata": {},
   "outputs": [],
   "source": []
  },
  {
   "cell_type": "code",
   "execution_count": null,
   "metadata": {},
   "outputs": [],
   "source": []
  },
  {
   "cell_type": "code",
   "execution_count": null,
   "metadata": {},
   "outputs": [],
   "source": []
  },
  {
   "cell_type": "code",
   "execution_count": null,
   "metadata": {},
   "outputs": [],
   "source": []
  },
  {
   "cell_type": "code",
   "execution_count": null,
   "metadata": {},
   "outputs": [],
   "source": []
  },
  {
   "cell_type": "code",
   "execution_count": null,
   "metadata": {},
   "outputs": [],
   "source": []
  }
 ],
 "metadata": {
  "kernelspec": {
   "display_name": "Python 3",
   "language": "python",
   "name": "python3"
  },
  "language_info": {
   "codemirror_mode": {
    "name": "ipython",
    "version": 3
   },
   "file_extension": ".py",
   "mimetype": "text/x-python",
   "name": "python",
   "nbconvert_exporter": "python",
   "pygments_lexer": "ipython3",
   "version": "3.6.6"
  }
 },
 "nbformat": 4,
 "nbformat_minor": 2
}

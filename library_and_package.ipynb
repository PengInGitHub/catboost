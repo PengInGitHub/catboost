{
 "cells": [
  {
   "cell_type": "code",
   "execution_count": null,
   "metadata": {},
   "outputs": [],
   "source": [
    "# Logging \n",
    "# a means of tracking events that happen when some software runs.\n",
    "# functions for simple logging usage: \n",
    "# debug(), info(), warning(), error(), critical()"
   ]
  },
  {
   "cell_type": "code",
   "execution_count": 1,
   "metadata": {},
   "outputs": [
    {
     "name": "stderr",
     "output_type": "stream",
     "text": [
      "WARNING:root:Watch out! The programm is running.\n"
     ]
    }
   ],
   "source": [
    "import logging\n",
    "logging.warning('Watch out! The programm is running.')"
   ]
  },
  {
   "cell_type": "code",
   "execution_count": 2,
   "metadata": {},
   "outputs": [],
   "source": [
    "logging.info('I told you so.')"
   ]
  },
  {
   "cell_type": "code",
   "execution_count": null,
   "metadata": {},
   "outputs": [],
   "source": [
    "# Logging to a file\n",
    "# logging.basicConfig(filename='example.log', level=logging.DEBUG)\n",
    "# logging level acts as the threshold for tracking\n",
    "# set logging level from a command-line option: --log=INFO\n",
    "logging.debug('debug level msg')\n",
    "logging.info('info level msg')\n",
    "logging.warning('warning level msg')\n",
    "logging.error('error level msg')\n",
    "logging.critical('critical level msg')\n",
    "\n",
    "# logging.basicConfig(filename='example.log', level=logging.DEBUG, filemode='w')\n",
    "# filemode='w' enables rewrite the log file, otherwise each successive run is appended to the log file\n"
   ]
  },
  {
   "cell_type": "code",
   "execution_count": 6,
   "metadata": {},
   "outputs": [],
   "source": [
    "# logging from multiple modules\n",
    "logging.basicConfig(level=logging.DEBUG)\n",
    "def do_something():\n",
    "    logging.info('Doing')\n",
    "    return 5+6"
   ]
  },
  {
   "cell_type": "code",
   "execution_count": 12,
   "metadata": {},
   "outputs": [],
   "source": [
    "def main():\n",
    "    logging.info('Started')\n",
    "    res = do_something()\n",
    "    logging.warning(f'result is: {res}')\n",
    "    logging.info('Finished')"
   ]
  },
  {
   "cell_type": "code",
   "execution_count": 13,
   "metadata": {},
   "outputs": [
    {
     "name": "stderr",
     "output_type": "stream",
     "text": [
      "WARNING:root:result is: 11\n"
     ]
    }
   ],
   "source": [
    "if __name__ == '__main__':\n",
    "    main()"
   ]
  },
  {
   "cell_type": "code",
   "execution_count": 11,
   "metadata": {},
   "outputs": [],
   "source": [
    "main()"
   ]
  },
  {
   "cell_type": "code",
   "execution_count": null,
   "metadata": {},
   "outputs": [],
   "source": []
  },
  {
   "cell_type": "code",
   "execution_count": null,
   "metadata": {},
   "outputs": [],
   "source": []
  },
  {
   "cell_type": "code",
   "execution_count": null,
   "metadata": {},
   "outputs": [],
   "source": []
  }
 ],
 "metadata": {
  "kernelspec": {
   "display_name": "Python 3",
   "language": "python",
   "name": "python3"
  },
  "language_info": {
   "codemirror_mode": {
    "name": "ipython",
    "version": 3
   },
   "file_extension": ".py",
   "mimetype": "text/x-python",
   "name": "python",
   "nbconvert_exporter": "python",
   "pygments_lexer": "ipython3",
   "version": "3.6.6"
  }
 },
 "nbformat": 4,
 "nbformat_minor": 2
}

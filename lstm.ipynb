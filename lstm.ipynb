{
 "cells": [
  {
   "cell_type": "code",
   "execution_count": 1,
   "metadata": {},
   "outputs": [],
   "source": [
    "import time\n",
    "import numpy as np\n",
    "import tensorflow as tf"
   ]
  },
  {
   "cell_type": "code",
   "execution_count": null,
   "metadata": {},
   "outputs": [],
   "source": [
    "# step 1: data preprocessing\n",
    "# step 2: build model\n",
    "# step 3: train model\n",
    "# step 4: apply model - generate text"
   ]
  },
  {
   "cell_type": "code",
   "execution_count": 6,
   "metadata": {},
   "outputs": [
    {
     "data": {
      "text/plain": [
       "array([19, 37, 37, ..., 52, 64, 36], dtype=int32)"
      ]
     },
     "execution_count": 6,
     "metadata": {},
     "output_type": "execute_result"
    }
   ],
   "source": [
    "# load data\n",
    "\n",
    "with open('/Users/pliu/Downloads/all/data_description.txt', 'r') as f:\n",
    "    text = f.read()\n",
    "type(text)\n",
    "\n",
    "# get vocabulary\n",
    "vocab = set(text)\n",
    "\n",
    "# vocab-int mapping dict\n",
    "vocab_to_int = {c:i for i, c in enumerate(vocab)}\n",
    "\n",
    "# int-vocab mapping dict\n",
    "int_to_vocab = dict(enumerate(vocab))\n",
    "\n",
    "# encode text\n",
    "encoded = np.array([vocab_to_int[c] for c in text], dtype=np.int32)"
   ]
  },
  {
   "cell_type": "code",
   "execution_count": null,
   "metadata": {},
   "outputs": [],
   "source": [
    "def get_batches(arr, n_seqs, n_steps):\n",
    "    \"\"\"\n",
    "    split array by batch and sequence (mini-batch)\n",
    "    args:\n",
    "        arr: the array to split\n",
    "        n_seqs: num of sequence in a batch\n",
    "        n_steps: length of each sequence\n",
    "    \"\"\"\n",
    "    batch_size = n_seqs * n_steps\n",
    "    n_batch = len(arr) // batch_size\n",
    "    \n",
    "    arr = arr[:n_batch*batch_size]\n",
    "    \n",
    "    arr = arr.reshape((n_seqs,-1))\n",
    "    \n",
    "    # generator\n",
    "    for n in range(0, arr.shape[1], n_steps):\n",
    "        x = arr[: n:n+n_steps]\n",
    "        y = np.zeros_like(x)\n",
    "        y[:, :-1], y[:, -1] = x[:, 1:], y[:, 0]\n",
    "        yield x, y"
   ]
  },
  {
   "cell_type": "code",
   "execution_count": null,
   "metadata": {},
   "outputs": [],
   "source": [
    "# build model\n",
    "\n",
    "# layers: input, lstm, output\n",
    "# loss\n",
    "# optimizer"
   ]
  },
  {
   "cell_type": "code",
   "execution_count": null,
   "metadata": {},
   "outputs": [],
   "source": [
    "# input layer\n",
    "# size of input layer depends on the batch size\n",
    "def build_inputs(n_seqs, n_steps):\n",
    "    \"\"\"\n",
    "    build input layer\n",
    "    args:\n",
    "        n_seqs: num of sequence in each batch\n",
    "        n_steps: length of char in each sequence\n",
    "    \"\"\"\n",
    "    inputs = tf.placeholder(tf.int32, shape=(n_seqs, n_steps), name='inputs')\n",
    "    targets = tf.placeholder(tf.int32, shape(n_seqs, n_steps), name='targets')\n",
    "    \n",
    "    # keep probability, for dropout\n",
    "    keep_prob = tf.placeholder(tf.float32, name='keep_prob')\n",
    "    \n",
    "    return inputs, targets, keep_prob"
   ]
  },
  {
   "cell_type": "code",
   "execution_count": 7,
   "metadata": {},
   "outputs": [],
   "source": [
    "def build_lstm(lstm_size, num_layers, batch_size, keep_prob):\n",
    "    \"\"\"\n",
    "    build lstm layer\n",
    "    args:\n",
    "        lstm_size: number of nodes in hidden layer\n",
    "        num_layers: number of lstm layers\n",
    "        batch_size: n_seq * n_steps\n",
    "        keep_prob: parameter for dropout\n",
    "    \"\"\"\n",
    "    # build a lstm cell\n",
    "    cell = tf.nn.rnn_cell.BasicLSTMCell(lstm_size)\n",
    "    \n",
    "    # add dropout regularization\n",
    "    drop = tf.nn.rnn_cell.DropoutWrapper(lstm, output_keep_prob=keep_prob)\n",
    "    \n",
    "    # add mutiple lstm cell\n",
    "    cell = tf.nn.rnn_cell.MultiRNNCell([drop for _ in range(num_layers)])\n",
    "    initial_state = cell.zero_state(batch_size, tf.float32)\n",
    "    \n",
    "    return cell, initial_state"
   ]
  },
  {
   "cell_type": "code",
   "execution_count": 8,
   "metadata": {},
   "outputs": [],
   "source": [
    "def build_out(lstm_output, in_size, out_size):\n",
    "    \"\"\"\n",
    "    build output layer\n",
    "    args:\n",
    "        lstm_output: output of lstm layer, a 3D array\n",
    "        in_size: size of reshaped lstm\n",
    "        out_size: size of softmax\n",
    "    return:\n",
    "        logits\n",
    "        probability distribution after softmax\n",
    "    \"\"\"\n",
    "    # reshape lstm output\n",
    "    # concat output of lstm by column, 2D => 1D\n",
    "    # [[1,2,3], [4,5,6]] => [1,2,3,4,5,6]\n",
    "    seq_output = tf.concat(lstm_output, 1)\n",
    "    # reshape\n",
    "    x = tf.reshape(seq_output, [-1, in_size])\n",
    "    \n",
    "    # connect lstm to softmax layer\n",
    "    with tf.variable_score('softmax'):\n",
    "        softmax_w = tf.Variable(tf.truncated_normal([in_size, out_size],stddev=0.1))\n",
    "        softmax_b = tf.Variable(tf.zeros(out_size))\n",
    "        \n",
    "    # calculate logits\n",
    "    logits = tf.matmul(x, softmax_w) + softmax_b\n",
    "    \n",
    "    # get probability distribution from softmax layer\n",
    "    out = tf.nn.softmax(logits, name='predictions')\n",
    "    \n",
    "    return out, logits   "
   ]
  },
  {
   "cell_type": "code",
   "execution_count": null,
   "metadata": {},
   "outputs": [],
   "source": [
    "# loss\n",
    "def build_loss(logits, targets, lsmt_size, num_classes):\n",
    "    \"\"\"\n",
    "    calculate loss based on logits and targets\n",
    "    args:\n",
    "        logits: output of fully-connected layer, without softmax\n",
    "        targets\n",
    "        lsmt_size: number of nodes in lsmt layer\n",
    "        num_classes: vocab_size, number of classes\n",
    "    return:\n",
    "    \"\"\"\n",
    "    # one-hot encoding to targets\n",
    "    \n",
    "    "
   ]
  },
  {
   "cell_type": "code",
   "execution_count": null,
   "metadata": {},
   "outputs": [],
   "source": [
    "# step 3: train model\n"
   ]
  },
  {
   "cell_type": "code",
   "execution_count": null,
   "metadata": {},
   "outputs": [],
   "source": []
  },
  {
   "cell_type": "code",
   "execution_count": null,
   "metadata": {},
   "outputs": [],
   "source": []
  },
  {
   "cell_type": "code",
   "execution_count": null,
   "metadata": {},
   "outputs": [],
   "source": []
  },
  {
   "cell_type": "code",
   "execution_count": null,
   "metadata": {},
   "outputs": [],
   "source": []
  },
  {
   "cell_type": "code",
   "execution_count": null,
   "metadata": {},
   "outputs": [],
   "source": []
  },
  {
   "cell_type": "code",
   "execution_count": null,
   "metadata": {},
   "outputs": [],
   "source": []
  },
  {
   "cell_type": "code",
   "execution_count": null,
   "metadata": {},
   "outputs": [],
   "source": []
  },
  {
   "cell_type": "code",
   "execution_count": null,
   "metadata": {},
   "outputs": [],
   "source": []
  }
 ],
 "metadata": {
  "kernelspec": {
   "display_name": "Python 3",
   "language": "python",
   "name": "python3"
  },
  "language_info": {
   "codemirror_mode": {
    "name": "ipython",
    "version": 3
   },
   "file_extension": ".py",
   "mimetype": "text/x-python",
   "name": "python",
   "nbconvert_exporter": "python",
   "pygments_lexer": "ipython3",
   "version": "3.6.6"
  }
 },
 "nbformat": 4,
 "nbformat_minor": 2
}

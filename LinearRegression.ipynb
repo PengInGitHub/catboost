{
 "cells": [
  {
   "cell_type": "code",
   "execution_count": 63,
   "metadata": {},
   "outputs": [],
   "source": [
    "from __future__ import division\n",
    "import seaborn as sns"
   ]
  },
  {
   "cell_type": "markdown",
   "metadata": {},
   "source": [
    "##  Linear Regression:  $Y_{i} = \\alpha + \\beta * X_{i} + \\epsilon_{i}$"
   ]
  },
  {
   "cell_type": "code",
   "execution_count": null,
   "metadata": {},
   "outputs": [],
   "source": [
    "# http://csrgxtu.github.io/2015/03/20/Writing-Mathematic-Fomulars-in-Markdown/\n",
    "# Markdown math"
   ]
  },
  {
   "cell_type": "code",
   "execution_count": 3,
   "metadata": {},
   "outputs": [],
   "source": [
    "# helper funcs for calculation\n",
    "def mean(x):\n",
    "    return sum(x) / len(x)\n",
    "\n",
    "def de_mean(x):\n",
    "    \"\"\"translate x by subtracting its mean, so that result has 0 mean\n",
    "    \"\"\"\n",
    "    return [x_i - mean(x) for x_i in x]\n",
    "\n",
    "def covariance(x, y):\n",
    "    return dot(de_mean(x), de_mean(y)) / (len(x)-1)\n",
    "\n",
    "def correlation(x, y):\n",
    "    std_x, std_y = standard_deviation(x), standard_deviation(y)\n",
    "    \n",
    "    if std_x > 0 and std_y > 0:\n",
    "        return covariance(x, y) / std_x / std_y"
   ]
  },
  {
   "cell_type": "code",
   "execution_count": 4,
   "metadata": {},
   "outputs": [],
   "source": [
    "# for example Yi: minutes that user i spent on the site daily,\n",
    "#             Xi: number of friends user i has\n",
    "\n",
    "# with determined alpha and beta\n",
    "def predict(alpha, beta, x_i):\n",
    "    return beta * x_i + alpha\n",
    "\n",
    "# evaluate by error\n",
    "# problem: aggregated errors may cancel out neg & pos errors\n",
    "def error(alpha, beta, x_i, y_i):\n",
    "    return y_i - predict(alpha, beta, x_i)\n",
    "\n",
    "# evaluate by Sum of Squared Errors:\n",
    "def sum_of_squared_errors(alpha, beta, x, y):\n",
    "    return sum( error(alpha, beta, x_i, y_i)**2\n",
    "        for y_i, x_i in zip(y_i, x_i))\n",
    "\n",
    "# OLS the least square solution is to choose\n",
    "# alpha and beta that minimizes the errors\n",
    "def least_squares_fit(x, y):\n",
    "    \"\"\"giving training values for x and y, find the best alpha and beta\n",
    "    \"\"\"\n",
    "    beta = correlation(x, y) * standard_deviation(y) / standard_deviation(x)\n",
    "    \n",
    "    # alpha \n",
    "    alpha = mean(y) - beta * mean(x)\n",
    "    \n",
    "    return alpha, beta"
   ]
  },
  {
   "cell_type": "code",
   "execution_count": null,
   "metadata": {},
   "outputs": [],
   "source": [
    "# test\n",
    "\n",
    "\n",
    "outlier = num_friends.index(100)\n",
    "\n",
    "num_friends_good = [x for i,x in enumerate(num_friends) if num i != outlier ]\n",
    "\n",
    "daily_minutes_good = [x for i,x in enumerate(daily_minutes) if ]"
   ]
  },
  {
   "cell_type": "code",
   "execution_count": 12,
   "metadata": {},
   "outputs": [],
   "source": [
    "users = [\n",
    "    {\"id\":0, \"name\":\"Hero\"},\n",
    "    {\"id\":1, \"name\":\"Dunn\"},\n",
    "    {\"id\":2, \"name\":\"Sue\"},\n",
    "    {\"id\":3, \"name\":\"Chi\"},\n",
    "    {\"id\":4, \"name\":\"Thor\"},\n",
    "    {\"id\":5, \"name\":\"Clive\"},\n",
    "    {\"id\":6, \"name\":\"Hicks\"},\n",
    "    {\"id\":7, \"name\":\"Devin\"},\n",
    "    {\"id\":8, \"name\":\"Kate\"},\n",
    "    {\"id\":9, \"name\":\"kline\"},\n",
    "]\n",
    "\n",
    "friendships = [(0, 1), (0, 2), (1, 2), (1, 3), (2, 3), (3, 4),\n",
    "(4, 5), (5, 6), (5, 7), (6, 8), (7, 8), (8, 9)]\n",
    "\n",
    "\n",
    "for user in users:\n",
    "    user['friends'] = []\n",
    "    \n",
    "for i, j in friendships:\n",
    "    # index by sequence, which is same as id\n",
    "    # users[i]['friends'] is a list, has func append()\n",
    "    users[i]['friends'].append(users[j]['id']) \n",
    "    users[j]['friends'].append(users[i]['id'])\n"
   ]
  },
  {
   "cell_type": "code",
   "execution_count": 21,
   "metadata": {},
   "outputs": [
    {
     "name": "stdout",
     "output_type": "stream",
     "text": [
      "2.4\n",
      "[(1, 3), (2, 3), (3, 3), (5, 3), (8, 3), (0, 2), (4, 2), (6, 2), (7, 2), (9, 1)]\n"
     ]
    }
   ],
   "source": [
    "# Some statistics\n",
    "\n",
    "# average num of connections\n",
    "total_connections = sum(len(user['friends']) for user in users)\n",
    "avg_connections = total_connections / len(users)\n",
    "print(avg_connections)\n",
    "\n",
    "# most connected people\n",
    "user_friend_count_pair = [(user['id'], len(user['friends'])) for user in users]\n",
    "user_friend_count_pair = sorted(user_friend_count_pair, \n",
    "                                key=lambda x:x[1] , \n",
    "                                reverse=True)\n",
    "print(user_friend_count_pair)"
   ]
  },
  {
   "cell_type": "code",
   "execution_count": 57,
   "metadata": {},
   "outputs": [
    {
     "data": {
      "text/plain": [
       "Counter({0: 2, 5: 1})"
      ]
     },
     "execution_count": 57,
     "metadata": {},
     "output_type": "execute_result"
    }
   ],
   "source": [
    "# friends recommendation: friends' friends\n",
    "# TODO: count of mutual friends, exclude ppl already known to the user\n",
    "from collections import Counter, defaultdict\n",
    "\n",
    "def friends_of_friends_of(user):\n",
    "    return Counter(fof_id\n",
    "            for friend in user['friends']\n",
    "            for fof_id in users[friend]['friends']\n",
    "            if user['id'] != fof_id # not user himself\n",
    "            and fof_id not in user['friends']) # not user's direct friends\n",
    "            \n",
    "friends_of_friends_of(users[3])"
   ]
  },
  {
   "cell_type": "code",
   "execution_count": 61,
   "metadata": {},
   "outputs": [
    {
     "data": {
      "text/plain": [
       "Counter({9: 3, 8: 1, 1: 2, 5: 1})"
      ]
     },
     "execution_count": 61,
     "metadata": {},
     "output_type": "execute_result"
    }
   ],
   "source": [
    "interests = [\n",
    "    (0, \"Hadoop\"), (0, \"Big Data\"), (0, \"HBase\"), (0, \"Java\"),\n",
    "    (0, \"Spark\"), (0, \"Storm\"), (0, \"Cassandra\"),\n",
    "    (1, \"NoSQL\"), (1, \"MongoDB\"), (1, \"Cassandra\"), (1, \"HBase\"),\n",
    "    (1, \"Postgres\"), (2, \"Python\"), (2, \"scikit-learn\"), (2, \"scipy\"),\n",
    "    (2, \"numpy\"), (2, \"statsmodels\"), (2, \"pandas\"), (3, \"R\"), (3, \"Python\"),\n",
    "    (3, \"statistics\"), (3, \"regression\"), (3, \"probability\"),\n",
    "    (4, \"machine learning\"), (4, \"regression\"), (4, \"decision trees\"),\n",
    "    (4, \"libsvm\"), (5, \"Python\"), (5, \"R\"), (5, \"Java\"), (5, \"C++\"),\n",
    "    (5, \"Haskell\"), (5, \"programming languages\"), (6, \"statistics\"),\n",
    "    (6, \"probability\"), (6, \"mathematics\"), (6, \"theory\"),\n",
    "    (7, \"machine learning\"), (7, \"scikit-learn\"), (7, \"Mahout\"),\n",
    "    (7, \"neural networks\"), (8, \"neural networks\"), (8, \"deep learning\"),\n",
    "    (8, \"Big Data\"), (8, \"artificial intelligence\"), (9, \"Hadoop\"),\n",
    "    (9, \"Java\"), (9, \"MapReduce\"), (9, \"Big Data\")\n",
    "]\n",
    "# Thor (4th) and Devin (7th) have no friends in common but share interest in Machine Learning\n",
    "\n",
    "# search data scientists who have common interest in an item\n",
    "def data_scientists_with_interest_with(target_interest):\n",
    "    return [ds_id\n",
    "            for ds_id, interest in interests\n",
    "            if interest == target_interest\n",
    "           ]\n",
    "data_scientists_with_interest_with(\"Big Data\")\n",
    "\n",
    "# build an index from interests to users\n",
    "# keys are interests, values are lists of users who have that interest\n",
    "def get_interest_user_index():\n",
    "    res = defaultdict(list)\n",
    "    for user, interest in interests:\n",
    "        res[interest].append(user)\n",
    "    return res\n",
    "user_ids_by_interest =  get_interest_user_index()\n",
    "\n",
    "# from users to interests, users as index\n",
    "interests_by_user_id = defaultdict(list)\n",
    "for user_id, interest in interests:\n",
    "    interests_by_user_id[user_id].append(interest)\n",
    "\n",
    "# find out who has the most interests in common with the given user\n",
    "\n",
    "def most_common_interests_with(user_id):\n",
    "    return Counter(interested_user_id\n",
    "                  for interest in interests_by_user_id[user_id]\n",
    "                  for interested_user_id in user_ids_by_interest[interest]\n",
    "                  if interested_user_id != user_id\n",
    "                  )\n",
    "most_common_interests_with(0)"
   ]
  },
  {
   "cell_type": "code",
   "execution_count": 70,
   "metadata": {},
   "outputs": [],
   "source": [
    "import matplotlib.pyplot as plt\n",
    "salaries_and_tenures = [(83000, 8.7), (88000, 8.1),\n",
    "                        (48000, 0.7), (76000, 6),\n",
    "                        (69000, 6.5), (76000, 7.5),\n",
    "                        (60000, 2.5), (83000, 10),\n",
    "                        (48000, 1.9), (63000, 4.2)]\n",
    "reverse_salaries_and_tenures = [(item[1],item[0]) for item in salaries_and_tenures]"
   ]
  },
  {
   "cell_type": "code",
   "execution_count": 72,
   "metadata": {},
   "outputs": [
    {
     "data": {
      "image/png": "[encoded data removed]",
      "text/plain": [
       "<Figure size 432x288 with 1 Axes>"
      ]
     },
     "metadata": {
      "needs_background": "light"
     },
     "output_type": "display_data"
    }
   ],
   "source": [
    "plt.scatter(*zip(*reverse_salaries_and_tenures))\n",
    "plt.title('Salaries by Year Experience')\n",
    "plt.xlabel('Years Experience')\n",
    "plt.ylabel('Salary')\n",
    "plt.show();"
   ]
  },
  {
   "cell_type": "code",
   "execution_count": 76,
   "metadata": {},
   "outputs": [
    {
     "data": {
      "text/plain": [
       "{'more than more': 79166.66666666667,\n",
       " 'less than two': 48000.0,\n",
       " 'btw two and five': 61500.0}"
      ]
     },
     "execution_count": 76,
     "metadata": {},
     "output_type": "execute_result"
    }
   ],
   "source": [
    "# compute average salary for each tenure\n",
    "salary_by_tenure = defaultdict(list)\n",
    "\n",
    "for salary, tenure in salaries_and_tenures:\n",
    "    salary_by_tenure[tenure].append(salary)\n",
    "\n",
    "average_salary_by_tenure = {\n",
    "    tenure : sum(salaries) / len(salaries)\n",
    "    for tenure, salaries in salary_by_tenure.items()\n",
    " }\n",
    "\n",
    "# bucket the tenures \n",
    "# into three groups\n",
    "def tenure_bucket(tenure):\n",
    "    if tenure < 2:\n",
    "        return 'less than two'\n",
    "    elif tenure < 5:\n",
    "        return 'btw two and five'\n",
    "    else:\n",
    "        return 'more than more'\n",
    "\n",
    "\n",
    "# compute salary by tenure bucket\n",
    "salary_by_bucket = defaultdict(list)\n",
    "\n",
    "for salary, tenure in salaries_and_tenures:\n",
    "    bucket = tenure_bucket(tenure)\n",
    "    salary_by_bucket[bucket].append(salary)\n",
    "\n",
    "average_salary_by_bucket =  {\n",
    "    bucket : sum(salaries) / len(salaries)\n",
    "    for bucket, salaries in salary_by_bucket.items()\n",
    "}\n",
    "\n",
    "average_salary_by_bucket"
   ]
  },
  {
   "cell_type": "code",
   "execution_count": 77,
   "metadata": {},
   "outputs": [],
   "source": [
    "def predict_paid_unpaid(years_exxperience):\n",
    "    if years_exxperience < 3.0:\n",
    "        return 'paid'\n",
    "    elif years_exxperience < 8.5:\n",
    "        return 'unpaid'\n",
    "    else:\n",
    "        return 'paid'"
   ]
  },
  {
   "cell_type": "code",
   "execution_count": 84,
   "metadata": {},
   "outputs": [
    {
     "data": {
      "text/plain": [
       "[('Big Data', 3), ('Java', 3), ('Python', 3), ('Hadoop', 2), ('HBase', 2)]"
      ]
     },
     "execution_count": 84,
     "metadata": {},
     "output_type": "execute_result"
    }
   ],
   "source": [
    "# popular interests\n",
    "top_popular = Counter(\n",
    "    interest\n",
    "    for user_id, interest in interests\n",
    ").most_common(5)\n",
    "top_popular"
   ]
  },
  {
   "cell_type": "code",
   "execution_count": null,
   "metadata": {},
   "outputs": [],
   "source": []
  },
  {
   "cell_type": "code",
   "execution_count": null,
   "metadata": {},
   "outputs": [],
   "source": []
  },
  {
   "cell_type": "code",
   "execution_count": null,
   "metadata": {},
   "outputs": [],
   "source": []
  },
  {
   "cell_type": "code",
   "execution_count": null,
   "metadata": {},
   "outputs": [],
   "source": []
  },
  {
   "cell_type": "code",
   "execution_count": null,
   "metadata": {},
   "outputs": [],
   "source": []
  },
  {
   "cell_type": "code",
   "execution_count": null,
   "metadata": {},
   "outputs": [],
   "source": []
  },
  {
   "cell_type": "code",
   "execution_count": null,
   "metadata": {},
   "outputs": [],
   "source": []
  },
  {
   "cell_type": "code",
   "execution_count": null,
   "metadata": {},
   "outputs": [],
   "source": []
  },
  {
   "cell_type": "code",
   "execution_count": null,
   "metadata": {},
   "outputs": [],
   "source": []
  },
  {
   "cell_type": "code",
   "execution_count": null,
   "metadata": {},
   "outputs": [],
   "source": []
  },
  {
   "cell_type": "code",
   "execution_count": null,
   "metadata": {},
   "outputs": [],
   "source": []
  },
  {
   "cell_type": "code",
   "execution_count": null,
   "metadata": {},
   "outputs": [],
   "source": []
  },
  {
   "cell_type": "code",
   "execution_count": null,
   "metadata": {},
   "outputs": [],
   "source": []
  },
  {
   "cell_type": "code",
   "execution_count": null,
   "metadata": {},
   "outputs": [],
   "source": []
  }
 ],
 "metadata": {
  "kernelspec": {
   "display_name": "Python 3",
   "language": "python",
   "name": "python3"
  },
  "language_info": {
   "codemirror_mode": {
    "name": "ipython",
    "version": 3
   },
   "file_extension": ".py",
   "mimetype": "text/x-python",
   "name": "python",
   "nbconvert_exporter": "python",
   "pygments_lexer": "ipython3",
   "version": "3.6.6"
  }
 },
 "nbformat": 4,
 "nbformat_minor": 2
}

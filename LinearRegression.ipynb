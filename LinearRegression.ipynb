{
 "cells": [
  {
   "cell_type": "code",
   "execution_count": 63,
   "metadata": {},
   "outputs": [],
   "source": [
    "from __future__ import division\n",
    "import seaborn as sns"
   ]
  },
  {
   "cell_type": "markdown",
   "metadata": {},
   "source": [
    "##  Linear Regression:  $Y_{i} = \\alpha + \\beta * X_{i} + \\epsilon_{i}$"
   ]
  },
  {
   "cell_type": "code",
   "execution_count": null,
   "metadata": {},
   "outputs": [],
   "source": [
    "# http://csrgxtu.github.io/2015/03/20/Writing-Mathematic-Fomulars-in-Markdown/\n",
    "# Markdown math"
   ]
  },
  {
   "cell_type": "code",
   "execution_count": 3,
   "metadata": {},
   "outputs": [],
   "source": [
    "# helper funcs for calculation\n",
    "def mean(x):\n",
    "    return sum(x) / len(x)\n",
    "\n",
    "def de_mean(x):\n",
    "    \"\"\"translate x by subtracting its mean, so that result has 0 mean\n",
    "    \"\"\"\n",
    "    return [x_i - mean(x) for x_i in x]\n",
    "\n",
    "def covariance(x, y):\n",
    "    return dot(de_mean(x), de_mean(y)) / (len(x)-1)\n",
    "\n",
    "def correlation(x, y):\n",
    "    std_x, std_y = standard_deviation(x), standard_deviation(y)\n",
    "    \n",
    "    if std_x > 0 and std_y > 0:\n",
    "        return covariance(x, y) / std_x / std_y"
   ]
  },
  {
   "cell_type": "code",
   "execution_count": 438,
   "metadata": {},
   "outputs": [],
   "source": [
    "# for example Yi: minutes that user i spent on the site daily,\n",
    "#             Xi: number of friends user i has\n",
    "\n",
    "# with determined alpha and beta\n",
    "def predict(alpha, beta, x_i):\n",
    "    return beta * x_i + alpha\n",
    "\n",
    "# evaluate by error\n",
    "# problem: aggregated errors may cancel out neg & pos errors\n",
    "def error(alpha, beta, x_i, y_i):\n",
    "    return y_i - predict(alpha, beta, x_i)\n",
    "\n",
    "# evaluate by Sum of Squared Errors:\n",
    "def sum_of_squared_errors(alpha, beta, x, y):\n",
    "    return sum( error(alpha, beta, x_i, y_i)**2\n",
    "        for y_i, x_i in zip(y, x))\n",
    "\n",
    "# OLS the least square solution is to choose\n",
    "# alpha and beta that minimizes the errors\n",
    "def least_squares_fit(x, y):\n",
    "    \"\"\"giving training values for x and y, find the best alpha and beta\n",
    "    \"\"\"\n",
    "    beta = correlation(x, y) * standard_deviation(y) / standard_deviation(x)\n",
    "    \n",
    "    # alpha \n",
    "    alpha = mean(y) - beta * mean(x)\n",
    "    \n",
    "    return alpha, beta"
   ]
  },
  {
   "cell_type": "code",
   "execution_count": null,
   "metadata": {},
   "outputs": [],
   "source": [
    "# test\n",
    "\n",
    "\n",
    "outlier = num_friends.index(100)\n",
    "\n",
    "num_friends_good = [x for i,x in enumerate(num_friends) if num i != outlier ]\n",
    "\n",
    "daily_minutes_good = [x for i,x in enumerate(daily_minutes) if ]"
   ]
  },
  {
   "cell_type": "code",
   "execution_count": 12,
   "metadata": {},
   "outputs": [],
   "source": [
    "users = [\n",
    "    {\"id\":0, \"name\":\"Hero\"},\n",
    "    {\"id\":1, \"name\":\"Dunn\"},\n",
    "    {\"id\":2, \"name\":\"Sue\"},\n",
    "    {\"id\":3, \"name\":\"Chi\"},\n",
    "    {\"id\":4, \"name\":\"Thor\"},\n",
    "    {\"id\":5, \"name\":\"Clive\"},\n",
    "    {\"id\":6, \"name\":\"Hicks\"},\n",
    "    {\"id\":7, \"name\":\"Devin\"},\n",
    "    {\"id\":8, \"name\":\"Kate\"},\n",
    "    {\"id\":9, \"name\":\"kline\"},\n",
    "]\n",
    "\n",
    "friendships = [(0, 1), (0, 2), (1, 2), (1, 3), (2, 3), (3, 4),\n",
    "(4, 5), (5, 6), (5, 7), (6, 8), (7, 8), (8, 9)]\n",
    "\n",
    "\n",
    "for user in users:\n",
    "    user['friends'] = []\n",
    "    \n",
    "for i, j in friendships:\n",
    "    # index by sequence, which is same as id\n",
    "    # users[i]['friends'] is a list, has func append()\n",
    "    users[i]['friends'].append(users[j]['id']) \n",
    "    users[j]['friends'].append(users[i]['id'])\n"
   ]
  },
  {
   "cell_type": "code",
   "execution_count": 21,
   "metadata": {},
   "outputs": [
    {
     "name": "stdout",
     "output_type": "stream",
     "text": [
      "2.4\n",
      "[(1, 3), (2, 3), (3, 3), (5, 3), (8, 3), (0, 2), (4, 2), (6, 2), (7, 2), (9, 1)]\n"
     ]
    }
   ],
   "source": [
    "# Some statistics\n",
    "\n",
    "# average num of connections\n",
    "total_connections = sum(len(user['friends']) for user in users)\n",
    "avg_connections = total_connections / len(users)\n",
    "print(avg_connections)\n",
    "\n",
    "# most connected people\n",
    "user_friend_count_pair = [(user['id'], len(user['friends'])) for user in users]\n",
    "user_friend_count_pair = sorted(user_friend_count_pair, \n",
    "                                key=lambda x:x[1] , \n",
    "                                reverse=True)\n",
    "print(user_friend_count_pair)"
   ]
  },
  {
   "cell_type": "code",
   "execution_count": 57,
   "metadata": {},
   "outputs": [
    {
     "data": {
      "text/plain": [
       "Counter({0: 2, 5: 1})"
      ]
     },
     "execution_count": 57,
     "metadata": {},
     "output_type": "execute_result"
    }
   ],
   "source": [
    "# friends recommendation: friends' friends\n",
    "# TODO: count of mutual friends, exclude ppl already known to the user\n",
    "from collections import Counter, defaultdict\n",
    "\n",
    "def friends_of_friends_of(user):\n",
    "    return Counter(fof_id\n",
    "            for friend in user['friends']\n",
    "            for fof_id in users[friend]['friends']\n",
    "            if user['id'] != fof_id # not user himself\n",
    "            and fof_id not in user['friends']) # not user's direct friends\n",
    "            \n",
    "friends_of_friends_of(users[3])"
   ]
  },
  {
   "cell_type": "code",
   "execution_count": 61,
   "metadata": {},
   "outputs": [
    {
     "data": {
      "text/plain": [
       "Counter({9: 3, 8: 1, 1: 2, 5: 1})"
      ]
     },
     "execution_count": 61,
     "metadata": {},
     "output_type": "execute_result"
    }
   ],
   "source": [
    "interests = [\n",
    "    (0, \"Hadoop\"), (0, \"Big Data\"), (0, \"HBase\"), (0, \"Java\"),\n",
    "    (0, \"Spark\"), (0, \"Storm\"), (0, \"Cassandra\"),\n",
    "    (1, \"NoSQL\"), (1, \"MongoDB\"), (1, \"Cassandra\"), (1, \"HBase\"),\n",
    "    (1, \"Postgres\"), (2, \"Python\"), (2, \"scikit-learn\"), (2, \"scipy\"),\n",
    "    (2, \"numpy\"), (2, \"statsmodels\"), (2, \"pandas\"), (3, \"R\"), (3, \"Python\"),\n",
    "    (3, \"statistics\"), (3, \"regression\"), (3, \"probability\"),\n",
    "    (4, \"machine learning\"), (4, \"regression\"), (4, \"decision trees\"),\n",
    "    (4, \"libsvm\"), (5, \"Python\"), (5, \"R\"), (5, \"Java\"), (5, \"C++\"),\n",
    "    (5, \"Haskell\"), (5, \"programming languages\"), (6, \"statistics\"),\n",
    "    (6, \"probability\"), (6, \"mathematics\"), (6, \"theory\"),\n",
    "    (7, \"machine learning\"), (7, \"scikit-learn\"), (7, \"Mahout\"),\n",
    "    (7, \"neural networks\"), (8, \"neural networks\"), (8, \"deep learning\"),\n",
    "    (8, \"Big Data\"), (8, \"artificial intelligence\"), (9, \"Hadoop\"),\n",
    "    (9, \"Java\"), (9, \"MapReduce\"), (9, \"Big Data\")\n",
    "]\n",
    "# Thor (4th) and Devin (7th) have no friends in common but share interest in Machine Learning\n",
    "\n",
    "# search data scientists who have common interest in an item\n",
    "def data_scientists_with_interest_with(target_interest):\n",
    "    return [ds_id\n",
    "            for ds_id, interest in interests\n",
    "            if interest == target_interest\n",
    "           ]\n",
    "data_scientists_with_interest_with(\"Big Data\")\n",
    "\n",
    "# build an index from interests to users\n",
    "# keys are interests, values are lists of users who have that interest\n",
    "def get_interest_user_index():\n",
    "    res = defaultdict(list)\n",
    "    for user, interest in interests:\n",
    "        res[interest].append(user)\n",
    "    return res\n",
    "user_ids_by_interest =  get_interest_user_index()\n",
    "\n",
    "# from users to interests, users as index\n",
    "interests_by_user_id = defaultdict(list)\n",
    "for user_id, interest in interests:\n",
    "    interests_by_user_id[user_id].append(interest)\n",
    "\n",
    "# find out who has the most interests in common with the given user\n",
    "\n",
    "def most_common_interests_with(user_id):\n",
    "    return Counter(interested_user_id\n",
    "                  for interest in interests_by_user_id[user_id]\n",
    "                  for interested_user_id in user_ids_by_interest[interest]\n",
    "                  if interested_user_id != user_id\n",
    "                  )\n",
    "most_common_interests_with(0)"
   ]
  },
  {
   "cell_type": "code",
   "execution_count": 70,
   "metadata": {},
   "outputs": [],
   "source": [
    "import matplotlib.pyplot as plt\n",
    "salaries_and_tenures = [(83000, 8.7), (88000, 8.1),\n",
    "                        (48000, 0.7), (76000, 6),\n",
    "                        (69000, 6.5), (76000, 7.5),\n",
    "                        (60000, 2.5), (83000, 10),\n",
    "                        (48000, 1.9), (63000, 4.2)]\n",
    "reverse_salaries_and_tenures = [(item[1],item[0]) for item in salaries_and_tenures]"
   ]
  },
  {
   "cell_type": "code",
   "execution_count": 72,
   "metadata": {},
   "outputs": [
    {
     "data": {
      "image/png": "[encoded data removed]",
      "text/plain": [
       "<Figure size 432x288 with 1 Axes>"
      ]
     },
     "metadata": {
      "needs_background": "light"
     },
     "output_type": "display_data"
    }
   ],
   "source": [
    "plt.scatter(*zip(*reverse_salaries_and_tenures))\n",
    "plt.title('Salaries by Year Experience')\n",
    "plt.xlabel('Years Experience')\n",
    "plt.ylabel('Salary')\n",
    "plt.show();"
   ]
  },
  {
   "cell_type": "code",
   "execution_count": 76,
   "metadata": {},
   "outputs": [
    {
     "data": {
      "text/plain": [
       "{'more than more': 79166.66666666667,\n",
       " 'less than two': 48000.0,\n",
       " 'btw two and five': 61500.0}"
      ]
     },
     "execution_count": 76,
     "metadata": {},
     "output_type": "execute_result"
    }
   ],
   "source": [
    "# compute average salary for each tenure\n",
    "salary_by_tenure = defaultdict(list)\n",
    "\n",
    "for salary, tenure in salaries_and_tenures:\n",
    "    salary_by_tenure[tenure].append(salary)\n",
    "\n",
    "average_salary_by_tenure = {\n",
    "    tenure : sum(salaries) / len(salaries)\n",
    "    for tenure, salaries in salary_by_tenure.items()\n",
    " }\n",
    "\n",
    "# bucket the tenures \n",
    "# into three groups\n",
    "def tenure_bucket(tenure):\n",
    "    if tenure < 2:\n",
    "        return 'less than two'\n",
    "    elif tenure < 5:\n",
    "        return 'btw two and five'\n",
    "    else:\n",
    "        return 'more than more'\n",
    "\n",
    "\n",
    "# compute salary by tenure bucket\n",
    "salary_by_bucket = defaultdict(list)\n",
    "\n",
    "for salary, tenure in salaries_and_tenures:\n",
    "    bucket = tenure_bucket(tenure)\n",
    "    salary_by_bucket[bucket].append(salary)\n",
    "\n",
    "average_salary_by_bucket =  {\n",
    "    bucket : sum(salaries) / len(salaries)\n",
    "    for bucket, salaries in salary_by_bucket.items()\n",
    "}\n",
    "\n",
    "average_salary_by_bucket"
   ]
  },
  {
   "cell_type": "code",
   "execution_count": 77,
   "metadata": {},
   "outputs": [],
   "source": [
    "def predict_paid_unpaid(years_exxperience):\n",
    "    if years_exxperience < 3.0:\n",
    "        return 'paid'\n",
    "    elif years_exxperience < 8.5:\n",
    "        return 'unpaid'\n",
    "    else:\n",
    "        return 'paid'"
   ]
  },
  {
   "cell_type": "code",
   "execution_count": 84,
   "metadata": {},
   "outputs": [
    {
     "data": {
      "text/plain": [
       "[('Big Data', 3), ('Java', 3), ('Python', 3), ('Hadoop', 2), ('HBase', 2)]"
      ]
     },
     "execution_count": 84,
     "metadata": {},
     "output_type": "execute_result"
    }
   ],
   "source": [
    "# popular interests\n",
    "top_popular = Counter(\n",
    "    interest\n",
    "    for user_id, interest in interests\n",
    ").most_common(5)\n",
    "top_popular"
   ]
  },
  {
   "cell_type": "code",
   "execution_count": 88,
   "metadata": {
    "collapsed": true
   },
   "outputs": [
    {
     "name": "stdout",
     "output_type": "stream",
     "text": [
      "i: 1\n",
      "j: 1\n",
      "i+j: 2 \n",
      "\n",
      "j: 2\n",
      "i+j: 3 \n",
      "\n",
      "j: 3\n",
      "i+j: 4 \n",
      "\n",
      "j: 4\n",
      "i+j: 5 \n",
      "\n",
      "j: 5\n",
      "i+j: 6 \n",
      "\n",
      "i: 2\n",
      "j: 1\n",
      "i+j: 3 \n",
      "\n",
      "j: 2\n",
      "i+j: 4 \n",
      "\n",
      "j: 3\n",
      "i+j: 5 \n",
      "\n",
      "j: 4\n",
      "i+j: 6 \n",
      "\n",
      "j: 5\n",
      "i+j: 7 \n",
      "\n",
      "i: 3\n",
      "j: 1\n",
      "i+j: 4 \n",
      "\n",
      "j: 2\n",
      "i+j: 5 \n",
      "\n",
      "j: 3\n",
      "i+j: 6 \n",
      "\n",
      "j: 4\n",
      "i+j: 7 \n",
      "\n",
      "j: 5\n",
      "i+j: 8 \n",
      "\n",
      "i: 4\n",
      "j: 1\n",
      "i+j: 5 \n",
      "\n",
      "j: 2\n",
      "i+j: 6 \n",
      "\n",
      "j: 3\n",
      "i+j: 7 \n",
      "\n",
      "j: 4\n",
      "i+j: 8 \n",
      "\n",
      "j: 5\n",
      "i+j: 9 \n",
      "\n",
      "i: 5\n",
      "j: 1\n",
      "i+j: 6 \n",
      "\n",
      "j: 2\n",
      "i+j: 7 \n",
      "\n",
      "j: 3\n",
      "i+j: 8 \n",
      "\n",
      "j: 4\n",
      "i+j: 9 \n",
      "\n",
      "j: 5\n",
      "i+j: 10 \n",
      "\n"
     ]
    }
   ],
   "source": [
    "# Chapter 2 Python Crash Course\n",
    "for i in [1,2,3,4,5]:\n",
    "    print('i:',i)\n",
    "    for j in [1,2,3,4,5]:\n",
    "        print('j:',j)\n",
    "        print('i+j:',i+j,'\\n')"
   ]
  },
  {
   "cell_type": "code",
   "execution_count": 89,
   "metadata": {},
   "outputs": [],
   "source": [
    "list_of_lists = [[1,2,3],\n",
    "                 [4,5,6],\n",
    "                 [7,8,9]]"
   ]
  },
  {
   "cell_type": "code",
   "execution_count": 91,
   "metadata": {},
   "outputs": [
    {
     "ename": "ImportError",
     "evalue": "cannot import name 'operators'",
     "output_type": "error",
     "traceback": [
      "\u001b[0;31m---------------------------------------------------------------------------\u001b[0m",
      "\u001b[0;31mImportError\u001b[0m                               Traceback (most recent call last)",
      "\u001b[0;32m<ipython-input-91-a7a8b648f774>\u001b[0m in \u001b[0;36m<module>\u001b[0;34m\u001b[0m\n\u001b[0;32m----> 1\u001b[0;31m \u001b[0;32mfrom\u001b[0m \u001b[0mcollections\u001b[0m \u001b[0;32mimport\u001b[0m \u001b[0moperators\u001b[0m\u001b[0;34m\u001b[0m\u001b[0m\n\u001b[0m",
      "\u001b[0;31mImportError\u001b[0m: cannot import name 'operators'"
     ]
    }
   ],
   "source": [
    "from collections import operators"
   ]
  },
  {
   "cell_type": "code",
   "execution_count": 93,
   "metadata": {},
   "outputs": [
    {
     "data": {
      "text/plain": [
       "[('Like', 2), ('Huawei', 2), ('Apple', 1)]"
      ]
     },
     "execution_count": 93,
     "metadata": {},
     "output_type": "execute_result"
    }
   ],
   "source": [
    "words = ['Apple', 'Like', 'Like', 'Huawei', 'Huawei']\n",
    "\n",
    "words_count = Counter(words)\n",
    "\n",
    "sorted_words_count = sorted(words_count.items(), key=lambda x:x[1], reverse=True) \n",
    "sorted_words_count"
   ]
  },
  {
   "cell_type": "code",
   "execution_count": 99,
   "metadata": {},
   "outputs": [
    {
     "data": {
      "text/plain": [
       "{1}"
      ]
     },
     "execution_count": 99,
     "metadata": {},
     "output_type": "execute_result"
    }
   ],
   "source": [
    "# List Comprehension\n",
    "# transform a list into another list\n",
    "even_num = [x for x in range(10) if x % 2 == 0]\n",
    "squares = [x*x for x in range(5)]\n",
    "even_num_squares = [x*x for x in even_num]\n",
    "\n",
    "# init a set or dict by {}, the difference is :\n",
    "square_dict = {x : x*x for x in even_num}\n",
    "square_set = {x*x for x in [-1,1]}\n",
    "square_set"
   ]
  },
  {
   "cell_type": "code",
   "execution_count": 101,
   "metadata": {
    "collapsed": true
   },
   "outputs": [
    {
     "data": {
      "text/plain": [
       "[(0, 1),\n",
       " (0, 2),\n",
       " (0, 3),\n",
       " (0, 4),\n",
       " (0, 5),\n",
       " (0, 6),\n",
       " (0, 7),\n",
       " (0, 8),\n",
       " (0, 9),\n",
       " (1, 2),\n",
       " (1, 3),\n",
       " (1, 4),\n",
       " (1, 5),\n",
       " (1, 6),\n",
       " (1, 7),\n",
       " (1, 8),\n",
       " (1, 9),\n",
       " (2, 3),\n",
       " (2, 4),\n",
       " (2, 5),\n",
       " (2, 6),\n",
       " (2, 7),\n",
       " (2, 8),\n",
       " (2, 9),\n",
       " (3, 4),\n",
       " (3, 5),\n",
       " (3, 6),\n",
       " (3, 7),\n",
       " (3, 8),\n",
       " (3, 9),\n",
       " (4, 5),\n",
       " (4, 6),\n",
       " (4, 7),\n",
       " (4, 8),\n",
       " (4, 9),\n",
       " (5, 6),\n",
       " (5, 7),\n",
       " (5, 8),\n",
       " (5, 9),\n",
       " (6, 7),\n",
       " (6, 8),\n",
       " (6, 9),\n",
       " (7, 8),\n",
       " (7, 9),\n",
       " (8, 9)]"
      ]
     },
     "execution_count": 101,
     "metadata": {},
     "output_type": "execute_result"
    }
   ],
   "source": [
    "# use underscore to skip unwannted values\n",
    "zeros = [0 for _ in even_num]\n",
    "# list comprehension with multiple fors\n",
    "# later for could use earlier for\n",
    "pair = [(x,y)\n",
    "        for x in range(10)\n",
    "        for y in range(x+1,10)]\n",
    "pair"
   ]
  },
  {
   "cell_type": "code",
   "execution_count": 102,
   "metadata": {},
   "outputs": [],
   "source": [
    "# randomness\n",
    "import random"
   ]
  },
  {
   "cell_type": "code",
   "execution_count": 105,
   "metadata": {},
   "outputs": [
    {
     "data": {
      "text/plain": [
       "[0.6330350776658092,\n",
       " 0.695738431324463,\n",
       " 0.19843720250639052,\n",
       " 0.5004887731540931]"
      ]
     },
     "execution_count": 105,
     "metadata": {},
     "output_type": "execute_result"
    }
   ],
   "source": [
    "four_uniform_random = [random.random() for _ in range(4)]\n",
    "four_uniform_random"
   ]
  },
  {
   "cell_type": "code",
   "execution_count": 124,
   "metadata": {},
   "outputs": [
    {
     "name": "stdout",
     "output_type": "stream",
     "text": [
      "[5, 2, 6, 9, 1]\n",
      "[[4, 3], [7, 4], [2, 4], [6, 2], [5, 0]]\n"
     ]
    }
   ],
   "source": [
    "# shuffle\n",
    "up_to_10 = list(range(10))\n",
    "random.shuffle(up_to_10)\n",
    "\n",
    "# pick - randomly choose with duplicates (replacement)\n",
    "\n",
    "print([random.choice(range(10)) for _ in range(5)])\n",
    "\n",
    "# sample - randomly choose without duplicates (no replacement)\n",
    "print([random.sample(range(10), 2) for _ in range(5)])"
   ]
  },
  {
   "cell_type": "code",
   "execution_count": 125,
   "metadata": {},
   "outputs": [],
   "source": [
    "# Regular Expression\n",
    "# regular expression provides a way of searching text\n",
    "import re"
   ]
  },
  {
   "cell_type": "code",
   "execution_count": 138,
   "metadata": {},
   "outputs": [],
   "source": [
    "# OOP\n",
    "# rebuild class set\n",
    "class Set:\n",
    "    def __init__(self,values=None):\n",
    "        \"\"\"constructor, it gets called when u created a new set\n",
    "        \"\"\"\n",
    "        self.dict = {}\n",
    "        \n",
    "        if values is not None:\n",
    "            for value in values:\n",
    "                self.add(value)\n",
    "    \n",
    "    def add(self, value):\n",
    "        self.dict[value] = True\n",
    "    \n",
    "    def contains(self, value):\n",
    "        return value in self.dict\n",
    "    \n",
    "    def remove(self, value):\n",
    "        del self.dict[value]"
   ]
  },
  {
   "cell_type": "code",
   "execution_count": 141,
   "metadata": {},
   "outputs": [
    {
     "data": {
      "text/plain": [
       "False"
      ]
     },
     "execution_count": 141,
     "metadata": {},
     "output_type": "execute_result"
    }
   ],
   "source": [
    "my_set = Set([3,4,5])\n",
    "my_set.add(6)\n",
    "my_set.contains(6)\n",
    "my_set.remove(6)\n",
    "my_set.contains(6)"
   ]
  },
  {
   "cell_type": "code",
   "execution_count": 143,
   "metadata": {},
   "outputs": [],
   "source": [
    "# enumerate - use both value and index\n",
    "# Pythonic way: enumerate\n",
    "documents = []\n",
    "for i, doc in enumerate(documents):\n",
    "    print(i, doc)"
   ]
  },
  {
   "cell_type": "code",
   "execution_count": 148,
   "metadata": {},
   "outputs": [
    {
     "name": "stdout",
     "output_type": "stream",
     "text": [
      "[('a', 1), ('b', 2), ('c', 3)]\n"
     ]
    }
   ],
   "source": [
    "# zip - zip transforms several lists into a single list with tuple of corresponding items\n",
    "list1 = ['a', 'b', 'c']\n",
    "list2 = [1,2,3]\n",
    "x = list(zip(list1,list2))\n",
    "x_store = x[:]\n",
    "print(x_store)"
   ]
  },
  {
   "cell_type": "code",
   "execution_count": 150,
   "metadata": {},
   "outputs": [
    {
     "name": "stdout",
     "output_type": "stream",
     "text": [
      "(1, 2, 3)\n"
     ]
    }
   ],
   "source": [
    "letters, nums = zip(*x_store) # asterisk performs argument unpacking\n",
    "print(nums)\n",
    "\n",
    "# use argument unpacking with any func: my_set.add(*[1,2])"
   ]
  },
  {
   "cell_type": "code",
   "execution_count": 151,
   "metadata": {},
   "outputs": [],
   "source": [
    "import matplotlib.pyplot as plt"
   ]
  },
  {
   "cell_type": "code",
   "execution_count": 156,
   "metadata": {},
   "outputs": [
    {
     "data": {
      "image/png": "[encoded data removed]",
      "text/plain": [
       "<Figure size 432x288 with 1 Axes>"
      ]
     },
     "metadata": {
      "needs_background": "light"
     },
     "output_type": "display_data"
    }
   ],
   "source": [
    "# Line Chart\n",
    "# data\n",
    "years = [1950, 1960, 1970, 1980, 1990, 2000, 2010]\n",
    "gdp = [300.2, 543.3, 1075.9, 2862.5, 5979.6, 10289.7, 14958.3]\n",
    "\n",
    "# create a line chart\n",
    "plt.plot(years, gdp, linestyle='solid')\n",
    "plt.title('GDP per Year')\n",
    "plt.xlabel('Year')\n",
    "plt.ylabel('Billions of $')\n",
    "plt.show;"
   ]
  },
  {
   "cell_type": "code",
   "execution_count": 161,
   "metadata": {},
   "outputs": [
    {
     "data": {
      "image/png": "[encoded data removed]",
      "text/plain": [
       "<Figure size 432x288 with 1 Axes>"
      ]
     },
     "metadata": {
      "needs_background": "light"
     },
     "output_type": "display_data"
    }
   ],
   "source": [
    "# Bar Chart\n",
    "# show how some quantity varies among some DISCRETE set of items\n",
    "movies = [\"Annie Hall\", \"Ben-Hur\", \"Casablanca\", \"Gandhi\", \"West Side Story\"]\n",
    "num_of_oscar = [5, 11, 3, 8, 10]\n",
    "\n",
    "plt.bar(movies, num_of_oscar)\n",
    "plt.title('Favourite Movies')\n",
    "plt.xlabel('Movies')\n",
    "plt.ylabel('# of Academy Awards')\n",
    "#plt.tight_layout()\n",
    "plt.show();"
   ]
  },
  {
   "cell_type": "code",
   "execution_count": 171,
   "metadata": {},
   "outputs": [
    {
     "data": {
      "image/png": "[encoded data removed]",
      "text/plain": [
       "<Figure size 432x288 with 1 Axes>"
      ]
     },
     "metadata": {
      "needs_background": "light"
     },
     "output_type": "display_data"
    }
   ],
   "source": [
    "# Bar chart for plotting histograms of bucketed numeric values\n",
    "# in order to explore how the values are distributed\n",
    "\n",
    "grades = [83,95,91,87,70,0,85,82,100,67,73,77,0]\n",
    "decile = lambda grade : grade // 10 * 10\n",
    "histogram = Counter(decile(grade) for grade in grades)\n",
    "plt.bar(histogram.keys(), histogram.values(), 8) # width = 8\n",
    "plt.title('Distribution of Exam 1')\n",
    "plt.xlabel('Decile')\n",
    "plt.ylabel('# of Students')\n",
    "plt.axis([-5,105, 0, 5])\n",
    "plt.show()"
   ]
  },
  {
   "cell_type": "code",
   "execution_count": 178,
   "metadata": {},
   "outputs": [
    {
     "data": {
      "image/png": "[encoded data removed]",
      "text/plain": [
       "<Figure size 432x288 with 1 Axes>"
      ]
     },
     "metadata": {
      "needs_background": "light"
     },
     "output_type": "display_data"
    }
   ],
   "source": [
    "# Line Chart\n",
    "# good for showing trends\n",
    "\n",
    "# data\n",
    "variance = [1, 2, 4, 8, 16, 32, 64, 128, 256]\n",
    "bias_squared = [256, 128, 64, 32, 16, 8, 4, 2, 1]\n",
    "total_error = [x+y for x, y in zip(variance, bias_squared)]\n",
    "xs = [i for i, _ in enumerate(variance)]\n",
    "\n",
    "# plot\n",
    "plt.plot(xs, variance, 'g-', label='variance')\n",
    "plt.plot(xs, bias_squared, 'r-.', label='bias^2')\n",
    "plt.plot(xs, total_error, 'b:', label='total error')\n",
    "plt.legend(loc=9)\n",
    "plt.xlabel('model complexity')\n",
    "plt.title('The Bias-Variance Tradeoff')\n",
    "plt.show();"
   ]
  },
  {
   "cell_type": "code",
   "execution_count": 183,
   "metadata": {},
   "outputs": [
    {
     "data": {
      "image/png": "[encoded data removed]",
      "text/plain": [
       "<Figure size 432x288 with 1 Axes>"
      ]
     },
     "metadata": {
      "needs_background": "light"
     },
     "output_type": "display_data"
    }
   ],
   "source": [
    "# Scatter Plot\n",
    "# for visualizing the relationship of two paired sets of data\n",
    "friends = [ 70, 65, 72, 63, 71, 64, 60, 64, 67]\n",
    "minutes = [175, 170, 205, 120, 220, 130, 105, 145, 190]\n",
    "labels = ['a', 'b', 'c', 'd', 'e', 'f', 'g', 'h', 'i']\n",
    "\n",
    "fig, ax = plt.subplots()\n",
    "ax.scatter(friends, minutes)\n",
    "\n",
    "# label the points\n",
    "for i, label in enumerate(labels):\n",
    "    ax.annotate(label, (friends[i], minutes[i]))\n",
    "plt.show()\n",
    "\n"
   ]
  },
  {
   "cell_type": "code",
   "execution_count": 190,
   "metadata": {},
   "outputs": [
    {
     "data": {
      "image/png": "[encoded data removed]",
      "text/plain": [
       "<Figure size 640x640 with 1 Axes>"
      ]
     },
     "metadata": {
      "needs_background": "light"
     },
     "output_type": "display_data"
    }
   ],
   "source": [
    "# another way to do scatter plot\n",
    "plt.figure(figsize=(8, 8), dpi=80)\n",
    "plt.scatter(friends, minutes)\n",
    "# annotate\n",
    "for i, label in enumerate(labels):\n",
    "    plt.annotate(label, (friends[i], minutes[i]), xytext=(5,-5), textcoords='offset points')\n",
    "\n",
    "plt.xlabel('# of friends')\n",
    "plt.ylabel('daily minutes spent on the site')\n",
    "plt.title('Daily Minutes vs. Num of Friends')\n",
    "plt.show()"
   ]
  },
  {
   "cell_type": "code",
   "execution_count": 193,
   "metadata": {},
   "outputs": [
    {
     "data": {
      "image/png": "[encoded data removed]",
      "text/plain": [
       "<Figure size 432x288 with 1 Axes>"
      ]
     },
     "metadata": {
      "needs_background": "light"
     },
     "output_type": "display_data"
    }
   ],
   "source": [
    "# misleading one\n",
    "test_1 = [ 99, 90, 85, 97, 80]\n",
    "test_2 = [100, 85, 60, 90, 70]\n",
    "plt.scatter(test_1, test_2)\n",
    "plt.xlabel('test 1 score')\n",
    "plt.ylabel('test 2 score')\n",
    "plt.show();"
   ]
  },
  {
   "cell_type": "code",
   "execution_count": 194,
   "metadata": {},
   "outputs": [
    {
     "data": {
      "image/png": "[encoded data removed]",
      "text/plain": [
       "<Figure size 432x288 with 1 Axes>"
      ]
     },
     "metadata": {
      "needs_background": "light"
     },
     "output_type": "display_data"
    }
   ],
   "source": [
    "plt.scatter(test_1, test_2)\n",
    "plt.axis('equal')\n",
    "plt.xlabel('test 1 score')\n",
    "plt.ylabel('test 2 score')\n",
    "plt.show();\n",
    "# findings: most of the variations come from test 2"
   ]
  },
  {
   "cell_type": "code",
   "execution_count": 209,
   "metadata": {},
   "outputs": [],
   "source": [
    "# Linear Algebra\n",
    "\n",
    "from functools import partial, reduce\n",
    "import math\n",
    "\n",
    "def vector_add(v,w):\n",
    "    \"\"\"add corresponding elements\n",
    "    \"\"\"\n",
    "    return [v_i+w_i\n",
    "            for v_i, w_i in zip(v,w)]\n",
    "\n",
    "# subtract two vectors\n",
    "def vector_subtract(v,w):\n",
    "    return [v_i - w_i\n",
    "            for v_i, w_i in zip(v,w)]\n",
    "\n",
    "def vector_sum(vectors):\n",
    "    \"\"\"sum all corresponing elements\n",
    "    \"\"\"\n",
    "    res = vectors[0]\n",
    "    for vector in vectors[1:]:\n",
    "        res = vector_add(res, vector)\n",
    "    return res\n",
    "\n",
    "# reduce\n",
    "# use vector_add to reduce vectors\n",
    "def vector_sum(vectors):\n",
    "    return reduce(vector_add, vectors)\n",
    "\n",
    "vector_sum = partial(reduce, vector_add)\n",
    "\n",
    "def scalar_mutiply(s, vector):\n",
    "    return [s*v_i \n",
    "            for v_i in vector ]\n",
    "\n",
    "# compute the componentwise mean of a list of same-sized vectors\n",
    "def vector_mean(vectors):\n",
    "    n = len(vectors)\n",
    "    return scalar_mutiply(1/n, vector_sum(vectors))\n",
    "\n",
    "# dot product of two vectors\n",
    "# sum of the their componentwise products\n",
    "# this is the length of the vector you get if you project v on w\n",
    "def dot(v,w):\n",
    "    return sum(v_i*w_i\n",
    "               for v_i, w_i in zip(v,w))\n",
    "\n",
    "# compute a vector's sum of squares\n",
    "# v_1*v_1 + v_2*v_2 + ... + v_n*v_n\n",
    "def sum_of_squares(v):\n",
    "    return dot(v, v)\n",
    "\n",
    "def squared_distance(v,w):\n",
    "    \"\"\"(v_1-w_1)^2 + ... + (v_n-w_n)^2\n",
    "    \"\"\"\n",
    "    return sum_of_squares(vector_subtract(v,w))\n",
    "\n",
    "def distance(v,w):\n",
    "    math.sqrt(squared_distance(v,w))"
   ]
  },
  {
   "cell_type": "code",
   "execution_count": 218,
   "metadata": {},
   "outputs": [
    {
     "name": "stdout",
     "output_type": "stream",
     "text": [
      "[[1, 0, 0], [0, 1, 0], [0, 0, 1]]\n"
     ]
    }
   ],
   "source": [
    "# Matrices\n",
    "# a matrix is a 2-d collection of numbers\n",
    "# present matrix as list of lists\n",
    "# A[i][j]: element in the ith row and jth col\n",
    "\n",
    "# A has len(A) rows and len(A[0]) columns\n",
    "A = [[1,2,3],\n",
    "     [4,5,6],\n",
    "     [7,8,9]]\n",
    "\n",
    "B = [[1,2],\n",
    "     [4,5],\n",
    "     [7,8]]\n",
    "\n",
    "def shape(A):\n",
    "    num_rows = len(A)\n",
    "    num_cols = len(A[0])\n",
    "    return num_rows,num_cols\n",
    "\n",
    "# get row by index df.iloc[]\n",
    "def get_row(A, i):\n",
    "    return A[i]\n",
    "\n",
    "def get_col(A, j):\n",
    "    return [A_i[j]\n",
    "            for A_i in A]\n",
    "\n",
    "def make_matrix(num_rows, num_cols, entry_func):\n",
    "    return [[entry_func(i, j)\n",
    "            for j in range(num_cols)]\n",
    "            for i in range(num_rows)]\n",
    "\n",
    "def sum_up(i,j):\n",
    "    return i+j\n",
    "\n",
    "def is_digonal(i, j):\n",
    "    return 1 if i ==j else 0\n",
    "    \n",
    "print(make_matrix(3,3,is_digonal))\n",
    "\n"
   ]
  },
  {
   "cell_type": "code",
   "execution_count": 228,
   "metadata": {},
   "outputs": [],
   "source": [
    "# Chapter 5 Statistics\n",
    "# Describing a single set of data\n",
    "from random import choices\n",
    "num_friends = choices(range(100), k=50)"
   ]
  },
  {
   "cell_type": "code",
   "execution_count": 232,
   "metadata": {},
   "outputs": [
    {
     "data": {
      "image/png": "[encoded data removed]",
      "text/plain": [
       "<Figure size 640x320 with 1 Axes>"
      ]
     },
     "metadata": {
      "needs_background": "light"
     },
     "output_type": "display_data"
    }
   ],
   "source": [
    "friends_count = Counter(num_friends)\n",
    "xs = range(101)\n",
    "ys = [friends_count[x] for x in xs]\n",
    "plt.figure(figsize=(8, 4), dpi=80)\n",
    "plt.bar(xs, ys)\n",
    "plt.title('Histogram of Number of Friends')\n",
    "plt.xlabel('# of friends')\n",
    "plt.ylabel('# of people')\n",
    "plt.show();"
   ]
  },
  {
   "cell_type": "code",
   "execution_count": 245,
   "metadata": {},
   "outputs": [],
   "source": [
    "from scipy import stats\n",
    "from statistics import median"
   ]
  },
  {
   "cell_type": "code",
   "execution_count": 237,
   "metadata": {},
   "outputs": [
    {
     "data": {
      "text/plain": [
       "DescribeResult(nobs=50, minmax=(1, 96), mean=47.1, variance=781.6836734693876, skewness=-0.025385578622842297, kurtosis=-1.045087566006525)"
      ]
     },
     "execution_count": 237,
     "metadata": {},
     "output_type": "execute_result"
    }
   ],
   "source": [
    "stats.describe(num_friends)"
   ]
  },
  {
   "cell_type": "code",
   "execution_count": 239,
   "metadata": {},
   "outputs": [
    {
     "data": {
      "text/plain": [
       "47.1"
      ]
     },
     "execution_count": 239,
     "metadata": {},
     "output_type": "execute_result"
    }
   ],
   "source": [
    "# central tendency\n",
    "def mean(x):\n",
    "    return sum(x) / len(x)\n",
    "mean(num_friends)"
   ]
  },
  {
   "cell_type": "code",
   "execution_count": 252,
   "metadata": {},
   "outputs": [],
   "source": [
    "def median_list(x):\n",
    "    x_len = len(x)\n",
    "    x_sorted = sorted(x)\n",
    "    idx_middle = x_len// 2\n",
    "    \n",
    "    # if odd\n",
    "    if x_len % 2 != 0:\n",
    "        return x_sorted[idx_middle]\n",
    "    # if even\n",
    "    else:\n",
    "        return (x_sorted[idx_middle] + x_sorted[idx_middle-1]) / 2"
   ]
  },
  {
   "cell_type": "code",
   "execution_count": 246,
   "metadata": {},
   "outputs": [
    {
     "data": {
      "text/plain": [
       "47.5"
      ]
     },
     "execution_count": 246,
     "metadata": {},
     "output_type": "execute_result"
    }
   ],
   "source": [
    "median(num_friends)"
   ]
  },
  {
   "cell_type": "code",
   "execution_count": 253,
   "metadata": {},
   "outputs": [
    {
     "data": {
      "text/plain": [
       "47.5"
      ]
     },
     "execution_count": 253,
     "metadata": {},
     "output_type": "execute_result"
    }
   ],
   "source": [
    "median_list(num_friends)"
   ]
  },
  {
   "cell_type": "code",
   "execution_count": 262,
   "metadata": {},
   "outputs": [],
   "source": [
    "def quantile(v, p):\n",
    "    \"\"\"return the pth pencentile value of list\n",
    "    \"\"\"\n",
    "    if p < 0 or p >= 1:\n",
    "        print('invalid p, p has range(0,1)')\n",
    "        return\n",
    "    idx = int(p*len(v))\n",
    "    return sorted(v)[idx]"
   ]
  },
  {
   "cell_type": "code",
   "execution_count": 263,
   "metadata": {},
   "outputs": [
    {
     "data": {
      "text/plain": [
       "1"
      ]
     },
     "execution_count": 263,
     "metadata": {},
     "output_type": "execute_result"
    }
   ],
   "source": [
    "quantile(num_friends, 0)"
   ]
  },
  {
   "cell_type": "code",
   "execution_count": null,
   "metadata": {},
   "outputs": [],
   "source": [
    "def mode(v):\n",
    "    \"\"\"find the most frequent items in the list, return a list for mutiple values\n",
    "    \"\"\"\n",
    "    "
   ]
  },
  {
   "cell_type": "code",
   "execution_count": 276,
   "metadata": {},
   "outputs": [
    {
     "data": {
      "text/plain": [
       "[63]"
      ]
     },
     "execution_count": 276,
     "metadata": {},
     "output_type": "execute_result"
    }
   ],
   "source": [
    "counts = Counter(num_friends)\n",
    "max_count = max(counts.values())\n",
    "res = [x \n",
    "       for x, count in counts.items()\n",
    "       if count == max_count]\n",
    "res"
   ]
  },
  {
   "cell_type": "code",
   "execution_count": 277,
   "metadata": {},
   "outputs": [
    {
     "data": {
      "text/plain": [
       "Counter({43: 1,\n",
       "         58: 2,\n",
       "         25: 1,\n",
       "         89: 1,\n",
       "         45: 2,\n",
       "         56: 1,\n",
       "         82: 1,\n",
       "         40: 1,\n",
       "         38: 1,\n",
       "         2: 1,\n",
       "         51: 1,\n",
       "         96: 1,\n",
       "         63: 3,\n",
       "         34: 1,\n",
       "         79: 1,\n",
       "         91: 1,\n",
       "         75: 2,\n",
       "         48: 1,\n",
       "         47: 1,\n",
       "         60: 2,\n",
       "         6: 2,\n",
       "         92: 1,\n",
       "         13: 1,\n",
       "         4: 1,\n",
       "         39: 1,\n",
       "         62: 1,\n",
       "         71: 1,\n",
       "         53: 1,\n",
       "         1: 1,\n",
       "         24: 1,\n",
       "         20: 1,\n",
       "         94: 1,\n",
       "         8: 2,\n",
       "         27: 1,\n",
       "         87: 1,\n",
       "         64: 1,\n",
       "         17: 1,\n",
       "         14: 1,\n",
       "         41: 1,\n",
       "         12: 1,\n",
       "         70: 1,\n",
       "         36: 1})"
      ]
     },
     "execution_count": 277,
     "metadata": {},
     "output_type": "execute_result"
    }
   ],
   "source": [
    "counts"
   ]
  },
  {
   "cell_type": "code",
   "execution_count": 278,
   "metadata": {},
   "outputs": [],
   "source": [
    "# Dispersion\n",
    "def data_range(v):\n",
    "    return max(v) - min(v)"
   ]
  },
  {
   "cell_type": "code",
   "execution_count": 279,
   "metadata": {},
   "outputs": [
    {
     "data": {
      "text/plain": [
       "95"
      ]
     },
     "execution_count": 279,
     "metadata": {},
     "output_type": "execute_result"
    }
   ],
   "source": [
    "data_range(num_friends)"
   ]
  },
  {
   "cell_type": "code",
   "execution_count": 286,
   "metadata": {},
   "outputs": [],
   "source": [
    "def de_mean(v):\n",
    "    v_mean = mean(v)\n",
    "    return [v_i - v_mean for v_i in v]\n",
    "\n",
    "def variance(v):\n",
    "    deviations = de_mean(v)\n",
    "    return sum_of_squares(deviations) / (len(v))\n",
    "\n",
    "def standard_deviation(v):\n",
    "    return math.sqrt(variance(v))"
   ]
  },
  {
   "cell_type": "code",
   "execution_count": 287,
   "metadata": {},
   "outputs": [
    {
     "data": {
      "text/plain": [
       "27.67760827817317"
      ]
     },
     "execution_count": 287,
     "metadata": {},
     "output_type": "execute_result"
    }
   ],
   "source": [
    "standard_deviation(num_friends)"
   ]
  },
  {
   "cell_type": "code",
   "execution_count": 288,
   "metadata": {},
   "outputs": [
    {
     "data": {
      "text/plain": [
       "27.677608278173167"
      ]
     },
     "execution_count": 288,
     "metadata": {},
     "output_type": "execute_result"
    }
   ],
   "source": [
    "import numpy as np\n",
    "var = np.std(num_friends)\n",
    "var"
   ]
  },
  {
   "cell_type": "code",
   "execution_count": 291,
   "metadata": {},
   "outputs": [],
   "source": [
    "num_friends.append(500)"
   ]
  },
  {
   "cell_type": "code",
   "execution_count": 292,
   "metadata": {},
   "outputs": [
    {
     "data": {
      "text/plain": [
       "91.22678638017695"
      ]
     },
     "execution_count": 292,
     "metadata": {},
     "output_type": "execute_result"
    }
   ],
   "source": [
    "standard_deviation(num_friends)"
   ]
  },
  {
   "cell_type": "code",
   "execution_count": 302,
   "metadata": {},
   "outputs": [],
   "source": [
    "num_friends = num_friends[:-1]"
   ]
  },
  {
   "cell_type": "code",
   "execution_count": 306,
   "metadata": {},
   "outputs": [],
   "source": [
    "# Correlation\n",
    "def covariance(x,y):\n",
    "    return dot(de_mean(x), de_mean(y)) / len(x)"
   ]
  },
  {
   "cell_type": "code",
   "execution_count": 297,
   "metadata": {
    "collapsed": true
   },
   "outputs": [
    {
     "data": {
      "text/plain": [
       "[118,\n",
       " 157,\n",
       " 96,\n",
       " 166,\n",
       " 161,\n",
       " 17,\n",
       " 47,\n",
       " 63,\n",
       " 21,\n",
       " 195,\n",
       " 8,\n",
       " 65,\n",
       " 95,\n",
       " 191,\n",
       " 185,\n",
       " 36,\n",
       " 9,\n",
       " 104,\n",
       " 165,\n",
       " 142,\n",
       " 8,\n",
       " 135,\n",
       " 67,\n",
       " 120,\n",
       " 28,\n",
       " 62,\n",
       " 102,\n",
       " 177,\n",
       " 165,\n",
       " 167,\n",
       " 15,\n",
       " 45,\n",
       " 55,\n",
       " 190,\n",
       " 178,\n",
       " 194,\n",
       " 3,\n",
       " 139,\n",
       " 43,\n",
       " 50,\n",
       " 147,\n",
       " 69,\n",
       " 196,\n",
       " 171,\n",
       " 126,\n",
       " 81,\n",
       " 35,\n",
       " 99,\n",
       " 13,\n",
       " 102]"
      ]
     },
     "execution_count": 297,
     "metadata": {},
     "output_type": "execute_result"
    }
   ],
   "source": [
    "daily_minutes = choices(range(1,200), k=50)\n",
    "daily_minutes"
   ]
  },
  {
   "cell_type": "code",
   "execution_count": 307,
   "metadata": {},
   "outputs": [
    {
     "data": {
      "text/plain": [
       "-100.48600000000005"
      ]
     },
     "execution_count": 307,
     "metadata": {},
     "output_type": "execute_result"
    }
   ],
   "source": [
    "covariance(daily_minutes, num_friends)"
   ]
  },
  {
   "cell_type": "code",
   "execution_count": 304,
   "metadata": {},
   "outputs": [
    {
     "data": {
      "text/plain": [
       "array([[4005.72285714, -102.53673469],\n",
       "       [-102.53673469,  781.68367347]])"
      ]
     },
     "execution_count": 304,
     "metadata": {},
     "output_type": "execute_result"
    }
   ],
   "source": [
    "np.cov(daily_minutes, num_friends)"
   ]
  },
  {
   "cell_type": "code",
   "execution_count": null,
   "metadata": {},
   "outputs": [],
   "source": [
    "# correlation\n",
    "# correlation is unitless, always lay between [-1,1]\n",
    "def correlation(v,w):\n",
    "    std_v = standard_deviation(v)\n",
    "    std_w = standard_deviation(w)\n",
    "    if std_v > 0 and std_w > 0:\n",
    "        return covariance(v,w) / std_v / std_w\n",
    "    return 0"
   ]
  },
  {
   "cell_type": "code",
   "execution_count": 309,
   "metadata": {},
   "outputs": [
    {
     "data": {
      "text/plain": [
       "array([[ 1.        , -0.05794601],\n",
       "       [-0.05794601,  1.        ]])"
      ]
     },
     "execution_count": 309,
     "metadata": {},
     "output_type": "execute_result"
    }
   ],
   "source": [
    "np.corrcoef(daily_minutes, num_friends)"
   ]
  },
  {
   "cell_type": "code",
   "execution_count": 310,
   "metadata": {},
   "outputs": [
    {
     "data": {
      "text/plain": [
       "(-0.05794600682287938, 0.6893680614995765)"
      ]
     },
     "execution_count": 310,
     "metadata": {},
     "output_type": "execute_result"
    }
   ],
   "source": [
    "from scipy.stats.stats import pearsonr\n",
    "pearsonr(daily_minutes, num_friends)"
   ]
  },
  {
   "cell_type": "code",
   "execution_count": 311,
   "metadata": {},
   "outputs": [
    {
     "data": {
      "text/plain": [
       "-0.05794600682287938"
      ]
     },
     "execution_count": 311,
     "metadata": {},
     "output_type": "execute_result"
    }
   ],
   "source": [
    "correlation(daily_minutes, num_friends)"
   ]
  },
  {
   "cell_type": "code",
   "execution_count": 312,
   "metadata": {},
   "outputs": [
    {
     "data": {
      "image/png": "[encoded data removed]",
      "text/plain": [
       "<Figure size 432x288 with 1 Axes>"
      ]
     },
     "metadata": {
      "needs_background": "light"
     },
     "output_type": "display_data"
    }
   ],
   "source": [
    "plt.scatter(daily_minutes, num_friends)\n",
    "plt.show();"
   ]
  },
  {
   "cell_type": "code",
   "execution_count": 313,
   "metadata": {},
   "outputs": [
    {
     "data": {
      "text/plain": [
       "96"
      ]
     },
     "execution_count": 313,
     "metadata": {},
     "output_type": "execute_result"
    }
   ],
   "source": [
    "max(num_friends)"
   ]
  },
  {
   "cell_type": "code",
   "execution_count": 317,
   "metadata": {},
   "outputs": [
    {
     "data": {
      "image/png": "[encoded data removed]",
      "text/plain": [
       "<Figure size 432x288 with 1 Axes>"
      ]
     },
     "metadata": {
      "needs_background": "light"
     },
     "output_type": "display_data"
    }
   ],
   "source": [
    "# scatter plot except for outlier\n",
    "outlier = num_friends.index(96)\n",
    "\n",
    "num_friends_clean = [friend\n",
    "                     for i, friend in enumerate(num_friends)\n",
    "                     if i != outlier]\n",
    "\n",
    "daily_minutes_clean = [minute\n",
    "                       for i, minute in enumerate(daily_minutes)\n",
    "                       if i != outlier]\n",
    "\n",
    "plt.scatter(daily_minutes_clean, num_friends_clean)\n",
    "plt.show();"
   ]
  },
  {
   "cell_type": "code",
   "execution_count": null,
   "metadata": {},
   "outputs": [],
   "source": [
    "# Chapter 6. Probability\n",
    "# probability - a way of qiantifying uncertainty associated with events choosen\n",
    "# from a some universe of events\n",
    "# P(E) - probability of event E\n",
    "\n",
    "\n",
    "# Dependence - Independence\n",
    "# Dependence - E and F are dependent if knowing sth about wether E happens givens us\n",
    "# info about if F happens, otherwise they are independent\n",
    "# Independent: P(E,F) = P(E)*P(F)\n",
    "\n",
    "\n",
    "# Conditional Probability\n",
    "# independent: P(E,F) = P(E)*P(F)\n",
    "# conditional on F: P(E|F) = P(E,F) / P(F) when the P of F is not 0\n",
    "\n",
    "# if E and F are not independent:\n",
    "# P(E,F) = P(E|F) * P(F)\n",
    "# P(E|F) = P(E) if E and F are independent\n",
    "\n",
    "# Question: what is the P of 'both children are girls'(B) conditional on 'the 1st is girl'(G)?\n",
    "# P(B|G) = P(B,G) / P(G) = P(B) / P(G) = (1/4 )/ (1/2) = 1/2\n",
    "# event B&G P(B,G) = P(B) since P(B) necessarily means P(G) \n",
    "\n",
    "# Q: 'both children are girls'(B) conditional on 'at least one child is girl'(L)\n",
    "# P(B|L) = P(B,L) / P(L) = P(B) / P(L) = (1/4) / (3/4) = 1/3\n",
    "\n",
    "\n",
    "# Bayes's Theorem\n",
    "# a way of reversing conditional probability\n",
    "# P(E|F) = P(E,F) / P(F) = P(F|E)*P(E)/P(F)\n",
    "# P(F) = P(F,E) + P(F,not E)\n",
    "# p(E|F) = P(F|E)*P(E) / [P(F|E)*P(E) + P(F|not E)*P(not E)]\n",
    "\n",
    "# Random Variables\n",
    "# a radnom variable is a variable whose values have an associated probability distribution\n",
    "# exaple: coin:50%, random.choice(range(10)):10%"
   ]
  },
  {
   "cell_type": "code",
   "execution_count": null,
   "metadata": {},
   "outputs": [],
   "source": [
    "# Chapter 19. Clustering"
   ]
  },
  {
   "cell_type": "code",
   "execution_count": 364,
   "metadata": {},
   "outputs": [],
   "source": [
    "class KMeans:\n",
    "    \"\"\"performs k-means clustering\"\"\"\n",
    "    \n",
    "    def __init__(self, k):\n",
    "        self.k = k # number of clusters\n",
    "        self.means = None # means of clusters\n",
    "        \n",
    "    def classify(self, input):\n",
    "        \"\"\"return the index of the cluster closest to the input\"\"\"\n",
    "        return min(range(self.k),\n",
    "                key=lambda i: squared_distance(input, self.means[i]))\n",
    "    \n",
    "    def train(self, inputs):\n",
    "        # choose k random points as the initial means\n",
    "        self.means = random.sample(inputs, self.k)\n",
    "        assignments = None\n",
    "        \n",
    "        while True:\n",
    "            # Find new assignments\n",
    "            new_assignments = list(map(self.classify, inputs))\n",
    "            \n",
    "            # If no assignments have changed, we're done.\n",
    "            if assignments == new_assignments:\n",
    "                return\n",
    "            \n",
    "            # Otherwise keep the new assignments,\n",
    "            assignments = new_assignments\n",
    "            \n",
    "            # And compute new means based on the new assignments\n",
    "            for i in range(self.k):\n",
    "                # find all the points assigned to cluster i\n",
    "                i_points = [p for p, a in zip(inputs, assignments) if a == i]\n",
    "                # make sure i_points is not empty so don't divide by 0\n",
    "                if i_points:\n",
    "                    self.means[i] = vector_mean(i_points)"
   ]
  },
  {
   "cell_type": "code",
   "execution_count": 365,
   "metadata": {},
   "outputs": [
    {
     "name": "stdout",
     "output_type": "stream",
     "text": [
      "[[-25.857142857142854, -4.714285714285714], [20.0, 26.0], [16.666666666666664, 13.666666666666666]]\n"
     ]
    }
   ],
   "source": [
    "# Example Meetups\n",
    "\n",
    "inputs = [[-14,-5],[13,13],[20,23],[-19,-11],[-9,-16],[21,27],[-49,15],[26,13],[-46,5],[-34,-1],[11,15],[-49,0],[-22,-16],[19,28],[-12,-8],[-13,-19],[-41,8],[-11,-6],[-25,-9],[-18,-3]]\n",
    "random.seed(0)\n",
    "cluster = KMeans(3)\n",
    "cluster.train(inputs)\n",
    "print(cluster.means)"
   ]
  },
  {
   "cell_type": "code",
   "execution_count": 366,
   "metadata": {},
   "outputs": [],
   "source": [
    "input_x = [x[0] for x in inputs]\n",
    "input_y = [x[1] for x in inputs]"
   ]
  },
  {
   "cell_type": "code",
   "execution_count": 367,
   "metadata": {},
   "outputs": [
    {
     "data": {
      "image/png": "[encoded data removed]",
      "text/plain": [
       "<Figure size 432x288 with 1 Axes>"
      ]
     },
     "metadata": {
      "needs_background": "light"
     },
     "output_type": "display_data"
    }
   ],
   "source": [
    "plt.scatter(input_x, input_y)\n",
    "plt.title(\"User Locations—3 Bottom-Up Clusters, Min\")\n",
    "plt.xlabel(\"blocks east of city center\")\n",
    "plt.ylabel(\"blocks north of city center\")\n",
    "plt.axis([-60,30, -30, 40])\n",
    "plt.show()"
   ]
  },
  {
   "cell_type": "code",
   "execution_count": null,
   "metadata": {},
   "outputs": [],
   "source": [
    "for i, cluster, marker, color in zip([1, 2, 3],\n",
    "three_clusters,\n",
    "['D','o','*'],\n",
    "['r','g','b']):\n",
    "xs, ys = zip(*cluster) # magic unzipping trick\n",
    "plt.scatter(xs, ys, color=color, marker=marker)\n",
    "# put a number at the mean of the cluster\n",
    "x, y = vector_mean(cluster)\n",
    "plt.plot(x, y, marker='$' + str(i) + '$', color='black')\n",
    "plt.title(\"User Locations—3 Bottom-Up Clusters, Min\")\n",
    "plt.xlabel(\"blocks east of city center\")\n",
    "plt.ylabel(\"blocks north of city center\")\n",
    "plt.show()"
   ]
  },
  {
   "cell_type": "code",
   "execution_count": 382,
   "metadata": {},
   "outputs": [],
   "source": [
    "# calculate every input's distance to its predicted cluster mean (middle point)\n",
    "def squared_clustering_errors(inputs, k):\n",
    "    cluster = KMeans(k)\n",
    "    cluster.train(inputs)\n",
    "    means = cluster.means\n",
    "    assignments = map(cluster.classify, inputs)\n",
    "    \n",
    "    return sum([squared_distance(input, means[cluster]) \n",
    "                for input, cluster in zip(inputs, assignments)])\n"
   ]
  },
  {
   "cell_type": "code",
   "execution_count": 388,
   "metadata": {},
   "outputs": [],
   "source": [
    "def plot_squared_clustering_errors(inputs):\n",
    "    ks = range(1,len(inputs)+1)\n",
    "    errors = [squared_clustering_errors(inputs,k) for k in ks]\n",
    "    \n",
    "    plt.plot(ks, errors)\n",
    "    plt.xticks(ks)\n",
    "    plt.xlabel('k')\n",
    "    plt.ylabel('total_squared_error')\n",
    "    plt.title('Total Error vs. # of K')\n",
    "    plt.show()"
   ]
  },
  {
   "cell_type": "code",
   "execution_count": 389,
   "metadata": {},
   "outputs": [
    {
     "data": {
      "image/png": "[encoded data removed]",
      "text/plain": [
       "<Figure size 432x288 with 1 Axes>"
      ]
     },
     "metadata": {
      "needs_background": "light"
     },
     "output_type": "display_data"
    }
   ],
   "source": [
    "plot_squared_clustering_errors(inputs)"
   ]
  },
  {
   "cell_type": "code",
   "execution_count": 401,
   "metadata": {},
   "outputs": [
    {
     "data": {
      "text/plain": [
       "numpy.ndarray"
      ]
     },
     "execution_count": 401,
     "metadata": {},
     "output_type": "execute_result"
    }
   ],
   "source": [
    "# Example Clustering Colors\n",
    "path = r\"/Users/pliu/Downloads/o.jpg\"\n",
    "import matplotlib.image as mpimg\n",
    "img = mpimg.imread(path)\n",
    "type(img) # a list of lists of lists\n",
    "# img[i][j] is the pixel at row i and col j\n",
    "# and each pixel is actually a list of [red, green, blue] (num btw 0 and 1) indicating colors"
   ]
  },
  {
   "cell_type": "code",
   "execution_count": 402,
   "metadata": {},
   "outputs": [
    {
     "data": {
      "text/plain": [
       "(13, 10, 17)"
      ]
     },
     "execution_count": 402,
     "metadata": {},
     "output_type": "execute_result"
    }
   ],
   "source": [
    "top_row = img[0]\n",
    "top_row_pixel = top_row[0]\n",
    "red, green, blue = top_row_pixel\n",
    "red, green, blue "
   ]
  },
  {
   "cell_type": "code",
   "execution_count": 403,
   "metadata": {},
   "outputs": [
    {
     "name": "stderr",
     "output_type": "stream",
     "text": [
      "/miniconda3/envs/ml36/lib/python3.6/site-packages/ipykernel_launcher.py:15: RuntimeWarning: overflow encountered in ubyte_scalars\n",
      "  from ipykernel import kernelapp as app\n",
      "/miniconda3/envs/ml36/lib/python3.6/site-packages/ipykernel_launcher.py:46: RuntimeWarning: overflow encountered in ubyte_scalars\n",
      "/miniconda3/envs/ml36/lib/python3.6/site-packages/ipykernel_launcher.py:10: RuntimeWarning: overflow encountered in ubyte_scalars\n",
      "  # Remove the CWD from sys.path while we load stuff.\n"
     ]
    },
    {
     "ename": "KeyboardInterrupt",
     "evalue": "",
     "output_type": "error",
     "traceback": [
      "\u001b[0;31m---------------------------------------------------------------------------\u001b[0m",
      "\u001b[0;31mKeyboardInterrupt\u001b[0m                         Traceback (most recent call last)",
      "\u001b[0;32m<ipython-input-403-13655c509503>\u001b[0m in \u001b[0;36m<module>\u001b[0;34m\u001b[0m\n\u001b[1;32m      4\u001b[0m \u001b[0;34m\u001b[0m\u001b[0m\n\u001b[1;32m      5\u001b[0m \u001b[0mcluster\u001b[0m \u001b[0;34m=\u001b[0m \u001b[0mKMeans\u001b[0m\u001b[0;34m(\u001b[0m\u001b[0;36m5\u001b[0m\u001b[0;34m)\u001b[0m\u001b[0;34m\u001b[0m\u001b[0m\n\u001b[0;32m----> 6\u001b[0;31m \u001b[0mcluster\u001b[0m\u001b[0;34m.\u001b[0m\u001b[0mtrain\u001b[0m\u001b[0;34m(\u001b[0m\u001b[0mpixels\u001b[0m\u001b[0;34m)\u001b[0m\u001b[0;34m\u001b[0m\u001b[0m\n\u001b[0m",
      "\u001b[0;32m<ipython-input-364-9331620118e5>\u001b[0m in \u001b[0;36mtrain\u001b[0;34m(self, inputs)\u001b[0m\n\u001b[1;32m     18\u001b[0m         \u001b[0;32mwhile\u001b[0m \u001b[0;32mTrue\u001b[0m\u001b[0;34m:\u001b[0m\u001b[0;34m\u001b[0m\u001b[0m\n\u001b[1;32m     19\u001b[0m             \u001b[0;31m# Find new assignments\u001b[0m\u001b[0;34m\u001b[0m\u001b[0;34m\u001b[0m\u001b[0m\n\u001b[0;32m---> 20\u001b[0;31m             \u001b[0mnew_assignments\u001b[0m \u001b[0;34m=\u001b[0m \u001b[0mlist\u001b[0m\u001b[0;34m(\u001b[0m\u001b[0mmap\u001b[0m\u001b[0;34m(\u001b[0m\u001b[0mself\u001b[0m\u001b[0;34m.\u001b[0m\u001b[0mclassify\u001b[0m\u001b[0;34m,\u001b[0m \u001b[0minputs\u001b[0m\u001b[0;34m)\u001b[0m\u001b[0;34m)\u001b[0m\u001b[0;34m\u001b[0m\u001b[0m\n\u001b[0m\u001b[1;32m     21\u001b[0m \u001b[0;34m\u001b[0m\u001b[0m\n\u001b[1;32m     22\u001b[0m             \u001b[0;31m# If no assignments have changed, we're done.\u001b[0m\u001b[0;34m\u001b[0m\u001b[0;34m\u001b[0m\u001b[0m\n",
      "\u001b[0;32m<ipython-input-364-9331620118e5>\u001b[0m in \u001b[0;36mclassify\u001b[0;34m(self, input)\u001b[0m\n\u001b[1;32m      9\u001b[0m         \u001b[0;34m\"\"\"return the index of the cluster closest to the input\"\"\"\u001b[0m\u001b[0;34m\u001b[0m\u001b[0m\n\u001b[1;32m     10\u001b[0m         return min(range(self.k),\n\u001b[0;32m---> 11\u001b[0;31m                 key=lambda i: squared_distance(input, self.means[i]))\n\u001b[0m\u001b[1;32m     12\u001b[0m \u001b[0;34m\u001b[0m\u001b[0m\n\u001b[1;32m     13\u001b[0m     \u001b[0;32mdef\u001b[0m \u001b[0mtrain\u001b[0m\u001b[0;34m(\u001b[0m\u001b[0mself\u001b[0m\u001b[0;34m,\u001b[0m \u001b[0minputs\u001b[0m\u001b[0;34m)\u001b[0m\u001b[0;34m:\u001b[0m\u001b[0;34m\u001b[0m\u001b[0m\n",
      "\u001b[0;32m<ipython-input-364-9331620118e5>\u001b[0m in \u001b[0;36m<lambda>\u001b[0;34m(i)\u001b[0m\n\u001b[1;32m      9\u001b[0m         \u001b[0;34m\"\"\"return the index of the cluster closest to the input\"\"\"\u001b[0m\u001b[0;34m\u001b[0m\u001b[0m\n\u001b[1;32m     10\u001b[0m         return min(range(self.k),\n\u001b[0;32m---> 11\u001b[0;31m                 key=lambda i: squared_distance(input, self.means[i]))\n\u001b[0m\u001b[1;32m     12\u001b[0m \u001b[0;34m\u001b[0m\u001b[0m\n\u001b[1;32m     13\u001b[0m     \u001b[0;32mdef\u001b[0m \u001b[0mtrain\u001b[0m\u001b[0;34m(\u001b[0m\u001b[0mself\u001b[0m\u001b[0;34m,\u001b[0m \u001b[0minputs\u001b[0m\u001b[0;34m)\u001b[0m\u001b[0;34m:\u001b[0m\u001b[0;34m\u001b[0m\u001b[0m\n",
      "\u001b[0;32m<ipython-input-209-aa7adb9491fa>\u001b[0m in \u001b[0;36msquared_distance\u001b[0;34m(v, w)\u001b[0m\n\u001b[1;32m     54\u001b[0m     \"\"\"(v_1-w_1)^2 + ... + (v_n-w_n)^2\n\u001b[1;32m     55\u001b[0m     \"\"\"\n\u001b[0;32m---> 56\u001b[0;31m     \u001b[0;32mreturn\u001b[0m \u001b[0msum_of_squares\u001b[0m\u001b[0;34m(\u001b[0m\u001b[0mvector_subtract\u001b[0m\u001b[0;34m(\u001b[0m\u001b[0mv\u001b[0m\u001b[0;34m,\u001b[0m\u001b[0mw\u001b[0m\u001b[0;34m)\u001b[0m\u001b[0;34m)\u001b[0m\u001b[0;34m\u001b[0m\u001b[0m\n\u001b[0m\u001b[1;32m     57\u001b[0m \u001b[0;34m\u001b[0m\u001b[0m\n\u001b[1;32m     58\u001b[0m \u001b[0;32mdef\u001b[0m \u001b[0mdistance\u001b[0m\u001b[0;34m(\u001b[0m\u001b[0mv\u001b[0m\u001b[0;34m,\u001b[0m\u001b[0mw\u001b[0m\u001b[0;34m)\u001b[0m\u001b[0;34m:\u001b[0m\u001b[0;34m\u001b[0m\u001b[0m\n",
      "\u001b[0;32m<ipython-input-209-aa7adb9491fa>\u001b[0m in \u001b[0;36msum_of_squares\u001b[0;34m(v)\u001b[0m\n\u001b[1;32m     49\u001b[0m \u001b[0;31m# v_1*v_1 + v_2*v_2 + ... + v_n*v_n\u001b[0m\u001b[0;34m\u001b[0m\u001b[0;34m\u001b[0m\u001b[0m\n\u001b[1;32m     50\u001b[0m \u001b[0;32mdef\u001b[0m \u001b[0msum_of_squares\u001b[0m\u001b[0;34m(\u001b[0m\u001b[0mv\u001b[0m\u001b[0;34m)\u001b[0m\u001b[0;34m:\u001b[0m\u001b[0;34m\u001b[0m\u001b[0m\n\u001b[0;32m---> 51\u001b[0;31m     \u001b[0;32mreturn\u001b[0m \u001b[0mdot\u001b[0m\u001b[0;34m(\u001b[0m\u001b[0mv\u001b[0m\u001b[0;34m,\u001b[0m \u001b[0mv\u001b[0m\u001b[0;34m)\u001b[0m\u001b[0;34m\u001b[0m\u001b[0m\n\u001b[0m\u001b[1;32m     52\u001b[0m \u001b[0;34m\u001b[0m\u001b[0m\n\u001b[1;32m     53\u001b[0m \u001b[0;32mdef\u001b[0m \u001b[0msquared_distance\u001b[0m\u001b[0;34m(\u001b[0m\u001b[0mv\u001b[0m\u001b[0;34m,\u001b[0m\u001b[0mw\u001b[0m\u001b[0;34m)\u001b[0m\u001b[0;34m:\u001b[0m\u001b[0;34m\u001b[0m\u001b[0m\n",
      "\u001b[0;32m<ipython-input-209-aa7adb9491fa>\u001b[0m in \u001b[0;36mdot\u001b[0;34m(v, w)\u001b[0m\n\u001b[1;32m     44\u001b[0m \u001b[0;32mdef\u001b[0m \u001b[0mdot\u001b[0m\u001b[0;34m(\u001b[0m\u001b[0mv\u001b[0m\u001b[0;34m,\u001b[0m\u001b[0mw\u001b[0m\u001b[0;34m)\u001b[0m\u001b[0;34m:\u001b[0m\u001b[0;34m\u001b[0m\u001b[0m\n\u001b[1;32m     45\u001b[0m     return sum(v_i*w_i\n\u001b[0;32m---> 46\u001b[0;31m                for v_i, w_i in zip(v,w))\n\u001b[0m\u001b[1;32m     47\u001b[0m \u001b[0;34m\u001b[0m\u001b[0m\n\u001b[1;32m     48\u001b[0m \u001b[0;31m# compute a vector's sum of squares\u001b[0m\u001b[0;34m\u001b[0m\u001b[0;34m\u001b[0m\u001b[0m\n",
      "\u001b[0;32m<ipython-input-209-aa7adb9491fa>\u001b[0m in \u001b[0;36m<genexpr>\u001b[0;34m(.0)\u001b[0m\n\u001b[1;32m     44\u001b[0m \u001b[0;32mdef\u001b[0m \u001b[0mdot\u001b[0m\u001b[0;34m(\u001b[0m\u001b[0mv\u001b[0m\u001b[0;34m,\u001b[0m\u001b[0mw\u001b[0m\u001b[0;34m)\u001b[0m\u001b[0;34m:\u001b[0m\u001b[0;34m\u001b[0m\u001b[0m\n\u001b[1;32m     45\u001b[0m     return sum(v_i*w_i\n\u001b[0;32m---> 46\u001b[0;31m                for v_i, w_i in zip(v,w))\n\u001b[0m\u001b[1;32m     47\u001b[0m \u001b[0;34m\u001b[0m\u001b[0m\n\u001b[1;32m     48\u001b[0m \u001b[0;31m# compute a vector's sum of squares\u001b[0m\u001b[0;34m\u001b[0m\u001b[0;34m\u001b[0m\u001b[0m\n",
      "\u001b[0;31mKeyboardInterrupt\u001b[0m: "
     ]
    }
   ],
   "source": [
    "pixels = [pixel\n",
    "          for row in img\n",
    "          for pixel in row]\n",
    "\n",
    "cluster = KMeans(5)\n",
    "cluster.train(pixels)"
   ]
  },
  {
   "cell_type": "code",
   "execution_count": 395,
   "metadata": {},
   "outputs": [],
   "source": [
    "def recolor(pixel):\n",
    "    cluster_res = cluster.classify(pixel)\n",
    "    return cluster.means[cluster_res]"
   ]
  },
  {
   "cell_type": "code",
   "execution_count": null,
   "metadata": {},
   "outputs": [],
   "source": [
    "# new_img is composed by original pixel's recolored pixel (cluster mean)\n",
    "new_img = [[recolor(pixel) for pixel in row]\n",
    "           for row in img]"
   ]
  },
  {
   "cell_type": "code",
   "execution_count": null,
   "metadata": {},
   "outputs": [],
   "source": [
    "# show img\n",
    "plt.imshow(new_img)\n",
    "plt.axis('off')\n",
    "plt.show()"
   ]
  },
  {
   "cell_type": "code",
   "execution_count": null,
   "metadata": {},
   "outputs": [],
   "source": [
    "plt.imshow(img)\n",
    "plt.axis('off')\n",
    "plt.show();"
   ]
  },
  {
   "cell_type": "code",
   "execution_count": null,
   "metadata": {},
   "outputs": [],
   "source": [
    "# Bottom - up Hierarchical Clustering "
   ]
  },
  {
   "cell_type": "code",
   "execution_count": 445,
   "metadata": {},
   "outputs": [],
   "source": [
    "# Chap.14 Simple Linear Regression\n",
    "\n",
    "# predict\n",
    "def predict(alpha, beta, x_i):\n",
    "    return beta * x_i + alpha\n",
    "\n",
    "# measure performance - error\n",
    "def error(x_i, y_i, alpha, beta):\n",
    "    return y_i - predict(alpha, beta, x_i)\n",
    "\n",
    "\n",
    "def sum_of_squared_error(alpha, beta, x, y):\n",
    "    return sum(error(x_i, y_i, alpha, beta)**2\n",
    "        for x_i, y_i in zip(x,y))\n",
    "\n",
    "def least_square_fit(x,y):\n",
    "    \"\"\"given training data x and y\n",
    "       find alpha and beta that minimize sum of squared error\n",
    "    \"\"\"\n",
    "    beta = correlation(x,y) * standard_deviation(y) / standard_deviation(x)\n",
    "    alpha = mean(y) - beta * mean(x)\n",
    "    return alpha, beta\n",
    "\n"
   ]
  },
  {
   "cell_type": "code",
   "execution_count": 425,
   "metadata": {},
   "outputs": [],
   "source": [
    "num_friends_good = [49,41,40,25,21,21,19,19,18,18,16,15,15,15,15,14,14,13,13,13,13,12,12,11,10,10,10,10,10,10,10,10,10,10,10,10,10,10,10,9,9,9,9,9,9,9,9,9,9,9,9,9,9,9,9,9,9,8,8,8,8,8,8,8,8,8,8,8,8,8,7,7,7,7,7,7,7,7,7,7,7,7,7,7,7,6,6,6,6,6,6,6,6,6,6,6,6,6,6,6,6,6,6,6,6,6,6,5,5,5,5,5,5,5,5,5,5,5,5,5,5,5,5,5,4,4,4,4,4,4,4,4,4,4,4,4,4,4,4,4,4,4,4,4,3,3,3,3,3,3,3,3,3,3,3,3,3,3,3,3,3,3,3,3,2,2,2,2,2,2,2,2,2,2,2,2,2,2,2,2,2,1,1,1,1,1,1,1,1,1,1,1,1,1,1,1,1,1,1,1,1,1,1]\n",
    "daily_minutes_good = [68.77,51.25,52.08,38.36,44.54,57.13,51.4,41.42,31.22,34.76,54.01,38.79,47.59,49.1,27.66,41.03,36.73,48.65,28.12,46.62,35.57,32.98,35,26.07,23.77,39.73,40.57,31.65,31.21,36.32,20.45,21.93,26.02,27.34,23.49,46.94,30.5,33.8,24.23,21.4,27.94,32.24,40.57,25.07,19.42,22.39,18.42,46.96,23.72,26.41,26.97,36.76,40.32,35.02,29.47,30.2,31,38.11,38.18,36.31,21.03,30.86,36.07,28.66,29.08,37.28,15.28,24.17,22.31,30.17,25.53,19.85,35.37,44.6,17.23,13.47,26.33,35.02,32.09,24.81,19.33,28.77,24.26,31.98,25.73,24.86,16.28,34.51,15.23,39.72,40.8,26.06,35.76,34.76,16.13,44.04,18.03,19.65,32.62,35.59,39.43,14.18,35.24,40.13,41.82,35.45,36.07,43.67,24.61,20.9,21.9,18.79,27.61,27.21,26.61,29.77,20.59,27.53,13.82,33.2,25,33.1,36.65,18.63,14.87,22.2,36.81,25.53,24.62,26.25,18.21,28.08,19.42,29.79,32.8,35.99,28.32,27.79,35.88,29.06,36.28,14.1,36.63,37.49,26.9,18.58,38.48,24.48,18.95,33.55,14.24,29.04,32.51,25.63,22.22,19,32.73,15.16,13.9,27.2,32.01,29.27,33,13.74,20.42,27.32,18.23,35.35,28.48,9.08,24.62,20.12,35.26,19.92,31.02,16.49,12.16,30.7,31.22,34.65,13.13,27.51,33.2,31.57,14.1,33.42,17.44,10.12,24.42,9.82,23.39,30.93,15.03,21.67,31.09,33.29,22.61,26.89,23.48,8.38,27.81,32.35,23.84]"
   ]
  },
  {
   "cell_type": "code",
   "execution_count": 419,
   "metadata": {},
   "outputs": [],
   "source": [
    "alpha, beta = least_square_fit(num_friends_good, daily_minutes_good)\n",
    "# a user has no friend would still spend averagely 23 minutes daily\n",
    "# an increase in # of friends would increase daily active mins by 0.9"
   ]
  },
  {
   "cell_type": "code",
   "execution_count": 417,
   "metadata": {},
   "outputs": [
    {
     "data": {
      "image/png": "[encoded data removed]",
      "text/plain": [
       "<Figure size 576x432 with 1 Axes>"
      ]
     },
     "metadata": {
      "needs_background": "light"
     },
     "output_type": "display_data"
    }
   ],
   "source": [
    "plt.figure(figsize=(8,6))\n",
    "plt.scatter(num_friends_good, daily_minutes_good)\n",
    "plt.xlabel('# of friends')\n",
    "plt.ylabel('minutes per day')\n",
    "plt.title('Simple Linear Regression Model')\n",
    "plt.show();"
   ]
  },
  {
   "cell_type": "code",
   "execution_count": 446,
   "metadata": {},
   "outputs": [],
   "source": [
    "# evaluate the fitting - coefficient of determination (R^2)\n",
    "# measures the total variation in the dependent var is captured by the independent var\n",
    "\n",
    "def total_sum_of_squares(y):\n",
    "    return sum(v**2 for v in de_mean(y))\n",
    "\n",
    "def r_squared(alpha, beta, x, y):\n",
    "    y_variance = total_sum_of_squares(y)\n",
    "    y_captured = sum_of_squared_error(alpha, beta, x, y)\n",
    "    \n",
    "    return 1- y_captured / y_variance"
   ]
  },
  {
   "cell_type": "code",
   "execution_count": 447,
   "metadata": {
    "scrolled": true
   },
   "outputs": [
    {
     "data": {
      "text/plain": [
       "0.3291078377836305"
      ]
     },
     "execution_count": 447,
     "metadata": {},
     "output_type": "execute_result"
    }
   ],
   "source": [
    "r_squared(alpha, beta, num_friends_good, daily_minutes_good)\n",
    "# benchmark R^2 in range(0,1), the closer to 1 the better"
   ]
  },
  {
   "cell_type": "code",
   "execution_count": 451,
   "metadata": {},
   "outputs": [],
   "source": [
    "# Using Gradient Descent\n",
    "def squared_error(x_i, y_i, theta):\n",
    "    alpha, beta = theta\n",
    "    return error(x_i, y_i, alpha, beta)**2\n",
    "\n",
    "def squared_error_gradient(x_i, y_i, theta):\n",
    "    alpha, beta = theta\n",
    "    res = [-2 * error(x_i, y_i, alpha, beta), # derivative of alpha\n",
    "           -2 * error(x_i, y_i, alpha, beta) * x_i] # detivative of beta"
   ]
  },
  {
   "cell_type": "code",
   "execution_count": 458,
   "metadata": {},
   "outputs": [],
   "source": [
    "def scalar_multiply(c, v):\n",
    "    return [c * v_i for v_i in v]"
   ]
  },
  {
   "cell_type": "code",
   "execution_count": 456,
   "metadata": {},
   "outputs": [],
   "source": [
    "def in_random_order(data):\n",
    "    \"\"\"generator that returns the elements of data in random order\"\"\"\n",
    "    indexes = [i for i, _ in enumerate(data)]  # create a list of indexes\n",
    "    random.shuffle(indexes)                    # shuffle them\n",
    "    for i in indexes:                          # return the data in that order\n",
    "        yield data[i]"
   ]
  },
  {
   "cell_type": "code",
   "execution_count": 454,
   "metadata": {},
   "outputs": [],
   "source": [
    "def minimize_stochastic(target_fn, gradient_fn, x, y, theta_0, alpha_0=0.01):\n",
    "\n",
    "    data = list(zip(x, y))\n",
    "    theta = theta_0                             # initial guess\n",
    "    alpha = alpha_0                             # initial step size\n",
    "    min_theta, min_value = None, float(\"inf\")   # the minimum so far\n",
    "    iterations_with_no_improvement = 0\n",
    "\n",
    "    # if we ever go 100 iterations with no improvement, stop\n",
    "    while iterations_with_no_improvement < 100:\n",
    "        value = sum( target_fn(x_i, y_i, theta) for x_i, y_i in data )\n",
    "\n",
    "        if value < min_value:\n",
    "            # if we've found a new minimum, remember it\n",
    "            # and go back to the original step size\n",
    "            min_theta, min_value = theta, value\n",
    "            iterations_with_no_improvement = 0\n",
    "            alpha = alpha_0\n",
    "        else:\n",
    "            # otherwise we're not improving, so try shrinking the step size\n",
    "            iterations_with_no_improvement += 1\n",
    "            alpha *= 0.9\n",
    "\n",
    "        # and take a gradient step for each of the data points\n",
    "        for x_i, y_i in in_random_order(data):\n",
    "            gradient_i = gradient_fn(x_i, y_i, theta)\n",
    "            theta = vector_subtract(theta, scalar_multiply(alpha, gradient_i))\n",
    "\n",
    "    return min_theta"
   ]
  },
  {
   "cell_type": "code",
   "execution_count": 460,
   "metadata": {
    "collapsed": true
   },
   "outputs": [
    {
     "ename": "TypeError",
     "evalue": "'NoneType' object is not iterable",
     "output_type": "error",
     "traceback": [
      "\u001b[0;31m---------------------------------------------------------------------------\u001b[0m",
      "\u001b[0;31mTypeError\u001b[0m                                 Traceback (most recent call last)",
      "\u001b[0;32m<ipython-input-460-04d3725396d6>\u001b[0m in \u001b[0;36m<module>\u001b[0;34m\u001b[0m\n\u001b[1;32m      6\u001b[0m                                   \u001b[0mdaily_minutes_good\u001b[0m\u001b[0;34m,\u001b[0m\u001b[0;34m\u001b[0m\u001b[0m\n\u001b[1;32m      7\u001b[0m                                   \u001b[0mtheta\u001b[0m\u001b[0;34m,\u001b[0m\u001b[0;34m\u001b[0m\u001b[0m\n\u001b[0;32m----> 8\u001b[0;31m                                   0.0001)\n\u001b[0m",
      "\u001b[0;32m<ipython-input-454-e2cefdc25df5>\u001b[0m in \u001b[0;36mminimize_stochastic\u001b[0;34m(target_fn, gradient_fn, x, y, theta_0, alpha_0)\u001b[0m\n\u001b[1;32m     25\u001b[0m         \u001b[0;32mfor\u001b[0m \u001b[0mx_i\u001b[0m\u001b[0;34m,\u001b[0m \u001b[0my_i\u001b[0m \u001b[0;32min\u001b[0m \u001b[0min_random_order\u001b[0m\u001b[0;34m(\u001b[0m\u001b[0mdata\u001b[0m\u001b[0;34m)\u001b[0m\u001b[0;34m:\u001b[0m\u001b[0;34m\u001b[0m\u001b[0m\n\u001b[1;32m     26\u001b[0m             \u001b[0mgradient_i\u001b[0m \u001b[0;34m=\u001b[0m \u001b[0mgradient_fn\u001b[0m\u001b[0;34m(\u001b[0m\u001b[0mx_i\u001b[0m\u001b[0;34m,\u001b[0m \u001b[0my_i\u001b[0m\u001b[0;34m,\u001b[0m \u001b[0mtheta\u001b[0m\u001b[0;34m)\u001b[0m\u001b[0;34m\u001b[0m\u001b[0m\n\u001b[0;32m---> 27\u001b[0;31m             \u001b[0mtheta\u001b[0m \u001b[0;34m=\u001b[0m \u001b[0mvector_subtract\u001b[0m\u001b[0;34m(\u001b[0m\u001b[0mtheta\u001b[0m\u001b[0;34m,\u001b[0m \u001b[0mscalar_multiply\u001b[0m\u001b[0;34m(\u001b[0m\u001b[0malpha\u001b[0m\u001b[0;34m,\u001b[0m \u001b[0mgradient_i\u001b[0m\u001b[0;34m)\u001b[0m\u001b[0;34m)\u001b[0m\u001b[0;34m\u001b[0m\u001b[0m\n\u001b[0m\u001b[1;32m     28\u001b[0m \u001b[0;34m\u001b[0m\u001b[0m\n\u001b[1;32m     29\u001b[0m     \u001b[0;32mreturn\u001b[0m \u001b[0mmin_theta\u001b[0m\u001b[0;34m\u001b[0m\u001b[0m\n",
      "\u001b[0;32m<ipython-input-458-f12a4ca0069d>\u001b[0m in \u001b[0;36mscalar_multiply\u001b[0;34m(c, v)\u001b[0m\n\u001b[1;32m      1\u001b[0m \u001b[0;32mdef\u001b[0m \u001b[0mscalar_multiply\u001b[0m\u001b[0;34m(\u001b[0m\u001b[0mc\u001b[0m\u001b[0;34m,\u001b[0m \u001b[0mv\u001b[0m\u001b[0;34m)\u001b[0m\u001b[0;34m:\u001b[0m\u001b[0;34m\u001b[0m\u001b[0m\n\u001b[0;32m----> 2\u001b[0;31m     \u001b[0;32mreturn\u001b[0m \u001b[0;34m[\u001b[0m\u001b[0mc\u001b[0m \u001b[0;34m*\u001b[0m \u001b[0mv_i\u001b[0m \u001b[0;32mfor\u001b[0m \u001b[0mv_i\u001b[0m \u001b[0;32min\u001b[0m \u001b[0mv\u001b[0m\u001b[0;34m]\u001b[0m\u001b[0;34m\u001b[0m\u001b[0m\n\u001b[0m",
      "\u001b[0;31mTypeError\u001b[0m: 'NoneType' object is not iterable"
     ]
    }
   ],
   "source": [
    "random.seed(0)\n",
    "theta = [random.random(), random.random()]\n",
    "alpha, beta = minimize_stochastic(squared_error,\n",
    "                                  squared_error_gradient,\n",
    "                                  num_friends_good,\n",
    "                                  daily_minutes_good,\n",
    "                                  theta,\n",
    "                                  0.0001)"
   ]
  },
  {
   "cell_type": "code",
   "execution_count": null,
   "metadata": {},
   "outputs": [],
   "source": [
    "# Chapter 23. Database and SQL\n",
    "# create NotQuiteABase to show how DB and SQL work"
   ]
  },
  {
   "cell_type": "code",
   "execution_count": null,
   "metadata": {},
   "outputs": [],
   "source": [
    "# Create table and insert\n",
    "# Create table \n",
    "\"\"\"CREATE TABLE users(\n",
    "    user_id INT NOT NULL,\n",
    "    name VARCHAR(200),\n",
    "    num_friends INT\n",
    ");\"\"\"\n",
    "# insert\n",
    "\"\"\"INSERT INTO users (user_id, name, num_friends) VALUES (0, 'Hero', 5);\n",
    "\"\"\""
   ]
  },
  {
   "cell_type": "code",
   "execution_count": 534,
   "metadata": {},
   "outputs": [],
   "source": [
    "# create class Table\n",
    "# store each row as a dict from col names to values\n",
    "class Table:\n",
    "    def __init__(self, columns):\n",
    "        self.columns = columns\n",
    "        self.rows = []\n",
    "        \n",
    "    def insert(self, row_values):\n",
    "        # sanity check\n",
    "        if len(row_values) != len(self.columns):\n",
    "            raise TypeError('wrong num of elements')\n",
    "        # make col name and row value pair\n",
    "        row_dict = dict(zip(self.columns, row_values))\n",
    "        self.rows.append(row_dict)\n",
    "        \n",
    "    def delete(self, condition_func=lambda row: True):\n",
    "        self.rows = [row for row in self.rows if not condition_func(row)]\n",
    "    \n",
    "    def update(self, update_dict, condition_func):\n",
    "        for row in self.rows:\n",
    "            # match the row\n",
    "            if condition_func(row):\n",
    "                # change stored data\n",
    "                for k, v in update_dict.items():\n",
    "                    if k in row:\n",
    "                        row[k] = v\n",
    "                    else:\n",
    "                        raise TypeError('not available key') \n",
    "                        \n",
    "    \n",
    "    # input: columns to keep or to add, return: table\n",
    "    def select(self, keep_columns=None, additional_columns=None):\n",
    "        \n",
    "        if not keep_columns:\n",
    "            keep_columns = self.columns\n",
    "            \n",
    "        if not additional_columns:\n",
    "            additional_columns = {}\n",
    "            \n",
    "        # new table for the results\n",
    "        result_table = Table(keep_columns + list(additional_columns.keys()))\n",
    "        \n",
    "        for row in self.rows:\n",
    "            # add existing cols\n",
    "            new_row = [row[col] for col in keep_columns]\n",
    "            # add new cols\n",
    "            for col_name, calculation in additional_columns.items():\n",
    "                new_row.append(calculation(col_name))\n",
    "            result_table.insert(new_row)\n",
    "        \n",
    "        return result_table\n",
    "    \n",
    "    def where(self, condition_func=lambda row:True):\n",
    "        # return only rows that satisfy the predicate\n",
    "        where_table = Table(self.columns)\n",
    "        # map predicate to rows, get rows that meet the condition only\n",
    "        where_table.rows = (self.rows[:num_rows]\n",
    "                            if num_rows is not None\n",
    "                            else self.rows)\n",
    "        \n",
    "        return where_table\n",
    "    \n",
    "    def limit(self, num_rows):\n",
    "        limit_table = Table(self.columns)\n",
    "        if num_rows > len(self.rows):\n",
    "            num_rows = len(self.rows)\n",
    "        limit_table.rows = limit_table.rows[:num_rows]\n",
    "        return limit_table"
   ]
  },
  {
   "cell_type": "code",
   "execution_count": 535,
   "metadata": {},
   "outputs": [
    {
     "name": "stdout",
     "output_type": "stream",
     "text": [
      "[{'user_id': 0, 'name': 'Hero', 'num_friends': 5}, {'user_id': 1, 'name': 'Dune', 'num_friends': 58}, {'user_id': 2, 'name': 'Sue', 'num_friends': 52}, {'user_id': 3, 'name': 'Zo', 'num_friends': 35}, {'user_id': 4, 'name': 'Larry', 'num_friends': 25}, {'user_id': 5, 'name': 'Page', 'num_friends': 15}, {'user_id': 6, 'name': 'Maria', 'num_friends': 15}]\n"
     ]
    }
   ],
   "source": [
    "users = Table(['user_id', 'name', 'num_friends'])\n",
    "users.insert([0, 'Hero', 5])\n",
    "users.insert([1, 'Dune', 58])\n",
    "users.insert([2, 'Sue', 52])\n",
    "users.insert([3, 'Zo', 35])\n",
    "users.insert([4, 'Larry', 25])\n",
    "users.insert([5, 'Page', 15])\n",
    "users.insert([6, 'Maria', 15])\n",
    "print(users.rows)"
   ]
  },
  {
   "cell_type": "code",
   "execution_count": 503,
   "metadata": {},
   "outputs": [
    {
     "name": "stdout",
     "output_type": "stream",
     "text": [
      "[{'user_id': 0, 'name': 'Hero', 'num_friends': 5}, {'user_id': 1, 'name': 'Dune', 'num_friends': 58}, {'user_id': 2, 'name': 'Sue', 'num_friends': 52}, {'user_id': 3, 'name': 'Zo', 'num_friends': 35}, {'user_id': 4, 'name': 'Larry', 'num_friends': 25}, {'user_id': 5, 'name': 'Page', 'num_friends': 15}, {'user_id': 6, 'name': 'Marry', 'num_friends': 15}]\n"
     ]
    }
   ],
   "source": [
    "# Update\n",
    "# update in SQL\n",
    "\"\"\"UPDAET users SET num_friends = 28 WHERE user_id=1;\n",
    "\"\"\"\n",
    "users.update({'name': 'Marry'}, lambda row: row['user_id'] == 6)\n",
    "print(users.rows)"
   ]
  },
  {
   "cell_type": "code",
   "execution_count": 507,
   "metadata": {},
   "outputs": [
    {
     "name": "stdout",
     "output_type": "stream",
     "text": [
      "[]\n"
     ]
    }
   ],
   "source": [
    "# DELETE\n",
    "# delete in SQL\n",
    "# delete everything from table: DELETE TABLE users;\n",
    "# DELETE FROM users WHERE user_id = 1\n",
    "users.delete()\n",
    "print(users.rows)"
   ]
  },
  {
   "cell_type": "code",
   "execution_count": 536,
   "metadata": {},
   "outputs": [
    {
     "data": {
      "text/plain": [
       "[]"
      ]
     },
     "execution_count": 536,
     "metadata": {},
     "output_type": "execute_result"
    }
   ],
   "source": [
    "# SELECT\n",
    "\"\"\"SELECT * FROM users;\n",
    "   SELECT * FROM users where user_id=2;\n",
    "   SELECT user_id FROM users;\n",
    "   -- use select to compute\n",
    "   SELECT LENGTH(name) AS name_length FROM users;\n",
    "\"\"\"\n",
    "\n",
    "users = users.limit(2)\n",
    "users.rows"
   ]
  },
  {
   "cell_type": "code",
   "execution_count": null,
   "metadata": {},
   "outputs": [],
   "source": []
  },
  {
   "cell_type": "code",
   "execution_count": null,
   "metadata": {},
   "outputs": [],
   "source": []
  },
  {
   "cell_type": "code",
   "execution_count": null,
   "metadata": {},
   "outputs": [],
   "source": []
  },
  {
   "cell_type": "code",
   "execution_count": null,
   "metadata": {},
   "outputs": [],
   "source": []
  },
  {
   "cell_type": "code",
   "execution_count": null,
   "metadata": {},
   "outputs": [],
   "source": []
  },
  {
   "cell_type": "code",
   "execution_count": null,
   "metadata": {},
   "outputs": [],
   "source": []
  },
  {
   "cell_type": "code",
   "execution_count": null,
   "metadata": {},
   "outputs": [],
   "source": []
  },
  {
   "cell_type": "code",
   "execution_count": null,
   "metadata": {},
   "outputs": [],
   "source": []
  },
  {
   "cell_type": "code",
   "execution_count": null,
   "metadata": {},
   "outputs": [],
   "source": []
  },
  {
   "cell_type": "code",
   "execution_count": null,
   "metadata": {},
   "outputs": [],
   "source": []
  },
  {
   "cell_type": "code",
   "execution_count": null,
   "metadata": {},
   "outputs": [],
   "source": []
  },
  {
   "cell_type": "code",
   "execution_count": null,
   "metadata": {},
   "outputs": [],
   "source": []
  },
  {
   "cell_type": "code",
   "execution_count": null,
   "metadata": {},
   "outputs": [],
   "source": []
  }
 ],
 "metadata": {
  "kernelspec": {
   "display_name": "Python 3",
   "language": "python",
   "name": "python3"
  },
  "language_info": {
   "codemirror_mode": {
    "name": "ipython",
    "version": 3
   },
   "file_extension": ".py",
   "mimetype": "text/x-python",
   "name": "python",
   "nbconvert_exporter": "python",
   "pygments_lexer": "ipython3",
   "version": "3.6.6"
  }
 },
 "nbformat": 4,
 "nbformat_minor": 2
}

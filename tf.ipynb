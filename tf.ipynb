{
 "cells": [
  {
   "cell_type": "markdown",
   "metadata": {},
   "source": [
    "# Keras"
   ]
  },
  {
   "cell_type": "code",
   "execution_count": 1,
   "metadata": {},
   "outputs": [
    {
     "name": "stdout",
     "output_type": "stream",
     "text": [
      "1.10.0\n",
      "2.1.6-tf\n"
     ]
    }
   ],
   "source": [
    "# tf.keras makes TensorFlow easier to use without sacrificing flexibility and performance\n",
    "import tensorflow as tf\n",
    "from tensorflow.keras import layers\n",
    "print(tf.VERSION)\n",
    "print(tf.keras.__version__)"
   ]
  },
  {
   "cell_type": "markdown",
   "metadata": {},
   "source": [
    "## Build a simple model"
   ]
  },
  {
   "cell_type": "code",
   "execution_count": null,
   "metadata": {},
   "outputs": [],
   "source": [
    "# In Keras, you assemble layers to build models\n",
    "# the most common type of model is a stack of layers: tf.keras.Sequential()\n",
    "# build a mutil-layer perceptron (fully connected network)"
   ]
  },
  {
   "cell_type": "code",
   "execution_count": 4,
   "metadata": {},
   "outputs": [],
   "source": [
    "model = tf.keras.Sequential()\n",
    "# Adds a densely-connected layer with 64 units to the model\n",
    "model.add(layers.Dense(64, activation='relu'))\n",
    "# Adds another\n",
    "model.add(layers.Dense(64, activation='relu'))\n",
    "# Adds a softmax layer with 10 outpute units\n",
    "model.add(layers.Dense(10, activation='softmax'))"
   ]
  },
  {
   "cell_type": "code",
   "execution_count": 5,
   "metadata": {},
   "outputs": [
    {
     "data": {
      "text/plain": [
       "<tensorflow.python.keras.layers.core.Dense at 0xb26c36c88>"
      ]
     },
     "execution_count": 5,
     "metadata": {},
     "output_type": "execute_result"
    }
   ],
   "source": [
    "# configure the layers\n",
    "# create a sigmoid layer\n",
    "layers.Dense(64, activation='sigmoid')\n",
    "# Or\n",
    "layers.Dense(64, activation=tf.sigmoid)\n",
    "# a linear layer with L1 regularization applied to the kernal matrix\n",
    "layers.Dense(64, kernel_regularizer=tf.keras.regularizers.l1(0.01))\n",
    "# a linear layer with L2 regularization applied to the bias vector\n",
    "layers.Dense(64, kernel_regularizer=tf.keras.regularizers.l2(0.01))\n",
    "# a linear layer with a kernel initialized to a random orthogonal matrix\n",
    "layers.Dense(64, kernel_initializer='orthogonal')\n",
    "# a linear layer with a bias vector initialized to 2.0s\n",
    "layers.Dense(64, bias_initializer=tf.keras.initializers.constant(2.0))"
   ]
  },
  {
   "cell_type": "code",
   "execution_count": 9,
   "metadata": {},
   "outputs": [],
   "source": [
    "# Train and evaluate\n",
    "# after the model is constructed, configure its learning process by calling the compile method\n",
    "model = tf.keras.Sequential([\n",
    "    # add a densely-connected layer with 64 units to the model\n",
    "    layers.Dense(64, activation='relu'),\n",
    "    # add another\n",
    "    layers.Dense(64, activation='relu'),\n",
    "    # add a softmax layer with 10 output units\n",
    "    layers.Dense(10, activation='softmax')])\n",
    "\n",
    "model.compile(optimizer=tf.train.AdamOptimizer(0.001),\n",
    "             loss='categorical_crossentropy',\n",
    "             metrics=['accuracy'])\n",
    "\n",
    "# model.compile takes three important arguments\n",
    "# optimizer: it specifies the training procedure: RMS, GrdientDescent, Adam\n",
    "# loss: mse, categorical_crossentropy, binary crossentropy\n",
    "# metrics: used to monitor the training"
   ]
  },
  {
   "cell_type": "code",
   "execution_count": 12,
   "metadata": {},
   "outputs": [],
   "source": [
    "# configure a model for MSE regression\n",
    "model.compile(optimizer=tf.train.AdamOptimizer(0.01),\n",
    "             loss='mse',\n",
    "             metrics=['mse'])\n",
    "\n",
    "# configure a model for classification\n",
    "model.compile(optimizer=tf.train.RMSPropOptimizer(0.01),\n",
    "             loss=tf.keras.losses.categorical_crossentropy,\n",
    "             metrics=[tf.keras.metrics.categorical_accuracy])"
   ]
  },
  {
   "cell_type": "code",
   "execution_count": 14,
   "metadata": {},
   "outputs": [
    {
     "name": "stdout",
     "output_type": "stream",
     "text": [
      "Epoch 1/10\n",
      "1000/1000 [==============================] - 1s 596us/step - loss: 11.6165 - categorical_accuracy: 0.1020\n",
      "Epoch 2/10\n",
      "1000/1000 [==============================] - 0s 101us/step - loss: 11.5917 - categorical_accuracy: 0.0970\n",
      "Epoch 3/10\n",
      "1000/1000 [==============================] - 0s 58us/step - loss: 11.5795 - categorical_accuracy: 0.0970\n",
      "Epoch 4/10\n",
      "1000/1000 [==============================] - 0s 54us/step - loss: 11.5709 - categorical_accuracy: 0.1030\n",
      "Epoch 5/10\n",
      "1000/1000 [==============================] - 0s 78us/step - loss: 11.5703 - categorical_accuracy: 0.0980\n",
      "Epoch 6/10\n",
      "1000/1000 [==============================] - 0s 75us/step - loss: 11.5669 - categorical_accuracy: 0.1050\n",
      "Epoch 7/10\n",
      "1000/1000 [==============================] - 0s 68us/step - loss: 11.5652 - categorical_accuracy: 0.1220\n",
      "Epoch 8/10\n",
      "1000/1000 [==============================] - 0s 79us/step - loss: 11.5661 - categorical_accuracy: 0.1000\n",
      "Epoch 9/10\n",
      "1000/1000 [==============================] - 0s 67us/step - loss: 11.5599 - categorical_accuracy: 0.1020\n",
      "Epoch 10/10\n",
      "1000/1000 [==============================] - 0s 85us/step - loss: 11.5595 - categorical_accuracy: 0.1110\n"
     ]
    },
    {
     "data": {
      "text/plain": [
       "<tensorflow.python.keras.callbacks.History at 0xb26c36630>"
      ]
     },
     "execution_count": 14,
     "metadata": {},
     "output_type": "execute_result"
    }
   ],
   "source": [
    "# input Numpy data\n",
    "# for small dataset use in-memory Numpy arrays to train and evaluate a model.\n",
    "# the model is 'fit' to the training data using the fit method.\n",
    "import numpy as np\n",
    "data = np.random.random((1000,32))\n",
    "labels = np.random.random((1000,10))\n",
    "model.fit(data, labels, epochs=10, batch_size=32)"
   ]
  },
  {
   "cell_type": "code",
   "execution_count": 15,
   "metadata": {},
   "outputs": [
    {
     "name": "stdout",
     "output_type": "stream",
     "text": [
      "Train on 1000 samples, validate on 100 samples\n",
      "Epoch 1/10\n",
      "1000/1000 [==============================] - 0s 137us/step - loss: 11.4957 - categorical_accuracy: 0.1030 - val_loss: 11.5727 - val_categorical_accuracy: 0.1100\n",
      "Epoch 2/10\n",
      "1000/1000 [==============================] - 0s 50us/step - loss: 11.4936 - categorical_accuracy: 0.0960 - val_loss: 11.6233 - val_categorical_accuracy: 0.0800\n",
      "Epoch 3/10\n",
      "1000/1000 [==============================] - 0s 63us/step - loss: 11.4932 - categorical_accuracy: 0.1250 - val_loss: 11.5726 - val_categorical_accuracy: 0.0800\n",
      "Epoch 4/10\n",
      "1000/1000 [==============================] - 0s 80us/step - loss: 11.4906 - categorical_accuracy: 0.1270 - val_loss: 11.5660 - val_categorical_accuracy: 0.1400\n",
      "Epoch 5/10\n",
      "1000/1000 [==============================] - 0s 82us/step - loss: 11.4896 - categorical_accuracy: 0.1160 - val_loss: 11.6010 - val_categorical_accuracy: 0.1100\n",
      "Epoch 6/10\n",
      "1000/1000 [==============================] - 0s 87us/step - loss: 11.4878 - categorical_accuracy: 0.1170 - val_loss: 11.5676 - val_categorical_accuracy: 0.1100\n",
      "Epoch 7/10\n",
      "1000/1000 [==============================] - 0s 128us/step - loss: 11.4867 - categorical_accuracy: 0.1310 - val_loss: 11.5859 - val_categorical_accuracy: 0.0800\n",
      "Epoch 8/10\n",
      "1000/1000 [==============================] - 0s 80us/step - loss: 11.4837 - categorical_accuracy: 0.1430 - val_loss: 11.6273 - val_categorical_accuracy: 0.1000\n",
      "Epoch 9/10\n",
      "1000/1000 [==============================] - 0s 75us/step - loss: 11.4848 - categorical_accuracy: 0.1250 - val_loss: 11.5898 - val_categorical_accuracy: 0.0600\n",
      "Epoch 10/10\n",
      "1000/1000 [==============================] - 0s 68us/step - loss: 11.4785 - categorical_accuracy: 0.1380 - val_loss: 11.5815 - val_categorical_accuracy: 0.1200\n"
     ]
    },
    {
     "data": {
      "text/plain": [
       "<tensorflow.python.keras.callbacks.History at 0xb26d6ce80>"
      ]
     },
     "execution_count": 15,
     "metadata": {},
     "output_type": "execute_result"
    }
   ],
   "source": [
    "# tf.keras.model.fit takes three important arguments\n",
    "# epochs: an epoch is one iteration over the entire input data (this is done in smaller batch)\n",
    "# batch_size: the model slices the data into smaller batches\n",
    "# validation_data: when prototyping a model\n",
    "\n",
    "# validation\n",
    "data = np.random.random((1000, 32))\n",
    "labels = np.random.random((1000, 10))\n",
    "\n",
    "val_data = np.random.random((100, 32))\n",
    "val_label = np.random.random((100,10))\n",
    "\n",
    "model.fit(data, labels, epochs=10, batch_size=32, validation_data=(val_data, val_label))\n"
   ]
  },
  {
   "cell_type": "code",
   "execution_count": null,
   "metadata": {},
   "outputs": [],
   "source": [
    "# Input tf.data datasets\n"
   ]
  },
  {
   "cell_type": "code",
   "execution_count": null,
   "metadata": {},
   "outputs": [],
   "source": []
  },
  {
   "cell_type": "code",
   "execution_count": null,
   "metadata": {},
   "outputs": [],
   "source": []
  },
  {
   "cell_type": "code",
   "execution_count": null,
   "metadata": {},
   "outputs": [],
   "source": []
  },
  {
   "cell_type": "code",
   "execution_count": null,
   "metadata": {},
   "outputs": [],
   "source": []
  },
  {
   "cell_type": "code",
   "execution_count": null,
   "metadata": {},
   "outputs": [],
   "source": []
  },
  {
   "cell_type": "code",
   "execution_count": null,
   "metadata": {},
   "outputs": [],
   "source": []
  },
  {
   "cell_type": "code",
   "execution_count": null,
   "metadata": {},
   "outputs": [],
   "source": []
  },
  {
   "cell_type": "code",
   "execution_count": null,
   "metadata": {},
   "outputs": [],
   "source": []
  },
  {
   "cell_type": "code",
   "execution_count": null,
   "metadata": {},
   "outputs": [],
   "source": []
  },
  {
   "cell_type": "code",
   "execution_count": null,
   "metadata": {},
   "outputs": [],
   "source": []
  },
  {
   "cell_type": "code",
   "execution_count": null,
   "metadata": {},
   "outputs": [],
   "source": []
  },
  {
   "cell_type": "code",
   "execution_count": null,
   "metadata": {},
   "outputs": [],
   "source": []
  },
  {
   "cell_type": "code",
   "execution_count": null,
   "metadata": {},
   "outputs": [],
   "source": []
  },
  {
   "cell_type": "code",
   "execution_count": null,
   "metadata": {},
   "outputs": [],
   "source": []
  },
  {
   "cell_type": "code",
   "execution_count": null,
   "metadata": {},
   "outputs": [],
   "source": []
  },
  {
   "cell_type": "code",
   "execution_count": null,
   "metadata": {},
   "outputs": [],
   "source": []
  },
  {
   "cell_type": "code",
   "execution_count": null,
   "metadata": {},
   "outputs": [],
   "source": []
  },
  {
   "cell_type": "code",
   "execution_count": null,
   "metadata": {},
   "outputs": [],
   "source": []
  }
 ],
 "metadata": {
  "kernelspec": {
   "display_name": "Python 3",
   "language": "python",
   "name": "python3"
  },
  "language_info": {
   "codemirror_mode": {
    "name": "ipython",
    "version": 3
   },
   "file_extension": ".py",
   "mimetype": "text/x-python",
   "name": "python",
   "nbconvert_exporter": "python",
   "pygments_lexer": "ipython3",
   "version": "3.6.6"
  }
 },
 "nbformat": 4,
 "nbformat_minor": 2
}

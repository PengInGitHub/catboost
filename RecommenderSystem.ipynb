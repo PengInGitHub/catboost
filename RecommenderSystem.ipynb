{
 "cells": [
  {
   "cell_type": "code",
   "execution_count": 52,
   "metadata": {},
   "outputs": [],
   "source": [
    "from __future__ import division, print_function\n",
    "from collections import Counter\n",
    "import pandas as pd\n",
    "import math\n"
   ]
  },
  {
   "cell_type": "code",
   "execution_count": 3,
   "metadata": {},
   "outputs": [
    {
     "name": "stdout",
     "output_type": "stream",
     "text": [
      "15\n",
      "67\n"
     ]
    }
   ],
   "source": [
    "user_interests = [\n",
    "    [\"Hadoop\", \"Big Data\", \"HBase\", \"Java\", \"Spark\", \"Storm\", \"Cassandra\"],\n",
    "    [\"NoSQL\", \"MongoDB\", \"Cassandra\", \"HBase\", \"Postgres\"],\n",
    "    [\"Python\", \"scikit-learn\", \"scipy\", \"numpy\", \"statsmodels\", \"pandas\"],\n",
    "    [\"R\", \"Python\", \"statistics\", \"regression\", \"probability\"],\n",
    "    [\"machine learning\", \"regression\", \"decision trees\", \"libsvm\"],\n",
    "    [\"Python\", \"R\", \"Java\", \"C++\", \"Haskell\", \"programming languages\"],\n",
    "    [\"statistics\", \"probability\", \"mathematics\", \"theory\"],\n",
    "    [\"machine learning\", \"scikit-learn\", \"Mahout\", \"neural networks\"],\n",
    "    [\"neural networks\", \"deep learning\", \"Big Data\", \"artificial intelligence\"],\n",
    "    [\"Hadoop\", \"Java\", \"MapReduce\", \"Big Data\"],\n",
    "    [\"statistics\", \"R\", \"statsmodels\"],\n",
    "    [\"C++\", \"deep learning\", \"artificial intelligence\", \"probability\"],\n",
    "    [\"pandas\", \"R\", \"Python\"],\n",
    "    [\"databases\", \"HBase\", \"Postgres\", \"MySQL\", \"MongoDB\"],\n",
    "    [\"libsvm\", \"regression\", \"support vector machines\"]\n",
    "]\n",
    "\n",
    "# Overview\n",
    "print(len(user_interests))\n",
    "c = 0\n",
    "for inter in user_interests:\n",
    "    for ele in inter:\n",
    "        c += 1\n",
    "print(c)\n",
    "    "
   ]
  },
  {
   "cell_type": "code",
   "execution_count": 11,
   "metadata": {},
   "outputs": [],
   "source": [
    "# Recommend popular items\n",
    "\n",
    "popular_interests = Counter(interest\n",
    "                            for user_interest in user_interests\n",
    "                            for interest in user_interest).most_common()\n",
    "# top 10 most popular items\n",
    "popular_interests[:10]\n",
    "\n",
    "def most_popular(user_interests, max_res=5):\n",
    "    suggestions = [(item, frequency) \n",
    "                   for item, frequency in popular_interests\n",
    "                   if item not in user_interests]\n",
    "    return suggestions[:max_res]"
   ]
  },
  {
   "cell_type": "code",
   "execution_count": 13,
   "metadata": {},
   "outputs": [
    {
     "data": {
      "text/plain": [
       "[('R', 4), ('Big Data', 3), ('HBase', 3), ('Java', 3), ('statistics', 3)]"
      ]
     },
     "execution_count": 13,
     "metadata": {},
     "output_type": "execute_result"
    }
   ],
   "source": [
    "# recommend for user 3\n",
    "# user 3 interests: [\"Python\", \"scikit-learn\", \"scipy\", \"numpy\", \"statsmodels\", \"pandas\"]\n",
    "most_popular(user_interests[2])"
   ]
  },
  {
   "cell_type": "code",
   "execution_count": 32,
   "metadata": {},
   "outputs": [],
   "source": [
    "# helper method dot product\n",
    "def dot(v, w):\n",
    "    \"\"\"gets the dot product of two vectors which is the sum of their componentwise products\n",
    "    Args:\n",
    "        v: vector\n",
    "        w: vector\n",
    "    retrun:\n",
    "        sum of their componentwise products: v_1*w_1 + ... + v_n*w_n\n",
    "    \"\"\"\n",
    "    return sum(v_i*w_i for v_i, w_i in zip(v,w))"
   ]
  },
  {
   "cell_type": "markdown",
   "metadata": {},
   "source": [
    "## user based collaborative filtering\n"
   ]
  },
  {
   "cell_type": "code",
   "execution_count": 37,
   "metadata": {},
   "outputs": [],
   "source": [
    "# cosine similarity\n",
    "# similar users will mean users interests vector most nearly point in the same direction\n",
    "# range of [0: with no identical interest, 1 all interests are same]\n",
    "\n",
    "# it measures the angle btw v and w\n",
    "# v[i] would be 1 if user specified ith interest, otherwise 0\n",
    "def cosine_similarity(v, w):\n",
    "    return dot(v, w) / math.sqrt(dot(v, v) * dot(w, w))"
   ]
  },
  {
   "cell_type": "code",
   "execution_count": 38,
   "metadata": {},
   "outputs": [],
   "source": [
    "# step 1: collect all interests and assign indices to them\n",
    "# use set comprehension to find the unique interest - put in a list - and sort\n",
    "users_interest = [] # list of lists\n",
    "unique_interests = sorted(list({\n",
    "    interest\n",
    "    for user_interest in users_interest\n",
    "    for interest in user_interest\n",
    "}))"
   ]
  },
  {
   "cell_type": "code",
   "execution_count": 49,
   "metadata": {},
   "outputs": [],
   "source": [
    "# step 2: produce 0s and 1s interest vector for each user\n",
    "def make_user_interest_vector(user_interests):\n",
    "    \"\"\"given a list of interests, produce a vector whose ith element\n",
    "    is 1 if unique_interests[i] is in the list, 0 otherwise\"\"\"\n",
    "    return [1 if interest in user_interests else 0 for interest in unique_interests]\n",
    "        "
   ]
  },
  {
   "cell_type": "code",
   "execution_count": 50,
   "metadata": {},
   "outputs": [],
   "source": [
    "# step 3: create a matrix of user interests simply by mapping this func\n",
    "# to the list of user_interests\n",
    "# user_interst_matrix[i][j] equals 1 if user i specified interest j, 0 otherwise\n",
    "\n",
    "user_interst_matrix = map(make_user_interest_vector, user_interests)"
   ]
  },
  {
   "cell_type": "code",
   "execution_count": 53,
   "metadata": {},
   "outputs": [
    {
     "ename": "ZeroDivisionError",
     "evalue": "float division by zero",
     "output_type": "error",
     "traceback": [
      "\u001b[0;31m---------------------------------------------------------------------------\u001b[0m",
      "\u001b[0;31mZeroDivisionError\u001b[0m                         Traceback (most recent call last)",
      "\u001b[0;32m<ipython-input-53-43034d538819>\u001b[0m in \u001b[0;36m<module>\u001b[0;34m\u001b[0m\n\u001b[1;32m      2\u001b[0m user_similaritites = [[cosine_similarity(interest_vector_i, interest_vector_j)\n\u001b[1;32m      3\u001b[0m     for interest_vector_j in user_interst_matrix]\n\u001b[0;32m----> 4\u001b[0;31m     for interest_vector_i in user_interst_matrix]\n\u001b[0m",
      "\u001b[0;32m<ipython-input-53-43034d538819>\u001b[0m in \u001b[0;36m<listcomp>\u001b[0;34m(.0)\u001b[0m\n\u001b[1;32m      2\u001b[0m user_similaritites = [[cosine_similarity(interest_vector_i, interest_vector_j)\n\u001b[1;32m      3\u001b[0m     for interest_vector_j in user_interst_matrix]\n\u001b[0;32m----> 4\u001b[0;31m     for interest_vector_i in user_interst_matrix]\n\u001b[0m",
      "\u001b[0;32m<ipython-input-53-43034d538819>\u001b[0m in \u001b[0;36m<listcomp>\u001b[0;34m(.0)\u001b[0m\n\u001b[1;32m      1\u001b[0m \u001b[0;31m# step 4: compute pairwise similarities btw all of the users\u001b[0m\u001b[0;34m\u001b[0m\u001b[0;34m\u001b[0m\u001b[0m\n\u001b[1;32m      2\u001b[0m user_similaritites = [[cosine_similarity(interest_vector_i, interest_vector_j)\n\u001b[0;32m----> 3\u001b[0;31m     for interest_vector_j in user_interst_matrix]\n\u001b[0m\u001b[1;32m      4\u001b[0m     for interest_vector_i in user_interst_matrix]\n",
      "\u001b[0;32m<ipython-input-37-3a33db05480a>\u001b[0m in \u001b[0;36mcosine_similarity\u001b[0;34m(v, w)\u001b[0m\n\u001b[1;32m      7\u001b[0m \u001b[0;31m# v[i] would be 1 if user specified ith interest, otherwise 0\u001b[0m\u001b[0;34m\u001b[0m\u001b[0;34m\u001b[0m\u001b[0m\n\u001b[1;32m      8\u001b[0m \u001b[0;32mdef\u001b[0m \u001b[0mcosine_similarity\u001b[0m\u001b[0;34m(\u001b[0m\u001b[0mv\u001b[0m\u001b[0;34m,\u001b[0m \u001b[0mw\u001b[0m\u001b[0;34m)\u001b[0m\u001b[0;34m:\u001b[0m\u001b[0;34m\u001b[0m\u001b[0m\n\u001b[0;32m----> 9\u001b[0;31m     \u001b[0;32mreturn\u001b[0m \u001b[0mdot\u001b[0m\u001b[0;34m(\u001b[0m\u001b[0mv\u001b[0m\u001b[0;34m,\u001b[0m \u001b[0mw\u001b[0m\u001b[0;34m)\u001b[0m \u001b[0;34m/\u001b[0m \u001b[0mmath\u001b[0m\u001b[0;34m.\u001b[0m\u001b[0msqrt\u001b[0m\u001b[0;34m(\u001b[0m\u001b[0mdot\u001b[0m\u001b[0;34m(\u001b[0m\u001b[0mv\u001b[0m\u001b[0;34m,\u001b[0m \u001b[0mv\u001b[0m\u001b[0;34m)\u001b[0m \u001b[0;34m*\u001b[0m \u001b[0mdot\u001b[0m\u001b[0;34m(\u001b[0m\u001b[0mw\u001b[0m\u001b[0;34m,\u001b[0m \u001b[0mw\u001b[0m\u001b[0;34m)\u001b[0m\u001b[0;34m)\u001b[0m\u001b[0;34m\u001b[0m\u001b[0m\n\u001b[0m",
      "\u001b[0;31mZeroDivisionError\u001b[0m: float division by zero"
     ]
    }
   ],
   "source": [
    "# step 4: compute pairwise similarities btw all of the users\n",
    "user_similaritites = [[cosine_similarity(interest_vector_i, interest_vector_j)\n",
    "    for interest_vector_j in user_interst_matrix]\n",
    "    for interest_vector_i in user_interst_matrix]"
   ]
  },
  {
   "cell_type": "code",
   "execution_count": 61,
   "metadata": {},
   "outputs": [],
   "source": [
    "user_similarities = []\n",
    "def most_similar_user_to(user_id):\n",
    "    # find other users with non-zero similarity\n",
    "    pairs = [(other_user_id, similarity) \n",
    "             for other_user_id, similarity in enumerate(user_similarities[user_id])\n",
    "             if other_user_id != user_id and similarity > 0]\n",
    "    \n",
    "    return sorted(pairs, key= lambda x:x[1], reverse=True)"
   ]
  },
  {
   "cell_type": "code",
   "execution_count": 66,
   "metadata": {},
   "outputs": [],
   "source": [
    "import operator\n",
    "\n",
    "def user_based_suggestions(user_id, include_current_interests=False):\n",
    "    # sum up item based on user similarities \n",
    "    suggestions = defaultdict(float) # collections.defaultdict - \n",
    "    for other_user_id, similarity in most_similar_user_to(user_id):\n",
    "        for interest in users_interest[other_uer_id]:\n",
    "            suggestions[interest] += similarity\n",
    "    \n",
    "    # convert similarities to a sorted list\n",
    "    suggestions = sorted(suggestions.items(), key=operator.itemgetter(1), reverse=True ) # dict is not sortable\n",
    "    # exclude already-have interests\n",
    "    if include_current_interests:\n",
    "        return suggestions\n",
    "    # return suggestions (sorted items)\n",
    "    else:\n",
    "        # list of tuples\n",
    "        return [(suggestion, weight) \n",
    "                for suggestion, weight in suggestions\n",
    "                if suggestion not in users_interest[user_id]] # only if an item not an interest of this user"
   ]
  },
  {
   "cell_type": "markdown",
   "metadata": {},
   "source": [
    "## Item based Collaborative Filtering"
   ]
  },
  {
   "cell_type": "code",
   "execution_count": 73,
   "metadata": {},
   "outputs": [],
   "source": [
    "# generate suggestions for each user by aggregating interests that\n",
    "# are similar to his current interests\n",
    "\n",
    "# rows: interest, cols: user\n",
    "interest_user_matrix = [[user_interest_vector[j]\n",
    "                         for user_interest_vector in user_interest_matrix]\n",
    "                         for j, _ in enumerate(unique_interests)]\n",
    "# row j of interest_user_matrix is column j of user_interest_matrix\n",
    "# 1 for each user with that interst, 0 for user without that interest\n",
    "\n",
    "# if precisely the same users are interested in two topics, their similaritites will be one\n",
    "# if no two users are interested in both topics, their similarity are 0\n",
    "\n",
    "interest_similarities = [[cosine_similarity(user_vector_i, user_vector_j)\n",
    "                          for user_vector_i in interest_user_matrix]\n",
    "                          for user_vector_j in interest_user_matrix]"
   ]
  },
  {
   "cell_type": "code",
   "execution_count": 77,
   "metadata": {},
   "outputs": [],
   "source": [
    "def most_similar_interests_to(interest_id):\n",
    "    similarities = interest_similarities[interest_id]\n",
    "    \n",
    "    pairs = [(unique_interests[other_interest_id], similarity)\n",
    "             for other_interest_id, similarity in enumerate(similarities)\n",
    "             if other_interest_id != interest_id and similarity > 0]\n",
    "    \n",
    "    return sorted(pairs, key=operator.itemgetter(1), reverse=True)"
   ]
  },
  {
   "cell_type": "code",
   "execution_count": null,
   "metadata": {},
   "outputs": [],
   "source": [
    "def item_based_suggestions(user_id, include_current_interest=False):\n",
    "    # add up the similar interests\n",
    "    suggestions = defaultdict(float)\n",
    "    user_interest_vector = user_interest_matrix[user_id]\n",
    "    for interest_id, if_interested in enumerate(user_interest_vector):\n",
    "        if if_interested == 1:\n",
    "            similar_interests = most_similar_interests_to(interest_id)\n",
    "            for interest, similarity in similar_interests:\n",
    "                suggestions[interest] += similarity\n",
    "                \n",
    "    # sort interests by similarity - sort the dict by similarity, return list\n",
    "    suggestions = sorted(suggestions.items(), key=operator.itemgetter(1), reverse=True)\n",
    "    \n",
    "    # preclude already-have interests\n",
    "    if include_current_interest:\n",
    "        return suggestions\n",
    "    # return suggestions\n",
    "    else:\n",
    "        return [(suggestion, weight) \n",
    "                for suggestion, weight in suggestions\n",
    "                if suggestion not in users_interest[user_id]]"
   ]
  },
  {
   "cell_type": "code",
   "execution_count": null,
   "metadata": {},
   "outputs": [],
   "source": []
  },
  {
   "cell_type": "code",
   "execution_count": null,
   "metadata": {},
   "outputs": [],
   "source": []
  },
  {
   "cell_type": "code",
   "execution_count": null,
   "metadata": {},
   "outputs": [],
   "source": []
  },
  {
   "cell_type": "code",
   "execution_count": null,
   "metadata": {},
   "outputs": [],
   "source": []
  },
  {
   "cell_type": "code",
   "execution_count": null,
   "metadata": {},
   "outputs": [],
   "source": []
  },
  {
   "cell_type": "code",
   "execution_count": null,
   "metadata": {},
   "outputs": [],
   "source": []
  },
  {
   "cell_type": "code",
   "execution_count": null,
   "metadata": {},
   "outputs": [],
   "source": []
  },
  {
   "cell_type": "code",
   "execution_count": null,
   "metadata": {},
   "outputs": [],
   "source": []
  },
  {
   "cell_type": "code",
   "execution_count": null,
   "metadata": {},
   "outputs": [],
   "source": []
  },
  {
   "cell_type": "code",
   "execution_count": null,
   "metadata": {},
   "outputs": [],
   "source": []
  }
 ],
 "metadata": {
  "kernelspec": {
   "display_name": "Python 3",
   "language": "python",
   "name": "python3"
  },
  "language_info": {
   "codemirror_mode": {
    "name": "ipython",
    "version": 3
   },
   "file_extension": ".py",
   "mimetype": "text/x-python",
   "name": "python",
   "nbconvert_exporter": "python",
   "pygments_lexer": "ipython3",
   "version": "3.6.6"
  }
 },
 "nbformat": 4,
 "nbformat_minor": 2
}
